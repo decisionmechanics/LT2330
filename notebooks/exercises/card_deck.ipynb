{
 "cells": [
  {
   "cell_type": "markdown",
   "id": "bf500c41-cbd7-461f-91db-16c89fbb4cb2",
   "metadata": {},
   "source": [
    "# Card deck"
   ]
  },
  {
   "cell_type": "markdown",
   "id": "17b34566-530e-40bc-9242-88ff6c210ad4",
   "metadata": {},
   "source": [
    "## Objective"
   ]
  },
  {
   "cell_type": "markdown",
   "id": "db57f147-494d-40f5-839b-d94afe6542e0",
   "metadata": {},
   "source": [
    "Implement a number of functions that simulate a card deck.\n",
    "\n",
    "We will implement functions to\n",
    "\n",
    "- Create a deck of 52 cards\n",
    "- Shuffle a deck\n",
    "- Deal a (poker) hand of 5 cards from the deck\n",
    "- Check if a hand is a pair"
   ]
  },
  {
   "cell_type": "markdown",
   "id": "e6a662cb-0506-48dd-86d3-800be4207ded",
   "metadata": {
    "tags": []
   },
   "source": [
    "## Create a new app"
   ]
  },
  {
   "cell_type": "markdown",
   "id": "8ed7eea1-ba31-4c1c-ab8e-89fc4284a197",
   "metadata": {
    "tags": []
   },
   "source": [
    "Create a new app called `card_deck` and open it."
   ]
  },
  {
   "cell_type": "markdown",
   "id": "e18f169b-9c5c-4218-8e5a-0e97f2a32a84",
   "metadata": {
    "tags": []
   },
   "source": [
    "#### <font color=\"green\">_Solution_</font>"
   ]
  },
  {
   "cell_type": "raw",
   "id": "6a9c1d84-37d0-4049-9de7-7a364ba9f3ab",
   "metadata": {
    "jupyter": {
     "source_hidden": true
    },
    "tags": []
   },
   "source": [
    "cargo new card_deck\n",
    "cd card_deck\n",
    "code ."
   ]
  },
  {
   "cell_type": "markdown",
   "id": "257b148c-6e38-41a5-9903-47f00160d1bf",
   "metadata": {},
   "source": [
    "## Add dependencies"
   ]
  },
  {
   "cell_type": "markdown",
   "id": "042645f9-41d8-4b48-932f-308a1c19a37a",
   "metadata": {},
   "source": [
    "We'll take a dependency on three additional crates in this app.\n",
    "\n",
    "- `rand` (0.8.4)\n",
    "- `strum` (0.23)\n",
    "- `strum_macros` (0.23)\n",
    "\n",
    "`rand` will allow us to (randomly) shuffle the deck. \n",
    "\n",
    "`strum` (and `strum_macros`) will allow us to loop/iterate over variants of an enum. This will be useful when we are creating a deck.\n",
    "\n",
    "Add the dependencies to the `Cargo.toml` file."
   ]
  },
  {
   "cell_type": "markdown",
   "id": "6b4d74c5-5b8b-45c6-86b9-8588c8e4fa01",
   "metadata": {
    "tags": []
   },
   "source": [
    "#### <font color=\"green\">_Solution_</font>"
   ]
  },
  {
   "cell_type": "raw",
   "id": "4bd5fe2b-6a22-49b6-abcc-9a5f88d9ffc2",
   "metadata": {
    "jupyter": {
     "source_hidden": true
    },
    "tags": []
   },
   "source": [
    "[dependencies]\n",
    "rand = \"0.8.4\"\n",
    "strum = \"0.23\"\n",
    "strum_macros = \"0.23\""
   ]
  },
  {
   "cell_type": "markdown",
   "id": "d9b6a945-0427-4350-b4a4-a74b68366b27",
   "metadata": {},
   "source": [
    "## Create a struct to represent a card"
   ]
  },
  {
   "cell_type": "markdown",
   "id": "2b42c6cc-89ea-4ec1-8c09-ac3ec425b137",
   "metadata": {},
   "source": [
    "Cards have a suit and a value. We'll create enums for each and then use them to build a card struct."
   ]
  },
  {
   "cell_type": "markdown",
   "id": "13340816-f2fb-4027-80ab-83bfcf3639b9",
   "metadata": {},
   "source": [
    "Create a `Suit` enum with variants for each of the four playing card suits (clubs, diamonds, hearts, spades).\n",
    "\n",
    "Add a `#[derive(Copy, Clone, EnumIter)]` attribute to `Suit` to support copy semantics and iteration. These will be required later in the code."
   ]
  },
  {
   "cell_type": "markdown",
   "id": "3b5afb6d-01fc-4b6c-8e45-ee30a588b2ac",
   "metadata": {
    "tags": []
   },
   "source": [
    "#### <font color=\"green\">_Solution_</font>"
   ]
  },
  {
   "cell_type": "code",
   "execution_count": null,
   "id": "d7859695-6cc3-4da8-94b1-baab199af3ac",
   "metadata": {
    "jupyter": {
     "source_hidden": true
    },
    "tags": []
   },
   "outputs": [],
   "source": [
    "use strum_macros::EnumIter;\n",
    "\n",
    "#[derive(Copy, Clone, EnumIter)]\n",
    "enum Suit {\n",
    "    Clubs,\n",
    "    Diamonds,\n",
    "    Hearts,\n",
    "    Spades,\n",
    "}"
   ]
  },
  {
   "cell_type": "markdown",
   "id": "c056a408-aa29-4596-84a9-b23e00313361",
   "metadata": {},
   "source": [
    "Create a `Value` enum to represent the value of the card. This should have variants for \n",
    "\n",
    "- Numbered cards (2-10)\n",
    "- Jacks\n",
    "- Queens\n",
    "- Kings\n",
    "- Aces\n",
    "\n",
    "Add a `#[derive(Copy, Clone, PartialEq, Eq, Hash)]` to support copy semantics and comparisons. These will be required later in the code."
   ]
  },
  {
   "cell_type": "markdown",
   "id": "0a17547f-2c8c-4ea5-a3ad-4e3349818886",
   "metadata": {
    "tags": []
   },
   "source": [
    "#### <font color=\"green\">_Solution_</font>"
   ]
  },
  {
   "cell_type": "code",
   "execution_count": null,
   "id": "397a6c33-f12c-4b40-b0e6-a7cf14873639",
   "metadata": {
    "jupyter": {
     "source_hidden": true
    },
    "tags": []
   },
   "outputs": [],
   "source": [
    "#[derive(Copy, Clone, PartialEq, Eq, Hash)]\n",
    "enum Value {\n",
    "    Number(u32),\n",
    "    Jack,\n",
    "    Queen,\n",
    "    King,\n",
    "    Ace,\n",
    "}"
   ]
  },
  {
   "cell_type": "markdown",
   "id": "f6179ad1-b16d-4211-bdec-f8abc4a9f678",
   "metadata": {},
   "source": [
    "Use the `Suit` and `Value` enums to define a `Card` struct."
   ]
  },
  {
   "cell_type": "markdown",
   "id": "f4662c2b-a932-45aa-84c4-fba459f3e629",
   "metadata": {
    "tags": []
   },
   "source": [
    "#### <font color=\"green\">_Solution_</font>"
   ]
  },
  {
   "cell_type": "code",
   "execution_count": null,
   "id": "2f21b922-84ff-4676-98e8-6bc15ae094e6",
   "metadata": {
    "jupyter": {
     "source_hidden": true
    },
    "tags": []
   },
   "outputs": [],
   "source": [
    "#[allow(dead_code)]\n",
    "struct Card {\n",
    "    suit: Suit,\n",
    "    value: Value,\n",
    "}"
   ]
  },
  {
   "cell_type": "markdown",
   "id": "027be964-5ce1-4dcb-a5e0-0c1078ffe04a",
   "metadata": {},
   "source": [
    "We won't be reading the suit of the card in our app, which will result in a dead code warning. This won't stop the app from working, but you can suppress it by adding a `#[allow(dead_code)]` attribute to the `Card` struct."
   ]
  },
  {
   "cell_type": "markdown",
   "id": "547d6d43-c970-40ec-9c04-ef2cfbe9e874",
   "metadata": {},
   "source": [
    "## Create a new deck"
   ]
  },
  {
   "cell_type": "markdown",
   "id": "7071aece-13ec-4267-b31f-4d80909c3060",
   "metadata": {},
   "source": [
    "We can loop through the variants of the `Suit` enum as follows."
   ]
  },
  {
   "cell_type": "code",
   "execution_count": null,
   "id": "6ce90a83-d72e-4716-af4b-0f8ae8274c72",
   "metadata": {},
   "outputs": [],
   "source": [
    "for suit in Suit::iter() {}"
   ]
  },
  {
   "cell_type": "markdown",
   "id": "186626e3-e6e9-4d33-b8ae-c64d0b263d13",
   "metadata": {},
   "source": [
    "The numbered cards (2-10) can be enumerated using a standard `for` loop. For simplicity, it's easier to add Jack, Queens, Kings and Ace separately."
   ]
  },
  {
   "cell_type": "markdown",
   "id": "84608b6f-6bf8-4278-b620-655e589ea443",
   "metadata": {},
   "source": [
    "Write a `create_deck` function that will generate a valid deck of 52 cards (as a `Vec<Card>`)."
   ]
  },
  {
   "cell_type": "markdown",
   "id": "48a2fbb4-5874-420b-b520-c44e1b4ff799",
   "metadata": {
    "tags": []
   },
   "source": [
    "#### <font color=\"green\">_Solution_</font>"
   ]
  },
  {
   "cell_type": "code",
   "execution_count": null,
   "id": "b15cc252-a8d1-4ecd-9e66-283b2955b4a6",
   "metadata": {
    "jupyter": {
     "source_hidden": true
    },
    "tags": []
   },
   "outputs": [],
   "source": [
    "fn create_deck() -> Vec<Card> {\n",
    "    let mut deck = Vec::new();\n",
    "\n",
    "    for suit in Suit::iter() {\n",
    "        for i in 2..=10 {\n",
    "            deck.push(Card {\n",
    "                suit,\n",
    "                value: Value::Number(i),\n",
    "            });\n",
    "        }\n",
    "    }\n",
    "\n",
    "    for suit in Suit::iter() {\n",
    "        deck.push(Card {\n",
    "            suit,\n",
    "            value: Value::Jack,\n",
    "        });\n",
    "\n",
    "        deck.push(Card {\n",
    "            suit,\n",
    "            value: Value::Queen,\n",
    "        });\n",
    "\n",
    "        deck.push(Card {\n",
    "            suit,\n",
    "            value: Value::King,\n",
    "        });\n",
    "\n",
    "        deck.push(Card {\n",
    "            suit,\n",
    "            value: Value::Ace,\n",
    "        });\n",
    "    }\n",
    "\n",
    "    deck\n",
    "}"
   ]
  },
  {
   "cell_type": "markdown",
   "id": "28a855ea-f38c-4339-88d8-942ee33b7ef0",
   "metadata": {},
   "source": [
    "## Shuffle a deck"
   ]
  },
  {
   "cell_type": "markdown",
   "id": "15af206b-ec4e-4197-9c31-3ab6673a010a",
   "metadata": {},
   "source": [
    "The `rand` crate allows us to shuffle a vector/slice."
   ]
  },
  {
   "cell_type": "code",
   "execution_count": null,
   "id": "21847bb6-84d7-41a6-9cc1-9c5f9f9e61ad",
   "metadata": {},
   "outputs": [],
   "source": [
    "fn shuffle_deck(deck: &mut [Card]) {\n",
    "    deck.shuffle(&mut thread_rng());\n",
    "}"
   ]
  },
  {
   "cell_type": "markdown",
   "id": "ea6ad228-459b-475c-aa0f-eae4a0f76116",
   "metadata": {
    "tags": []
   },
   "source": [
    "Notice that we are passing a `Card` slice to `shuffle_deck`---not a `Vec<Card>`. This is because we don't want to transfer ownership of the deck. You will see how we pass a `Vec` to this function later in the exercise."
   ]
  },
  {
   "cell_type": "markdown",
   "id": "a687ed6f-e7e6-4e14-9def-3d14f73fd4b2",
   "metadata": {},
   "source": [
    "## Deal a five-card hand"
   ]
  },
  {
   "cell_type": "markdown",
   "id": "641f2422-bc8a-44af-a299-50ed5175e1c0",
   "metadata": {
    "tags": []
   },
   "source": [
    "This function will take a deck of cards (`Vec<Card>`) and return _two_ `Vec<Card>`s. One will be a hand and the other is the remaining deck.\n",
    "\n",
    "As we'll be returning a new (remaining) deck, we don't care if the function owns the original deck.\n",
    "\n",
    "To remove a value from a vector we can use `deck.pop().unwrap()`."
   ]
  },
  {
   "cell_type": "markdown",
   "id": "21c153cc-8739-4406-aa3d-e0bd80325a4a",
   "metadata": {
    "tags": []
   },
   "source": [
    "Create a `deal_hand` function that takes a deck (`Vec<Card>`) and returns a tuple containing the five cards from the top of the original deck and the (five cards short) remaining deck."
   ]
  },
  {
   "cell_type": "markdown",
   "id": "49aa91c1-0c9a-4692-b543-7d19d7b9b1b3",
   "metadata": {
    "tags": []
   },
   "source": [
    "#### <font color=\"green\">_Solution_</font>"
   ]
  },
  {
   "cell_type": "code",
   "execution_count": null,
   "id": "51e65b68-35f1-4f93-9b40-1af8b0ba177c",
   "metadata": {
    "jupyter": {
     "source_hidden": true
    },
    "tags": []
   },
   "outputs": [],
   "source": [
    "fn deal_hand(mut deck: Vec<Card>) -> (Vec<Card>, Vec<Card>) {\n",
    "    let mut hand = Vec::new();\n",
    "\n",
    "    for _ in 0..5 {\n",
    "        hand.push(deck.pop().unwrap());\n",
    "    }\n",
    "\n",
    "    (hand, deck)\n",
    "}"
   ]
  },
  {
   "cell_type": "markdown",
   "id": "8285ab91-b002-48d0-ae51-000aeae5b623",
   "metadata": {},
   "source": [
    "## Identify a poker pair"
   ]
  },
  {
   "cell_type": "markdown",
   "id": "2633f0ba-b04a-44d8-9237-de1986d65dd9",
   "metadata": {},
   "source": [
    "In poker, a pair is a hand where you have two cards of the same value, but nothing better. We can going to write a function to confirm that a hand is at _least_ a pair.\n",
    "\n",
    "If we implemented check for _all_ types of hands, we could then pick the most valuable hand as the true value, but that's outside the scope of this exercise.\n",
    "\n",
    "There are a number of ways we can check this. One way is to build a hash map that counts all the unique values in the hand. Then, if any of the entries in the hash map has a count of two or more, we have at least a pair."
   ]
  },
  {
   "cell_type": "markdown",
   "id": "73e6f1d2-58b8-4f38-848c-c21431445317",
   "metadata": {
    "tags": []
   },
   "source": [
    "Write a `has_pair` function that takes a `Card` slice and returns a `bool` denoting if the hand contains at least a pair."
   ]
  },
  {
   "cell_type": "markdown",
   "id": "a14e2d35-8bf4-4948-9392-12cd79f71a56",
   "metadata": {
    "tags": []
   },
   "source": [
    "#### <font color=\"green\">_Solution_</font>"
   ]
  },
  {
   "cell_type": "code",
   "execution_count": null,
   "id": "abbcb202-4f96-4b6b-9947-a897e5e9dba3",
   "metadata": {
    "jupyter": {
     "source_hidden": true
    },
    "tags": []
   },
   "outputs": [],
   "source": [
    "fn has_pair(hand: &[Card]) -> bool {\n",
    "    let mut counts = HashMap::new();\n",
    "\n",
    "    for card in hand {\n",
    "        *counts.entry(card.value).or_insert(0) += 1;\n",
    "    }\n",
    "\n",
    "    for (_, count) in counts {\n",
    "        if count >= 2 {\n",
    "            return true;\n",
    "        }\n",
    "    }\n",
    "\n",
    "    false\n",
    "}"
   ]
  },
  {
   "cell_type": "markdown",
   "id": "5c2960e5-516d-464d-8318-d971c1af0fe5",
   "metadata": {},
   "source": [
    "## Test the card deck functions"
   ]
  },
  {
   "cell_type": "markdown",
   "id": "ae2537f6-e3d1-4a77-bbcb-7a47a97cb3fb",
   "metadata": {},
   "source": [
    "Time to pull it all together. In the `main` function implement the following.\n",
    "\n",
    "- Create a mutable `deck`\n",
    "- Shuffle the deck (passing in `deck.as_mut_slice()`)\n",
    "- Deal a `hand`, and assign the remaining deck to `deck` (passing in `hand.as_slice()`)\n",
    "- Display the number of cards in the hand (i.e. 5)\n",
    "- Display whether the hand contains a pair\n",
    "- Display the number of cards remaining in the deck (i.e. 47)"
   ]
  },
  {
   "cell_type": "markdown",
   "id": "678e3c86-911a-4f8f-95d1-c745f6c125c3",
   "metadata": {
    "tags": []
   },
   "source": [
    "#### <font color=\"green\">_Solution_</font>"
   ]
  },
  {
   "cell_type": "code",
   "execution_count": null,
   "id": "ad1cecf9-8456-4733-aeb7-83a7fc9805e6",
   "metadata": {
    "jupyter": {
     "source_hidden": true
    },
    "tags": []
   },
   "outputs": [],
   "source": [
    "fn main() {\n",
    "    let mut deck = create_deck();\n",
    "\n",
    "    shuffle_deck(deck.as_mut_slice());\n",
    "\n",
    "    let (hand, deck) = deal_hand(deck);\n",
    "\n",
    "    println!(\"# cards in hand is {}\", hand.len());\n",
    "    println!(\"Pair? {}\", has_pair(hand.as_slice()));\n",
    "    println!(\"# cards remaining in deck is {}\", deck.len());\n",
    "}"
   ]
  },
  {
   "cell_type": "markdown",
   "id": "3d8324d0-3b84-4af7-96ba-4f5a9769b260",
   "metadata": {
    "tags": []
   },
   "source": [
    "## Build and run the app"
   ]
  },
  {
   "cell_type": "markdown",
   "id": "9a523f27-5a4c-4f28-8183-f40779590f62",
   "metadata": {
    "tags": []
   },
   "source": [
    "#### <font color=\"green\">_Solution_</font>"
   ]
  },
  {
   "cell_type": "raw",
   "id": "610d0ef4-8f4d-426f-bf58-6f24a42d77bf",
   "metadata": {
    "jupyter": {
     "source_hidden": true
    },
    "tags": []
   },
   "source": [
    "cargo run"
   ]
  },
  {
   "cell_type": "markdown",
   "id": "08232057-60ff-41c2-b28d-d26df1275a5b",
   "metadata": {
    "tags": []
   },
   "source": [
    "Run the app a number of times and see if you can draw hands that contain and don't contain pairs."
   ]
  },
  {
   "cell_type": "markdown",
   "id": "7a8133a9-d2b9-4fe0-85e0-98a25574a3ac",
   "metadata": {},
   "source": [
    "## Congratulations"
   ]
  },
  {
   "cell_type": "markdown",
   "id": "df8cf5e9-7029-4518-884e-4f22f4b1951d",
   "metadata": {
    "tags": []
   },
   "source": [
    "You have written an app that simulates a card deck."
   ]
  }
 ],
 "metadata": {
  "kernelspec": {
   "display_name": "Rust",
   "language": "rust",
   "name": "rust"
  },
  "language_info": {
   "codemirror_mode": "rust",
   "file_extension": ".rs",
   "mimetype": "text/rust",
   "name": "Rust",
   "pygment_lexer": "rust",
   "version": ""
  }
 },
 "nbformat": 4,
 "nbformat_minor": 5
}
