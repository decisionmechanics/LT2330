{
 "cells": [
  {
   "cell_type": "markdown",
   "id": "4cf10a4c-81b3-487f-b335-a46f972df93f",
   "metadata": {},
   "source": [
    "![Learning Tree logo](images/logo.png)"
   ]
  },
  {
   "cell_type": "markdown",
   "id": "275cee7c-7e86-42bf-b900-a5c144a896c7",
   "metadata": {},
   "source": [
    "# Hi-Lo refactored to modules"
   ]
  },
  {
   "cell_type": "markdown",
   "id": "70b2f13e-3d81-44e2-806e-5207818728a3",
   "metadata": {},
   "source": [
    "## Objective"
   ]
  },
  {
   "cell_type": "markdown",
   "id": "a1c9d841-3cf9-4b1c-99dc-bdc6a0fb6fa3",
   "metadata": {},
   "source": [
    "Refactor the Hi-Lo game we created in a previous exercise to place the game engine in a separate module."
   ]
  },
  {
   "cell_type": "markdown",
   "id": "c262b6aa-7516-49ae-8a8f-b729d19f6dd8",
   "metadata": {
    "tags": []
   },
   "source": [
    "## Create a new app"
   ]
  },
  {
   "cell_type": "markdown",
   "id": "994a1ef3-c6f5-49cd-999d-fd3137ef439e",
   "metadata": {
    "tags": []
   },
   "source": [
    "Create a new app called `hi-lo_modules` and open it."
   ]
  },
  {
   "cell_type": "markdown",
   "id": "a17abc00-e4ec-4aef-94e9-e5d115142e9a",
   "metadata": {
    "tags": []
   },
   "source": [
    "#### <font color=\"green\">_Solution_</font>"
   ]
  },
  {
   "cell_type": "raw",
   "id": "11765af8-dbb1-4011-9460-055f3d9525c1",
   "metadata": {
    "jupyter": {
     "source_hidden": true
    },
    "tags": []
   },
   "source": [
    "cargo new hi-lo_modules\n",
    "cd hi-lo_modules\n",
    "code ."
   ]
  },
  {
   "cell_type": "markdown",
   "id": "a1846b42-59e9-4d2c-a990-268a5c1469aa",
   "metadata": {},
   "source": [
    "## Review the existing code"
   ]
  },
  {
   "cell_type": "markdown",
   "id": "537785e5-8b77-49e4-a9da-2283cd9c37da",
   "metadata": {},
   "source": [
    "The existing implementation is all contained within a single source file---mixing the game engine with the UI."
   ]
  },
  {
   "cell_type": "code",
   "execution_count": null,
   "id": "dd5dd7b6-3863-4b81-9ce4-d89af1335d5a",
   "metadata": {},
   "outputs": [],
   "source": [
    "use rand::Rng;\n",
    "use std::io;\n",
    "\n",
    "fn get_secret() -> u32 {\n",
    "    rand::thread_rng().gen_range(1..101)\n",
    "}\n",
    "\n",
    "#[derive(PartialEq)]\n",
    "enum GuessStatus {\n",
    "    Uninitialized,\n",
    "    TooLow,\n",
    "    TooHigh,\n",
    "    Exact,\n",
    "}\n",
    "\n",
    "struct HiLo {\n",
    "    secret: u32,\n",
    "    attempts: u32,\n",
    "}\n",
    "\n",
    "impl HiLo {\n",
    "    fn new() -> HiLo {\n",
    "        let hi_lo = HiLo {\n",
    "            secret: get_secret(),\n",
    "            attempts: 0,\n",
    "        };\n",
    "\n",
    "        hi_lo\n",
    "    }\n",
    "\n",
    "    fn make_guess(&mut self, guess: u32) -> GuessStatus {\n",
    "        self.attempts += 1;\n",
    "\n",
    "        if guess < self.secret {\n",
    "            GuessStatus::TooLow\n",
    "        } else if guess > self.secret {\n",
    "            GuessStatus::TooHigh\n",
    "        } else {\n",
    "            GuessStatus::Exact\n",
    "        }\n",
    "    }\n",
    "}\n",
    "\n",
    "fn read_guess() -> u32 {\n",
    "    println!(\"What number between 1 and 100 am I thinking of?\");\n",
    "\n",
    "    let mut s = String::new();\n",
    "\n",
    "    io::stdin()\n",
    "        .read_line(&mut s)\n",
    "        .expect(\"Failed to read from input\");\n",
    "\n",
    "    s.trim().parse::<u32>().unwrap()\n",
    "}\n",
    "\n",
    "fn main() {\n",
    "    let mut hi_lo = HiLo::new();\n",
    "\n",
    "    let mut guess_status = GuessStatus::Uninitialized;\n",
    "\n",
    "    while guess_status != GuessStatus::Exact {\n",
    "        let guess = read_guess();\n",
    "\n",
    "        guess_status = hi_lo.make_guess(guess);\n",
    "\n",
    "        match guess_status {\n",
    "            GuessStatus::TooLow => println!(\"Awww... {} is too low.\", guess),\n",
    "            GuessStatus::TooHigh => println!(\"Steady... {} is too high!\", guess),\n",
    "            _ => println!(\n",
    "                \"Congratulations! You took {} attempt(s) to guess I was thinking of {}.\",\n",
    "                hi_lo.attempts, hi_lo.secret\n",
    "            ),\n",
    "        }\n",
    "    }\n",
    "}"
   ]
  },
  {
   "cell_type": "markdown",
   "id": "712d985e-095c-45e9-8c16-dd22f0bd7fdd",
   "metadata": {},
   "source": [
    "## Add dependencies"
   ]
  },
  {
   "cell_type": "markdown",
   "id": "5f2a2caf-ae43-46eb-b737-5a963ec71cb7",
   "metadata": {},
   "source": [
    "Add the `rand` (0.8.4) crate to the list of dependencies in `Cargo.toml`."
   ]
  },
  {
   "cell_type": "markdown",
   "id": "d1d7000a-5ca0-40f2-82cf-9c190a220471",
   "metadata": {
    "tags": []
   },
   "source": [
    "#### <font color=\"green\">_Solution_</font>"
   ]
  },
  {
   "cell_type": "raw",
   "id": "b5bc405c-9bcf-45a7-81e1-8886845b8f64",
   "metadata": {
    "jupyter": {
     "source_hidden": true
    },
    "tags": []
   },
   "source": [
    "[dependencies]\n",
    "rand = \"0.8.4\""
   ]
  },
  {
   "cell_type": "markdown",
   "id": "38fe17f5-c54d-4afd-a9e6-d47f3e7de026",
   "metadata": {
    "tags": []
   },
   "source": [
    "## Create a game engine module"
   ]
  },
  {
   "cell_type": "markdown",
   "id": "af1ba6ee-0071-4aaa-96ce-35d91a425c98",
   "metadata": {},
   "source": [
    "Create a new `game.rs` in the same location as the `main.rs` file. This will contain our game engine code.\n",
    "\n",
    "Copy the following code to `game.rs`.\n",
    "\n",
    "- `rand::Rng` use declaration\n",
    "- `GuessStatus` enum\n",
    "- `HiLo` struct (including the method implementations)"
   ]
  },
  {
   "cell_type": "markdown",
   "id": "015f54f7-88a2-4c46-8ce8-827d8b421cde",
   "metadata": {
    "tags": []
   },
   "source": [
    "#### <font color=\"green\">_Solution_</font>"
   ]
  },
  {
   "cell_type": "code",
   "execution_count": null,
   "id": "cc22e1ed-cdd2-42ce-83e5-e490765792dd",
   "metadata": {
    "jupyter": {
     "source_hidden": true
    },
    "tags": []
   },
   "outputs": [],
   "source": [
    "// game.rs\n",
    "\n",
    "use rand::Rng;\n",
    "\n",
    "#[derive(PartialEq)]\n",
    "pub enum GuessStatus {\n",
    "    Uninitialized,\n",
    "    TooLow,\n",
    "    TooHigh,\n",
    "    Exact,\n",
    "}\n",
    "\n",
    "pub struct HiLo {\n",
    "    pub secret: i32,\n",
    "    pub attempts: i32,\n",
    "    last_guess: Option<i32>,\n",
    "}\n",
    "\n",
    "impl HiLo {\n",
    "    pub fn new() -> HiLo {\n",
    "        let mut hi_lo = HiLo {\n",
    "            secret: 0,\n",
    "            attempts: 0,\n",
    "            last_guess: None,\n",
    "        };\n",
    "\n",
    "        hi_lo.reset();\n",
    "\n",
    "        hi_lo\n",
    "    }\n",
    "\n",
    "    pub fn reset(&mut self) {\n",
    "        self.secret = rand::thread_rng().gen_range(1..101);\n",
    "        self.attempts = 0;\n",
    "        self.last_guess = None;\n",
    "    }\n",
    "\n",
    "    pub fn make_guess(&mut self, guess: i32) -> GuessStatus {\n",
    "        self.attempts += 1;\n",
    "        self.last_guess = Some(guess);\n",
    "\n",
    "        if guess < self.secret {\n",
    "            GuessStatus::TooLow\n",
    "        } else if guess > self.secret {\n",
    "            GuessStatus::TooHigh\n",
    "        } else {\n",
    "            GuessStatus::Exact\n",
    "        }\n",
    "    }\n",
    "}"
   ]
  },
  {
   "cell_type": "markdown",
   "id": "e7fbf0ea-a619-4b42-a08e-20ffd4a1b039",
   "metadata": {},
   "source": [
    "## Use the game engine module"
   ]
  },
  {
   "cell_type": "markdown",
   "id": "84f40dc3-85a3-4054-b179-dc44ed32888e",
   "metadata": {},
   "source": [
    "The game engine module will be used by code in `main.rs` to implement the game. `main.rs` will contain all the UI code, meaning we could re-use `game.rs` in a web-app, for example.\n",
    "\n",
    "Copy the definition of the `read_guess` function into `main.rs`---not forgetting the `std::io` use declaration it requires."
   ]
  },
  {
   "cell_type": "markdown",
   "id": "be17704b-26d5-4e21-ac65-85ace8090fbe",
   "metadata": {
    "tags": []
   },
   "source": [
    "#### <font color=\"green\">_Solution_</font>"
   ]
  },
  {
   "cell_type": "code",
   "execution_count": null,
   "id": "4f3b57ab-b239-4ab9-bfaa-2b7d783232ca",
   "metadata": {
    "jupyter": {
     "source_hidden": true
    },
    "tags": []
   },
   "outputs": [],
   "source": [
    "// Use declarations generally go at the top of the file\n",
    "use std::io;\n",
    "\n",
    "fn read_guess() -> i32 {\n",
    "    println!(\"What number between 1 and 100 am I thinking of?\");\n",
    "\n",
    "    let mut s = String::new();\n",
    "\n",
    "    io::stdin()\n",
    "        .read_line(&mut s)\n",
    "        .expect(\"Failed to read from input\");\n",
    "\n",
    "    s.trim().parse().unwrap()\n",
    "}"
   ]
  },
  {
   "cell_type": "markdown",
   "id": "8a74d96b-e2e8-4d69-bfe1-bfc83a9e28c7",
   "metadata": {},
   "source": [
    "Declare the `game` module in `main.rs`."
   ]
  },
  {
   "cell_type": "markdown",
   "id": "ce1bae77-caaf-4259-b505-a34378f5828b",
   "metadata": {
    "tags": []
   },
   "source": [
    "#### <font color=\"green\">_Solution_</font>"
   ]
  },
  {
   "cell_type": "code",
   "execution_count": null,
   "id": "da902052-e581-490e-bde1-bea53ca1a34b",
   "metadata": {
    "jupyter": {
     "source_hidden": true
    },
    "tags": []
   },
   "outputs": [],
   "source": [
    "mod game;"
   ]
  },
  {
   "cell_type": "markdown",
   "id": "27f33a53-9ebd-4c04-acf7-2d62613f32df",
   "metadata": {},
   "source": [
    "Copy the `main` function defintion to `main.rs` and update all the reference to the `HiLo` struct to include its module. "
   ]
  },
  {
   "cell_type": "markdown",
   "id": "8eeb46e2-1723-4a2b-be49-ca4600cd345e",
   "metadata": {
    "tags": []
   },
   "source": [
    "#### <font color=\"green\">_Solution_</font>"
   ]
  },
  {
   "cell_type": "code",
   "execution_count": null,
   "id": "de2b65d4-ee96-414a-8f51-b923fe4f3a02",
   "metadata": {
    "jupyter": {
     "source_hidden": true
    },
    "tags": []
   },
   "outputs": [],
   "source": [
    "fn main() {\n",
    "    let mut hi_lo = game::HiLo::new();\n",
    "\n",
    "    let mut guess_status = game::GuessStatus::Uninitialized;\n",
    "\n",
    "    while guess_status != game::GuessStatus::Exact {\n",
    "        let guess = read_guess();\n",
    "\n",
    "        guess_status = hi_lo.make_guess(guess);\n",
    "\n",
    "        match guess_status {\n",
    "            game::GuessStatus::TooLow => println!(\"Awww... {} is too low.\", guess),\n",
    "            game::GuessStatus::TooHigh => println!(\"Steady... {} is too high!\", guess),\n",
    "            _ => (),\n",
    "        }\n",
    "    }\n",
    "\n",
    "    println!(\n",
    "        \"Congratulations! You took {} attempt(s) to guess I was thinking of {}.\",\n",
    "        hi_lo.attempts, hi_lo.secret\n",
    "    );\n",
    "}"
   ]
  },
  {
   "cell_type": "markdown",
   "id": "5b478f21-0a83-4352-8aea-673da7af38f1",
   "metadata": {},
   "source": [
    "`main.rs` function should now be as follows."
   ]
  },
  {
   "cell_type": "code",
   "execution_count": null,
   "id": "64a2307a-cf88-4e21-bb90-7a5c4d6215c9",
   "metadata": {
    "jupyter": {
     "source_hidden": true
    },
    "tags": []
   },
   "outputs": [],
   "source": [
    "// main.rs\n",
    "\n",
    "use std::io;\n",
    "\n",
    "mod game;\n",
    "\n",
    "fn read_guess() -> i32 {\n",
    "    println!(\"What number between 1 and 100 am I thinking of?\");\n",
    "\n",
    "    let mut s = String::new();\n",
    "\n",
    "    io::stdin()\n",
    "        .read_line(&mut s)\n",
    "        .expect(\"Failed to read from input\");\n",
    "\n",
    "    s.trim().parse().unwrap()\n",
    "}\n",
    "\n",
    "fn main() {\n",
    "    let mut hi_lo = game::HiLo::new();\n",
    "\n",
    "    let mut guess_status = game::GuessStatus::Uninitialized;\n",
    "\n",
    "    while guess_status != game::GuessStatus::Exact {\n",
    "        let guess = read_guess();\n",
    "\n",
    "        guess_status = hi_lo.make_guess(guess);\n",
    "\n",
    "        match guess_status {\n",
    "            game::GuessStatus::TooLow => println!(\"Awww... {} is too low.\", guess),\n",
    "            game::GuessStatus::TooHigh => println!(\"Steady... {} is too high!\", guess),\n",
    "            _ => (),\n",
    "        }\n",
    "    }\n",
    "\n",
    "    println!(\n",
    "        \"Congratulations! You took {} attempt(s) to guess I was thinking of {}.\",\n",
    "        hi_lo.attempts, hi_lo.secret\n",
    "    );\n",
    "}\n"
   ]
  },
  {
   "cell_type": "markdown",
   "id": "4d3d4e95-c0eb-4ea6-b481-432d40087542",
   "metadata": {
    "tags": []
   },
   "source": [
    "## Build and run the app"
   ]
  },
  {
   "cell_type": "markdown",
   "id": "8409f3b1-88bc-4d3f-b10a-98df86e51ce8",
   "metadata": {
    "tags": []
   },
   "source": [
    "#### <font color=\"green\">_Solution_</font>"
   ]
  },
  {
   "cell_type": "raw",
   "id": "8e11518f-6611-4c4a-922a-dabe4afae1b2",
   "metadata": {
    "jupyter": {
     "source_hidden": true
    },
    "tags": []
   },
   "source": [
    "cargo run ./src/main.rs"
   ]
  },
  {
   "cell_type": "markdown",
   "id": "75d2dfd8-42f7-4dd8-ad45-b4358a25bda5",
   "metadata": {},
   "source": [
    "## Congratulations"
   ]
  },
  {
   "cell_type": "markdown",
   "id": "0ed0fbbd-28db-476b-8ace-d3c095d19ad6",
   "metadata": {},
   "source": [
    "You have refactored the Hi-Lo game to place the game engine in a separate module."
   ]
  }
 ],
 "metadata": {
  "kernelspec": {
   "display_name": "Rust",
   "language": "rust",
   "name": "rust"
  },
  "language_info": {
   "codemirror_mode": "rust",
   "file_extension": ".rs",
   "mimetype": "text/rust",
   "name": "Rust",
   "pygment_lexer": "rust",
   "version": ""
  }
 },
 "nbformat": 4,
 "nbformat_minor": 5
}
