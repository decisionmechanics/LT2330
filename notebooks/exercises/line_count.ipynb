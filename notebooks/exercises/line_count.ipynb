{
 "cells": [
  {
   "cell_type": "markdown",
   "id": "903aa109-06de-408d-a1a7-c4dfa4feff41",
   "metadata": {},
   "source": [
    "![Learning Tree logo](images/logo.png)"
   ]
  },
  {
   "cell_type": "markdown",
   "id": "a88191cc-01bd-43a3-89aa-0078ec980556",
   "metadata": {},
   "source": [
    "# Line count"
   ]
  },
  {
   "cell_type": "markdown",
   "id": "f0382425-b5b8-4f43-9265-bc529d1013e1",
   "metadata": {},
   "source": [
    "## Objective"
   ]
  },
  {
   "cell_type": "markdown",
   "id": "4a07c4a2-656f-465a-9295-78f25eba860c",
   "metadata": {},
   "source": [
    "Create a utility app that counts the number of lines in a file."
   ]
  },
  {
   "cell_type": "markdown",
   "id": "358d313f-fc56-4b0c-95ea-1fc7f3a36389",
   "metadata": {
    "tags": []
   },
   "source": [
    "## Create a new app"
   ]
  },
  {
   "cell_type": "markdown",
   "id": "ec431388-42de-466e-8079-69ceda51c12d",
   "metadata": {
    "tags": []
   },
   "source": [
    "Create a new app called `line_count` and open it."
   ]
  },
  {
   "cell_type": "markdown",
   "id": "fda659a4-7c83-4e6b-b5d4-7f37610b5c11",
   "metadata": {
    "tags": []
   },
   "source": [
    "#### <font color=\"green\">_Solution_</font>"
   ]
  },
  {
   "cell_type": "raw",
   "id": "991f05f3-a13d-4333-b13b-05ac2def18e1",
   "metadata": {
    "jupyter": {
     "source_hidden": true
    },
    "tags": []
   },
   "source": [
    "cargo new line_count\n",
    "cd line_count\n",
    "code ."
   ]
  },
  {
   "cell_type": "markdown",
   "id": "856f6ad2-2c21-4758-9384-5fefbeae616f",
   "metadata": {},
   "source": [
    "## Read the file path from the command line"
   ]
  },
  {
   "cell_type": "markdown",
   "id": "3e409e05-a2ff-4bab-aeb1-60193593e5ad",
   "metadata": {},
   "source": [
    "We'll pass the file to be read as part of the command line.\n",
    "\n",
    "To read command line parameters into a vector of strings, add the following statement (in the `main` function)."
   ]
  },
  {
   "cell_type": "code",
   "execution_count": null,
   "id": "96410da5-5957-4a12-b72f-976b6196a716",
   "metadata": {},
   "outputs": [],
   "source": [
    "// Use declarations generally go at the top of the file\n",
    "use std::env;\n",
    "\n",
    "let args: Vec<String> = env::args().collect();"
   ]
  },
  {
   "cell_type": "markdown",
   "id": "266f943e-e661-4478-b041-9edbe91805ce",
   "metadata": {
    "tags": []
   },
   "source": [
    "The first item is the path to the executable. The actual command line parameters are stored from the second item onwards.\n",
    "\n",
    "Check that the `args` contain exactly two items (i.e. one command line argument) and exit the application if they don't---displaying an informative message to the user. You can formally exit a program using `std::process:exit(<exit code>)`."
   ]
  },
  {
   "cell_type": "markdown",
   "id": "6a37a94f-9043-4ead-9ec7-1526e6b1d634",
   "metadata": {
    "tags": []
   },
   "source": [
    "#### <font color=\"green\">_Solution_</font>"
   ]
  },
  {
   "cell_type": "code",
   "execution_count": null,
   "id": "ac936c85-a750-4240-824a-a9a62487b59d",
   "metadata": {
    "jupyter": {
     "source_hidden": true
    },
    "tags": []
   },
   "outputs": [],
   "source": [
    "if args.len() != 2 {\n",
    "    println!(\"Usage: {} <file path>\", args[0]);\n",
    "\n",
    "    process::exit(0x1);\n",
    "}"
   ]
  },
  {
   "cell_type": "markdown",
   "id": "6a025039-4413-4cb8-9ee1-c73131c09d7e",
   "metadata": {},
   "source": [
    "## Count the lines "
   ]
  },
  {
   "cell_type": "markdown",
   "id": "28d176ed-6abf-41ba-ad42-5b1530f10d8e",
   "metadata": {},
   "source": [
    "The following function will count the lines in `file_path`."
   ]
  },
  {
   "cell_type": "code",
   "execution_count": null,
   "id": "867d4fcd-67c6-4cbd-8242-b641c2da977c",
   "metadata": {},
   "outputs": [],
   "source": [
    "// Use declarations generally go at the top of the file\n",
    "use std::fs::File;\n",
    "use std::io::BufRead;\n",
    "use std::io;\n",
    "\n",
    "fn count_lines(file_path: &str) -> std::io::Result<usize> {\n",
    "    let file = File::open(file_path)?;\n",
    "\n",
    "    Ok(io::BufReader::new(file).lines().count())\n",
    "}"
   ]
  },
  {
   "cell_type": "markdown",
   "id": "85cfd2a1-256c-4c6b-8e3c-d67a3fcd6f14",
   "metadata": {},
   "source": [
    "The `?` operator at the end of the `File::open` function will panic if there's a problem reading the file. \n",
    "\n",
    "If the file is successfully opened, the lines are read, counted and returned as an `Ok` variant of the `Result` enum."
   ]
  },
  {
   "cell_type": "markdown",
   "id": "59f37ad3-2380-48e2-9886-d7bb01af1ad8",
   "metadata": {},
   "source": [
    "## Display the line count"
   ]
  },
  {
   "cell_type": "markdown",
   "id": "2c9243dd-9778-4b3b-902e-8429cd04c4b6",
   "metadata": {},
   "source": [
    "Return to the `main` function and call `count_lines`---passing it `&argp[1]` (a string slice containing the supplied file path).\n",
    "\n",
    "As `count_lines` returns a `Result` enum, if will have to be deconstructed to obtain the count---and any error should be gracefully reported. Use the `if let` or `match` operators to achieve this.\n",
    "\n",
    "Display the number of lines in the file, or an appropriate error message."
   ]
  },
  {
   "cell_type": "markdown",
   "id": "3c7cc7eb-36b7-49d0-b0c9-18cbf2991575",
   "metadata": {
    "tags": []
   },
   "source": [
    "#### <font color=\"green\">_Solution_</font>"
   ]
  },
  {
   "cell_type": "code",
   "execution_count": null,
   "id": "894e7607-f9a8-4a1e-9c8f-4fcc40a98b59",
   "metadata": {
    "jupyter": {
     "source_hidden": true
    },
    "tags": []
   },
   "outputs": [],
   "source": [
    "if let Ok(line_count) = count_lines(&args[1]) {\n",
    "    println!(\"{} contains {} line(s)\", args[1], line_count);\n",
    "} else {\n",
    "    println!(\"Failed to read from {}\", args[1]);\n",
    "}"
   ]
  },
  {
   "cell_type": "markdown",
   "id": "1f706c4f-b3a2-45bd-a5a9-44c93666ec11",
   "metadata": {},
   "source": [
    "The complete `main` function should now be as follows."
   ]
  },
  {
   "cell_type": "code",
   "execution_count": null,
   "id": "4177ac1a-b8bf-4710-8e61-85fb72dd1269",
   "metadata": {
    "jupyter": {
     "source_hidden": true
    },
    "tags": []
   },
   "outputs": [],
   "source": [
    "fn main() {\n",
    "    let args: Vec<String> = env::args().collect();\n",
    "\n",
    "    if args.len() != 2 {\n",
    "        println!(\"Usage: {} <file path>\", args[0]);\n",
    "\n",
    "        process::exit(0x1);\n",
    "    }\n",
    "\n",
    "    if let Ok(line_count) = count_lines(&args[1]) {\n",
    "        println!(\"{} contains {} line(s)\", args[1], line_count);\n",
    "    } else {\n",
    "        println!(\"Failed to read from {}\", args[1]);\n",
    "    }\n",
    "}"
   ]
  },
  {
   "cell_type": "markdown",
   "id": "c715635c-65dd-4e3a-bdda-8224ad72f715",
   "metadata": {
    "tags": []
   },
   "source": [
    "## Build and run the app"
   ]
  },
  {
   "cell_type": "markdown",
   "id": "d0590d7a-2d45-4d80-af9e-124e5ce1d165",
   "metadata": {
    "tags": []
   },
   "source": [
    "#### <font color=\"green\">_Solution_</font>"
   ]
  },
  {
   "cell_type": "raw",
   "id": "59de1ba4-1f63-4d72-a099-403ede4ba5ad",
   "metadata": {
    "jupyter": {
     "source_hidden": true
    },
    "tags": []
   },
   "source": [
    "cargo run ./src/main.rs"
   ]
  },
  {
   "cell_type": "markdown",
   "id": "b6deb6cf-3603-4b8d-a088-eae495b4f027",
   "metadata": {
    "tags": []
   },
   "source": [
    "Run the app on a number of text files. Try passing 0 or 2 command line parameters to the app."
   ]
  },
  {
   "cell_type": "markdown",
   "id": "76556786-fa72-445a-aedb-b15986c7fceb",
   "metadata": {},
   "source": [
    "## Congratulations"
   ]
  },
  {
   "cell_type": "markdown",
   "id": "6f6d9b9b-2226-4c39-a6c8-cfd608c148fe",
   "metadata": {
    "tags": []
   },
   "source": [
    "You have created a utility app that counts the number of lines in a file."
   ]
  }
 ],
 "metadata": {
  "kernelspec": {
   "display_name": "Rust",
   "language": "rust",
   "name": "rust"
  },
  "language_info": {
   "codemirror_mode": "rust",
   "file_extension": ".rs",
   "mimetype": "text/rust",
   "name": "Rust",
   "pygment_lexer": "rust",
   "version": ""
  }
 },
 "nbformat": 4,
 "nbformat_minor": 5
}
