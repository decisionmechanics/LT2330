{
 "cells": [
  {
   "cell_type": "markdown",
   "id": "972ff173-69c1-4d0d-9df7-0eb17495db0b",
   "metadata": {},
   "source": [
    "![Learning Tree logo](images/logo.png)"
   ]
  },
  {
   "cell_type": "markdown",
   "id": "e7d94240-f7be-4449-9e45-142b2e2cebe3",
   "metadata": {
    "tags": []
   },
   "source": [
    "# Filter"
   ]
  },
  {
   "cell_type": "markdown",
   "id": "d3e9b7ff-0d4d-477c-b37a-21ef035de345",
   "metadata": {},
   "source": [
    "## Objective"
   ]
  },
  {
   "cell_type": "markdown",
   "id": "31d3afeb-cf07-4ab4-a163-7f9ea8d5ccb1",
   "metadata": {},
   "source": [
    "Create a higher-order filter function that accepts a predicate function, and a list of items, and filters the items by the predicate.\n",
    "\n",
    "The standard library already contains a [filter function](https://doc.rust-lang.org/std/iter/trait.Iterator.html#method.filter). It's one of the many [functional programming tools](https://doc.rust-lang.org/std/iter/trait.Iterator.html) supported by Rust. We are only implementing a filter function for pedagogical purposes. Production code would make use of the (more capable) library function. "
   ]
  },
  {
   "cell_type": "markdown",
   "id": "3f8ebf56-5b8a-4bd2-aaee-323ec50dd91a",
   "metadata": {
    "tags": []
   },
   "source": [
    "## Create a new app"
   ]
  },
  {
   "cell_type": "markdown",
   "id": "78d64ff7-7641-4aab-ae20-c8f5426da69f",
   "metadata": {
    "tags": []
   },
   "source": [
    "Create a new app called `filter` and open it."
   ]
  },
  {
   "cell_type": "markdown",
   "id": "198833f1-2e80-4b1b-a098-def32bb1a060",
   "metadata": {
    "tags": []
   },
   "source": [
    "#### <font color=\"green\">_Solution_</font>"
   ]
  },
  {
   "cell_type": "raw",
   "id": "0aa00f4c-71dc-4cbe-b501-79a8194e0059",
   "metadata": {
    "jupyter": {
     "source_hidden": true
    },
    "tags": []
   },
   "source": [
    "cargo new filter\n",
    "cd filter\n",
    "code ."
   ]
  },
  {
   "cell_type": "markdown",
   "id": "75d9c19d-d6cb-4c51-bb14-41fc62ecb640",
   "metadata": {},
   "source": [
    "## Define the filter function"
   ]
  },
  {
   "cell_type": "markdown",
   "id": "ad606148-7ecd-4e9b-83ec-a36b9bef10e5",
   "metadata": {},
   "source": [
    "The filter function will take two parameters.\n",
    "\n",
    "The _second_ parameter will be a list of items.\n",
    "\n",
    "The _first_ parameter will be a predicate function. A predicate function is one that returns a boolean value. This will be used to filter the items in the list. The items for which the predicate function returns `true` will be retained in the filtered list. The items should implement the `Copy` trait. This makes the function less reusable, but will simplify the implementation for the purposes of the exercise.\n",
    "\n",
    "The list of items will be a slice type. We don't want the function to take ownership of the list. We want our filter function to be as generic as possible---it should work for integers, floats, strings, structs, etc. It should be a generically-typed slice.\n",
    "\n",
    "The prediction function should take an item in the list and return a boolean value based on that item---i.e. it maps an instance of a generic type to a `bool`.\n",
    "\n",
    "Finally, the function should return a vector of the filtered items.\n",
    "\n",
    "Create the signature/skeleton for a `filter` function as described above."
   ]
  },
  {
   "cell_type": "markdown",
   "id": "8e9ef632-ddec-4aca-8a78-3bb49706a039",
   "metadata": {
    "tags": []
   },
   "source": [
    "#### <font color=\"green\">_Solution_</font>"
   ]
  },
  {
   "cell_type": "code",
   "execution_count": null,
   "id": "926eb0d9-70cb-41f5-8ab6-60bf21cd009f",
   "metadata": {
    "jupyter": {
     "source_hidden": true
    },
    "tags": []
   },
   "outputs": [],
   "source": [
    "fn filter<T: Copy>(pred: fn(T) -> bool, items: &[T]) -> Vec<T> {}"
   ]
  },
  {
   "cell_type": "markdown",
   "id": "dac1b23d-2366-48ac-b32a-076d09ba582b",
   "metadata": {},
   "source": [
    "## Implement the filter function"
   ]
  },
  {
   "cell_type": "markdown",
   "id": "f835fc8c-9387-42ad-812e-8f4de4436d0c",
   "metadata": {},
   "source": [
    "To filter the items, iterate over them and apply the predicate function to each item. Items where the predicate function returns `true` should be added to a vector. The vector of filtered items is the return value.\n",
    "\n",
    "Implement the body of the `filter` function."
   ]
  },
  {
   "cell_type": "markdown",
   "id": "48da4835-810d-45e1-854a-0b47f403bdca",
   "metadata": {
    "tags": []
   },
   "source": [
    "#### <font color=\"green\">_Solution_</font>"
   ]
  },
  {
   "cell_type": "code",
   "execution_count": null,
   "id": "a3b6f327-d917-4ad1-a8c9-2a1d87ee9168",
   "metadata": {
    "jupyter": {
     "source_hidden": true
    },
    "tags": []
   },
   "outputs": [],
   "source": [
    "fn filter<T: Copy>(pred: fn(T) -> bool, items: &[T]) -> Vec<T> {\n",
    "    let mut result = Vec::new();\n",
    "\n",
    "    for &item in items {\n",
    "        if pred(item) {\n",
    "            result.push(item);\n",
    "        }\n",
    "    }\n",
    "\n",
    "    result\n",
    "}"
   ]
  },
  {
   "cell_type": "markdown",
   "id": "201a98b3-2eb0-4631-bc39-c18cedfa7eb6",
   "metadata": {},
   "source": [
    "# Create a predicate function"
   ]
  },
  {
   "cell_type": "markdown",
   "id": "609c565e-a759-4116-88ba-2218fde98142",
   "metadata": {},
   "source": [
    "We need a predicate function to pass as the first parameter to the `filter` function. It should have a signature that is compatible with the type of the `pred` parameter."
   ]
  },
  {
   "cell_type": "markdown",
   "id": "405d9d76-bd35-4e02-8978-36073243a802",
   "metadata": {},
   "source": [
    "A function we developed in a previous exercise fits the bill. `is_prime` takes a `u64` (`T`) and return a `bool` (true if the number is prime---i.e. it's a predicate function."
   ]
  },
  {
   "cell_type": "code",
   "execution_count": null,
   "id": "77d03f8f-1fc4-4afa-859a-a2a986fd2d5a",
   "metadata": {},
   "outputs": [],
   "source": [
    "fn is_prime(n: u64) -> bool {\n",
    "    if n < 2 {\n",
    "        return false;\n",
    "    }\n",
    "\n",
    "    let mut maximum_possible_divisor = (n as f64).sqrt() as u64;\n",
    "\n",
    "    if maximum_possible_divisor < 2 {\n",
    "        maximum_possible_divisor = 2;\n",
    "    }\n",
    "\n",
    "    for i in 2..=maximum_possible_divisor {\n",
    "        if n % i == 0 {\n",
    "            return false;\n",
    "        }\n",
    "    }\n",
    "\n",
    "    true\n",
    "}"
   ]
  },
  {
   "cell_type": "markdown",
   "id": "202f1df5-fa45-4558-9dfa-302801836100",
   "metadata": {},
   "source": [
    "## Filter a list of numbers down to the primes"
   ]
  },
  {
   "cell_type": "markdown",
   "id": "b820699e-b4b0-4a60-94f8-25bc4d50990d",
   "metadata": {},
   "source": [
    "Let's use the `filter` function to apply `is_prime` to a list of numbers. We'll do this in the `main` function."
   ]
  },
  {
   "cell_type": "markdown",
   "id": "3743fc87-c4cd-47cf-b4bb-77c5bb60f910",
   "metadata": {},
   "source": [
    "Rust's range syntax can be used to create a vector of numbers."
   ]
  },
  {
   "cell_type": "code",
   "execution_count": null,
   "id": "18f77f07-5b7f-4063-9f3e-58e96326a8de",
   "metadata": {
    "tags": []
   },
   "outputs": [],
   "source": [
    "let numbers = (1u64..=100).collect::<Vec<_>>();"
   ]
  },
  {
   "cell_type": "markdown",
   "id": "2b7d5680-df45-4254-b40b-0466bd5d44fd",
   "metadata": {},
   "source": [
    "Rust's `Iterator` type uses lazy evaluation, so we use `collect` to actually calculate the values."
   ]
  },
  {
   "cell_type": "markdown",
   "id": "9c65afda-20a9-48c4-b238-6399a367a8bb",
   "metadata": {},
   "source": [
    "Filter our list of `numbers` to obtain a vector (`primes`) of all the primes between 1 and 100."
   ]
  },
  {
   "cell_type": "markdown",
   "id": "e43325ef-349c-4fdb-a432-43734ec573cb",
   "metadata": {
    "tags": []
   },
   "source": [
    "#### <font color=\"green\">_Solution_</font>"
   ]
  },
  {
   "cell_type": "code",
   "execution_count": null,
   "id": "62b6c12e-62be-4e05-8a8a-7b50667c979f",
   "metadata": {
    "jupyter": {
     "source_hidden": true
    },
    "tags": []
   },
   "outputs": [],
   "source": [
    "let primes = filter(is_prime, numbers.as_slice());"
   ]
  },
  {
   "cell_type": "markdown",
   "id": "ce65eabc-c4c3-4dd3-9211-335beb426939",
   "metadata": {},
   "source": [
    "Display the primes."
   ]
  },
  {
   "cell_type": "markdown",
   "id": "005d4ac3-5af0-4cc5-8877-b3d9a481b29d",
   "metadata": {
    "tags": []
   },
   "source": [
    "#### <font color=\"green\">_Solution_</font>"
   ]
  },
  {
   "cell_type": "code",
   "execution_count": null,
   "id": "a1746a4c-9208-4113-a3f8-224631f3483b",
   "metadata": {
    "jupyter": {
     "source_hidden": true
    },
    "tags": []
   },
   "outputs": [],
   "source": [
    "for prime in primes {\n",
    "    println!(\"{}\", prime);\n",
    "}"
   ]
  },
  {
   "cell_type": "markdown",
   "id": "a522b7d5-28c6-42a7-8d00-b6a123eb3277",
   "metadata": {},
   "source": [
    "The complete `main` function should now be as follows."
   ]
  },
  {
   "cell_type": "code",
   "execution_count": null,
   "id": "d9349ade-70fa-4e8a-b500-c7bff3190fa6",
   "metadata": {
    "jupyter": {
     "source_hidden": true
    },
    "tags": []
   },
   "outputs": [],
   "source": [
    "fn main() {\n",
    "    let numbers = (1u64..=100).collect::<Vec<_>>();\n",
    "\n",
    "    let primes = filter(is_prime, numbers.as_slice());\n",
    "\n",
    "    for prime in primes {\n",
    "        println!(\"{}\", prime);\n",
    "    }\n",
    "}"
   ]
  },
  {
   "cell_type": "markdown",
   "id": "18fe0193-df06-48bf-852d-3739cf2b8f46",
   "metadata": {
    "tags": []
   },
   "source": [
    "## Build and run the app"
   ]
  },
  {
   "cell_type": "markdown",
   "id": "cfc41f44-eddd-4031-aa5d-8a8f73c3d013",
   "metadata": {
    "tags": []
   },
   "source": [
    "#### <font color=\"green\">_Solution_</font>"
   ]
  },
  {
   "cell_type": "raw",
   "id": "5478e448-8642-4a66-bfe8-a701c5167881",
   "metadata": {
    "jupyter": {
     "source_hidden": true
    },
    "tags": []
   },
   "source": [
    "cargo run ./src/main.rs"
   ]
  },
  {
   "cell_type": "markdown",
   "id": "9353c161-4559-47b3-b0a9-d28ce7d561bc",
   "metadata": {
    "tags": []
   },
   "source": [
    "Try varying the range of `numbers`."
   ]
  },
  {
   "cell_type": "markdown",
   "id": "94b21e0a-55d0-422e-8647-9b66ef44f8a1",
   "metadata": {},
   "source": [
    "## Congratulations"
   ]
  },
  {
   "cell_type": "markdown",
   "id": "6dfc02b8-73a1-47be-a6f9-cb8fa176fa11",
   "metadata": {
    "tags": []
   },
   "source": [
    "You have created a higher-order filter function that accepts a predicate function, and a list of items, and filters the items by the predicate."
   ]
  }
 ],
 "metadata": {
  "kernelspec": {
   "display_name": "Rust",
   "language": "rust",
   "name": "rust"
  },
  "language_info": {
   "codemirror_mode": "rust",
   "file_extension": ".rs",
   "mimetype": "text/rust",
   "name": "Rust",
   "pygment_lexer": "rust",
   "version": ""
  }
 },
 "nbformat": 4,
 "nbformat_minor": 5
}
