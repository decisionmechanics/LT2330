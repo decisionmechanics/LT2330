{
 "cells": [
  {
   "cell_type": "markdown",
   "id": "f6ad1ef3-43f3-4f74-9bf0-5d93f6470495",
   "metadata": {
    "tags": []
   },
   "source": [
    "# Create a package"
   ]
  },
  {
   "cell_type": "markdown",
   "id": "85e7996d-cb73-4518-a03b-0f00019a72b6",
   "metadata": {},
   "source": [
    "## Objective"
   ]
  },
  {
   "cell_type": "markdown",
   "id": "084c29d2-cc8d-47f0-afd2-c6b97a6d97fa",
   "metadata": {},
   "source": [
    "Create, modify, build and run a new Rust app."
   ]
  },
  {
   "cell_type": "markdown",
   "id": "a94a75a0-33fb-4c59-a8c2-dd927b1bb233",
   "metadata": {},
   "source": [
    "## Create a new app"
   ]
  },
  {
   "cell_type": "markdown",
   "id": "2bf1e6ee-ef00-4093-b376-ff3a70a5fbff",
   "metadata": {},
   "source": [
    "Open a terminal window and navigate to the folder where you wish to create your new app.\n",
    "\n",
    "Use `cargo` to create an app called `create_package`."
   ]
  },
  {
   "cell_type": "markdown",
   "id": "7a02f568-6f23-4ad6-be8c-ddf897073660",
   "metadata": {
    "tags": []
   },
   "source": [
    "#### <font color=\"green\">_Solution_</font>"
   ]
  },
  {
   "cell_type": "raw",
   "id": "2669d4ad-c1c2-4937-9daa-2af390f80437",
   "metadata": {
    "jupyter": {
     "source_hidden": true
    },
    "tags": []
   },
   "source": [
    "cargo new create_package"
   ]
  },
  {
   "cell_type": "markdown",
   "id": "957465d6-9d51-4c9a-a19a-fd5675a3213d",
   "metadata": {},
   "source": [
    "## Review the source files"
   ]
  },
  {
   "cell_type": "markdown",
   "id": "6133166a-94c4-41da-aa93-3473ef31d8eb",
   "metadata": {},
   "source": [
    "Navigate into the application folder and open the app in Visual Studio using `code .`.\n",
    "\n",
    "You will see a number of files. Open and review them."
   ]
  },
  {
   "cell_type": "markdown",
   "id": "6b83dfb6-2856-4329-913f-695d88e440f0",
   "metadata": {},
   "source": [
    "`.gitignore` contains the files to be ignored when you check the code into Git. By default it ignores the compiled resources."
   ]
  },
  {
   "cell_type": "markdown",
   "id": "1614d3ec-9f3e-49a6-8e3a-34dd21392d53",
   "metadata": {},
   "source": [
    "`Cargo.toml` is a [TOML](https://toml.io) file that contains configuration information for the crate (app)."
   ]
  },
  {
   "cell_type": "raw",
   "id": "ed5882f3-8477-4248-bea6-a36bc7359288",
   "metadata": {},
   "source": [
    "[package]\n",
    "name = \"create_package\"\n",
    "version = \"0.1.0\"\n",
    "edition = \"2021\"\n",
    "\n",
    "# See more keys and their definitions at https://doc.rust-lang.org/cargo/reference/manifest.html\n",
    "\n",
    "[dependencies]"
   ]
  },
  {
   "cell_type": "markdown",
   "id": "37471bdd-7192-4e9e-98c8-9dfe10974143",
   "metadata": {},
   "source": [
    "The latest edition of Rust is specified (2021). You can modify the `name` and `version` to suit your requirements.\n",
    "\n",
    "The `dependencies` section is where we will list any third-party dependencies (crates) our app requires. We don't need to specify the Rust standard library, as it's available by default.\n",
    "\n",
    "Dependencies are automatically downloaded from [crates.io](https://crates.io) during the build phase."
   ]
  },
  {
   "cell_type": "markdown",
   "id": "d05e44bb-122f-4266-95e7-406d445c39ad",
   "metadata": {},
   "source": [
    "The `src` subfolder contains the meat of the app---the Rust code.\n",
    "\n",
    "This is a binary crate--i.e. an app--so we have a single `main.rs` file that contains a `main` function. The `main` function is the entry point in a Rust app. "
   ]
  },
  {
   "cell_type": "code",
   "execution_count": null,
   "id": "be15da41-9070-49a9-9524-e382c8eceeef",
   "metadata": {
    "tags": []
   },
   "outputs": [],
   "source": [
    "fn main() {\n",
    "    println!(\"Hello, world!\");\n",
    "}"
   ]
  },
  {
   "cell_type": "markdown",
   "id": "8adacb8a-4843-40d5-b8f6-fbc2ed8aedc3",
   "metadata": {},
   "source": [
    "Don't worry about the details of the code. We cover functions in depth later in the course.\n",
    "\n",
    "The main function calls the `println!` [macro](https://doc.rust-lang.org/book/ch19-06-macros.html) to display the text \"Hello, world!\"."
   ]
  },
  {
   "cell_type": "markdown",
   "id": "0c733799-8f94-4fa9-946e-5ebbab20bfb5",
   "metadata": {
    "tags": []
   },
   "source": [
    "## Modify the app"
   ]
  },
  {
   "cell_type": "markdown",
   "id": "4c117dd3-384e-48f4-b778-05c09a2d9d5d",
   "metadata": {},
   "source": [
    "Change the text in `main.rs` so that the app will display \"Welcome to the Learning Tree Rust course!!!\". The hyperbolic exclamation marks are optional."
   ]
  },
  {
   "cell_type": "markdown",
   "id": "dda79979-f4c8-4d27-9bb8-ef07e226b51f",
   "metadata": {},
   "source": [
    "#### <font color=\"green\">_Solution_</font>"
   ]
  },
  {
   "cell_type": "code",
   "execution_count": null,
   "id": "6a18adcb-c0be-4492-abe1-c9eaf23e7be2",
   "metadata": {
    "jupyter": {
     "source_hidden": true
    },
    "tags": []
   },
   "outputs": [],
   "source": [
    "fn main() {\n",
    "    println!(\"Welcome to the Learning Tree Rust course!!!\");\n",
    "}"
   ]
  },
  {
   "cell_type": "markdown",
   "id": "07883878-15ef-46a6-90db-e2eb8fa8f7cb",
   "metadata": {
    "tags": []
   },
   "source": [
    "## Build and run the app"
   ]
  },
  {
   "cell_type": "markdown",
   "id": "a668ca1c-675d-4be0-ad1a-99cbac44da74",
   "metadata": {},
   "source": [
    "`cargo` allows us to build and run the app with a single command. Use this to display the welcome message."
   ]
  },
  {
   "cell_type": "markdown",
   "id": "1cad8f9b-1d8b-4cda-a347-7a36d285f169",
   "metadata": {},
   "source": [
    "#### <font color=\"green\">_Solution_</font>"
   ]
  },
  {
   "cell_type": "raw",
   "id": "36ea4158-7c2c-419a-8c2d-a940094da69c",
   "metadata": {
    "jupyter": {
     "source_hidden": true
    },
    "tags": []
   },
   "source": [
    "cargo run"
   ]
  },
  {
   "cell_type": "markdown",
   "id": "2bdc54a6-c133-4793-8166-917ccd5784da",
   "metadata": {},
   "source": [
    "If you want to compile the app without running it, you can use `cargo build`."
   ]
  },
  {
   "cell_type": "markdown",
   "id": "a0d61f79-4db9-4689-a3a5-66d6b1a0e807",
   "metadata": {
    "tags": []
   },
   "source": [
    "## Run your app directly from the command line"
   ]
  },
  {
   "cell_type": "markdown",
   "id": "ac6be7e7-eff8-44a0-a946-cb5c534ccc8a",
   "metadata": {},
   "source": [
    "Your compiled app image is in `./target/debug/create_package` (the name of the file will be different if you changed the package name in your `Cargo.toml` file).\n",
    "\n",
    "Run the app from your terminal."
   ]
  },
  {
   "cell_type": "raw",
   "id": "338d49a2-4a7b-40fa-8e8a-e70e2c058d96",
   "metadata": {},
   "source": [
    "./target/debug/create_package"
   ]
  },
  {
   "cell_type": "markdown",
   "id": "cee2bbc3-3707-499d-8320-11f087cda55e",
   "metadata": {},
   "source": [
    "## Congratulations"
   ]
  },
  {
   "cell_type": "markdown",
   "id": "be93de96-c43e-41ec-8eff-b4675c3c9423",
   "metadata": {},
   "source": [
    "You have created, modified, built and run a new Rust app."
   ]
  }
 ],
 "metadata": {
  "kernelspec": {
   "display_name": "Rust",
   "language": "rust",
   "name": "rust"
  },
  "language_info": {
   "codemirror_mode": "rust",
   "file_extension": ".rs",
   "mimetype": "text/rust",
   "name": "Rust",
   "pygment_lexer": "rust",
   "version": ""
  }
 },
 "nbformat": 4,
 "nbformat_minor": 5
}
