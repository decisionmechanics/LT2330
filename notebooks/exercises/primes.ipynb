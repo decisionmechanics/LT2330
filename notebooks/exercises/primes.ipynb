{
 "cells": [
  {
   "cell_type": "markdown",
   "id": "68e75e45-4918-4db5-ad63-24c21556fac2",
   "metadata": {},
   "source": [
    "![Learning Tree logo](images/logo.png)"
   ]
  },
  {
   "cell_type": "markdown",
   "id": "90184b85-d251-42c6-9c96-fb410c7930ff",
   "metadata": {},
   "source": [
    "# Primes"
   ]
  },
  {
   "cell_type": "markdown",
   "id": "aefa5afc-5d5d-4c2d-9f3b-18a2e7bdc645",
   "metadata": {},
   "source": [
    "## Objective"
   ]
  },
  {
   "cell_type": "markdown",
   "id": "5234d1d0-7fe4-49f4-b0a5-f4a7c92138ad",
   "metadata": {},
   "source": [
    "Write an app that computes and displays a sequence of prime numbers."
   ]
  },
  {
   "cell_type": "markdown",
   "id": "defeda25-ffb3-4e29-94bd-ddf3072795f3",
   "metadata": {
    "tags": []
   },
   "source": [
    "## Create a new app"
   ]
  },
  {
   "cell_type": "markdown",
   "id": "805624dd-f436-49d3-86d0-8d5c37eb6bd6",
   "metadata": {},
   "source": [
    "Create a new app called `primes` and open it."
   ]
  },
  {
   "cell_type": "markdown",
   "id": "a4724a0b-64a4-472a-892e-f652d4757a23",
   "metadata": {},
   "source": [
    "#### <font color=\"green\">_Solution_</font>"
   ]
  },
  {
   "cell_type": "raw",
   "id": "1881425b-3909-4397-9a58-d650fdd07263",
   "metadata": {
    "jupyter": {
     "source_hidden": true
    },
    "tags": []
   },
   "source": [
    "cargo new primes\n",
    "cd primes\n",
    "code ."
   ]
  },
  {
   "cell_type": "markdown",
   "id": "2fdb56c6-0292-42a8-8eba-c112c42f36d3",
   "metadata": {},
   "source": [
    "## Write a function to check if a number is prime"
   ]
  },
  {
   "cell_type": "markdown",
   "id": "ec548ebd-0cb6-452f-b5bf-92de172a4be7",
   "metadata": {
    "tags": []
   },
   "source": [
    "To decide if a number is prime we need to check if it's divisible by any other number (greater than 1). We only need to check divisors that are less than or equal to the square root of the number under consideration.\n",
    "\n",
    "So, in summary, we need to check if `n` is divisible by any number in the range 2..=$\\sqrt{n}$."
   ]
  },
  {
   "cell_type": "markdown",
   "id": "2fab4c8b-cb77-4d0e-88f3-5946d6ecdfd5",
   "metadata": {},
   "source": [
    "We can calculate square roots in Rust using the `sqrt` method."
   ]
  },
  {
   "cell_type": "code",
   "execution_count": null,
   "id": "a0159a51-fc58-47c0-a0c4-e4893178a808",
   "metadata": {},
   "outputs": [],
   "source": [
    "let square_root = (9f64).sqrt();\n",
    "println!(\"{}\", square_root);"
   ]
  },
  {
   "cell_type": "markdown",
   "id": "b44f26ac-b37d-45b7-9fdb-54a56de9f4cb",
   "metadata": {},
   "source": [
    "Note that square roots can only be calculated for floating point types."
   ]
  },
  {
   "cell_type": "markdown",
   "id": "de9b18ca-7a04-4c7c-aa84-378ea377b4dc",
   "metadata": {
    "tags": []
   },
   "source": [
    "Create the skeleton for an `is_prime` function that takes a parameter `n: u64` and returns a `bool` denoting whether `n` is prime."
   ]
  },
  {
   "cell_type": "markdown",
   "id": "3104f1e4-0bc8-4547-b07b-b7c4036da752",
   "metadata": {
    "tags": []
   },
   "source": [
    "#### <font color=\"green\">_Solution_</font>"
   ]
  },
  {
   "cell_type": "code",
   "execution_count": null,
   "id": "cea3bbdc-2b3a-43a3-9f9e-af9f06dda1fe",
   "metadata": {
    "jupyter": {
     "source_hidden": true
    },
    "tags": []
   },
   "outputs": [],
   "source": [
    "fn is_prime(n: u64) -> bool {}"
   ]
  },
  {
   "cell_type": "markdown",
   "id": "11fb2f1e-1f46-4724-8b71-6bfe7b5d065b",
   "metadata": {},
   "source": [
    "Inside the function, define a `maximum_possible_divisor` `u64` variable and initialize it to the square root of `n'. There will be some casting between `u64` and `f64` to contend with."
   ]
  },
  {
   "cell_type": "markdown",
   "id": "5bf447e0-7159-4e3a-9ab9-d5af34c2395e",
   "metadata": {
    "tags": []
   },
   "source": [
    "#### <font color=\"green\">_Solution_</font>"
   ]
  },
  {
   "cell_type": "code",
   "execution_count": null,
   "id": "80622ed1-4052-4c7c-9756-abecb2ae847e",
   "metadata": {
    "jupyter": {
     "source_hidden": true
    },
    "tags": []
   },
   "outputs": [],
   "source": [
    "let maximum_possible_divisor = (n as f64).sqrt() as u64;"
   ]
  },
  {
   "cell_type": "markdown",
   "id": "ce1b25ae-6026-4448-b1cc-28274e563263",
   "metadata": {
    "tags": []
   },
   "source": [
    "Create a `for` loop that runs from 2 to `maximum_possible_divisor` (inclusive) and check to see if `n` is cleanly divisible by the loop index.\n",
    "\n",
    "If a clean division is found, the number isn't prime and you should return immediately from the function."
   ]
  },
  {
   "cell_type": "markdown",
   "id": "f21c6431-953d-42cf-a6eb-09921c27094f",
   "metadata": {
    "tags": []
   },
   "source": [
    "#### <font color=\"green\">_Solution_</font>"
   ]
  },
  {
   "cell_type": "code",
   "execution_count": null,
   "id": "fc5fbe90-4cad-4221-bd1a-4f043936506c",
   "metadata": {
    "jupyter": {
     "source_hidden": true
    },
    "tags": []
   },
   "outputs": [],
   "source": [
    "for i in 2..=maximum_possible_divisor {\n",
    "    if n % i == 0 {\n",
    "        return false;\n",
    "    }\n",
    "}"
   ]
  },
  {
   "cell_type": "markdown",
   "id": "d4cfe70f-0624-4b70-9924-63494ab8ff4e",
   "metadata": {},
   "source": [
    "If the loop runs to completion without returning, then the number if prime and the function should finally return `true`."
   ]
  },
  {
   "cell_type": "markdown",
   "id": "84ed44bd-5f38-4a2d-aece-2e1849ca91b8",
   "metadata": {
    "tags": []
   },
   "source": [
    "#### <font color=\"green\">_Solution_</font>"
   ]
  },
  {
   "cell_type": "code",
   "execution_count": null,
   "id": "9f63336b-832e-4db4-944e-f249fa4609ee",
   "metadata": {
    "jupyter": {
     "source_hidden": true
    },
    "tags": []
   },
   "outputs": [],
   "source": [
    "true"
   ]
  },
  {
   "cell_type": "markdown",
   "id": "437fb3b1-9c0a-41c3-9607-96e3a8d05184",
   "metadata": {},
   "source": [
    "The complete `is_prime` function should now look as follows."
   ]
  },
  {
   "cell_type": "code",
   "execution_count": null,
   "id": "9be57588-8548-4771-a7da-adab11bc1012",
   "metadata": {
    "jupyter": {
     "source_hidden": true
    },
    "tags": []
   },
   "outputs": [],
   "source": [
    "fn is_prime(n: u64) -> bool {\n",
    "    let maximum_possible_divisor = (n as f64).sqrt() as u64;\n",
    "\n",
    "    for i in 2..=maximum_possible_divisor {\n",
    "        if n % i == 0 {\n",
    "            return false;\n",
    "        }\n",
    "    }\n",
    "\n",
    "    true\n",
    "}"
   ]
  },
  {
   "cell_type": "markdown",
   "id": "6eea87e0-c327-4eee-9def-03ccc2eb8004",
   "metadata": {},
   "source": [
    "## Identify primes in a sequence of numbers"
   ]
  },
  {
   "cell_type": "markdown",
   "id": "37de0273-cc5a-477e-95a0-38cd42c3e638",
   "metadata": {},
   "source": [
    "We will use the `is_prime` function to identify primes in a sequence of numbers.\n",
    "\n",
    "In the `main` function, create a `u64` constant called `MAXIMUM_VALUE`. Initialize it to 100."
   ]
  },
  {
   "cell_type": "markdown",
   "id": "072c48a0-b951-49d1-b56a-f56ceeffba86",
   "metadata": {
    "tags": []
   },
   "source": [
    "#### <font color=\"green\">_Solution_</font>"
   ]
  },
  {
   "cell_type": "code",
   "execution_count": null,
   "id": "b6ded893-cfad-4e56-b88f-991062ccbcc6",
   "metadata": {
    "jupyter": {
     "source_hidden": true
    },
    "tags": []
   },
   "outputs": [],
   "source": [
    "const MAXIMUM_VALUE: u64 = 100;"
   ]
  },
  {
   "cell_type": "markdown",
   "id": "df4f0064-dca7-4972-8082-c8bb16458b3a",
   "metadata": {
    "tags": []
   },
   "source": [
    "We will keep track of the number of primes found. Create a mutable `primes_found` variable and initialize it to 0."
   ]
  },
  {
   "cell_type": "markdown",
   "id": "dea66134-937b-4d2a-a74d-92e73d6cf1f6",
   "metadata": {
    "tags": []
   },
   "source": [
    "#### <font color=\"green\">_Solution_</font>"
   ]
  },
  {
   "cell_type": "code",
   "execution_count": null,
   "id": "8770306c-4e47-4460-87ee-32af2053a439",
   "metadata": {
    "jupyter": {
     "source_hidden": true
    },
    "tags": []
   },
   "outputs": [],
   "source": [
    "let mut primes_found = 0;"
   ]
  },
  {
   "cell_type": "markdown",
   "id": "c37c2e0f-b023-43a0-bb74-69885920ebe2",
   "metadata": {
    "tags": []
   },
   "source": [
    "Create a `for` loop that runs from 2 to MAXIMUM_VALUE (inclusive). \n",
    "\n",
    "Within the loop, check if the loop index value is prime (using `is_prime`). If it is, increment `primes_found` and display the prime and the count."
   ]
  },
  {
   "cell_type": "markdown",
   "id": "9af05a18-767c-4424-9863-e69565f23b80",
   "metadata": {
    "tags": []
   },
   "source": [
    "#### <font color=\"green\">_Solution_</font>"
   ]
  },
  {
   "cell_type": "code",
   "execution_count": null,
   "id": "ec7852ac-e245-4f7f-b6e5-8f0cfaf26ae3",
   "metadata": {
    "jupyter": {
     "source_hidden": true
    },
    "tags": []
   },
   "outputs": [],
   "source": [
    "for i in 2..=MAXIMUM_VALUE {\n",
    "    if is_prime(i) {\n",
    "        primes_found += 1;\n",
    "\n",
    "        println!(\"{} (#{})\", i, primes_found);\n",
    "    }\n",
    "}"
   ]
  },
  {
   "cell_type": "markdown",
   "id": "465cc58e-f9d5-4ebc-a0b9-4d701005f495",
   "metadata": {},
   "source": [
    "The complete `main` function should now look as follows."
   ]
  },
  {
   "cell_type": "code",
   "execution_count": null,
   "id": "de50d73a-ec40-4bff-8ddc-0d5372e3f652",
   "metadata": {
    "jupyter": {
     "source_hidden": true
    },
    "tags": []
   },
   "outputs": [],
   "source": [
    "fn main() {\n",
    "    const MAXIMUM_VALUE: u64 = 100;\n",
    "\n",
    "    let mut primes_found = 0;\n",
    "\n",
    "    for i in 2..=MAXIMUM_VALUE {\n",
    "        if is_prime(i) {\n",
    "            primes_found += 1;\n",
    "\n",
    "            println!(\"{} (#{})\", i, primes_found);\n",
    "        }\n",
    "    }\n",
    "}"
   ]
  },
  {
   "cell_type": "markdown",
   "id": "8211d4af-15b0-4dfa-8e9f-8f9bd9a24935",
   "metadata": {
    "tags": []
   },
   "source": [
    "## Build and run the app"
   ]
  },
  {
   "cell_type": "markdown",
   "id": "fd639833-9e7f-4c6c-a7a4-219f8bba2f6b",
   "metadata": {
    "tags": []
   },
   "source": [
    "#### <font color=\"green\">_Solution_</font>"
   ]
  },
  {
   "cell_type": "raw",
   "id": "3f2cea38-2ecf-4168-a38f-79d4f3778c88",
   "metadata": {
    "jupyter": {
     "source_hidden": true
    },
    "tags": []
   },
   "source": [
    "cargo run"
   ]
  },
  {
   "cell_type": "markdown",
   "id": "e0bf71e7-65f2-4698-9afd-573945fb5899",
   "metadata": {
    "tags": []
   },
   "source": [
    "You should see a list of the (25) prime numbers below 100.\n",
    "\n",
    "Try changing the value of the `MAXIMUM_VALUE` constant to extend the sequence."
   ]
  },
  {
   "cell_type": "markdown",
   "id": "b23231dd-5bdf-4a8b-8c5c-2a99f5439bde",
   "metadata": {},
   "source": [
    "## Congratulations"
   ]
  },
  {
   "cell_type": "markdown",
   "id": "e5be1edb-e9af-4abe-94c2-243c8130fe3e",
   "metadata": {},
   "source": [
    "You have written an app that computes and displays a sequence of prime numbers."
   ]
  }
 ],
 "metadata": {
  "kernelspec": {
   "display_name": "Rust",
   "language": "rust",
   "name": "rust"
  },
  "language_info": {
   "codemirror_mode": "rust",
   "file_extension": ".rs",
   "mimetype": "text/rust",
   "name": "Rust",
   "pygment_lexer": "rust",
   "version": ""
  }
 },
 "nbformat": 4,
 "nbformat_minor": 5
}
