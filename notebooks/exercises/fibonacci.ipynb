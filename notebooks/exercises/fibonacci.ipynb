{
 "cells": [
  {
   "cell_type": "markdown",
   "id": "0bc1a270-1c85-4337-9ac0-352bdc47b659",
   "metadata": {},
   "source": [
    "![Learning Tree logo](images/logo.png)"
   ]
  },
  {
   "cell_type": "markdown",
   "id": "ced34712-3aaa-4887-82d5-e1bdd9f76abf",
   "metadata": {
    "tags": []
   },
   "source": [
    "# Fibonacci"
   ]
  },
  {
   "cell_type": "markdown",
   "id": "d4381905-7009-4184-880c-07ae8c30c1e0",
   "metadata": {},
   "source": [
    "## Objective"
   ]
  },
  {
   "cell_type": "markdown",
   "id": "6d7a9760-f99d-4bcd-a203-a1f6e87f6c65",
   "metadata": {},
   "source": [
    "Write an app that computes and displays a sequence of [Fibonacci numbers](https://en.wikipedia.org/wiki/Fibonacci_number).\n",
    "\n",
    "The next number in a Fibonacci sequence is the sum of the two preceding ones. It starts with 0 and 1. The first 10 values are 0, 1, 1, 2, 3, 5, 8, 13, 21, 34."
   ]
  },
  {
   "cell_type": "markdown",
   "id": "b316629f-4cc1-4097-8441-12faf92b5b36",
   "metadata": {},
   "source": [
    "## Create a new app"
   ]
  },
  {
   "cell_type": "markdown",
   "id": "238fc218-6c22-4bb4-937e-645348bb7848",
   "metadata": {},
   "source": [
    "Create a new app called `fibonacci` and open it."
   ]
  },
  {
   "cell_type": "markdown",
   "id": "9884a46f-6488-4982-a26e-5824e6a674b9",
   "metadata": {},
   "source": [
    "#### <font color=\"green\">_Solution_</font>"
   ]
  },
  {
   "cell_type": "raw",
   "id": "6f937480-bfd1-4e3c-9581-37c93357a750",
   "metadata": {
    "jupyter": {
     "source_hidden": true
    },
    "tags": []
   },
   "source": [
    "cargo new fibonacci\n",
    "cd fibonacci\n",
    "code ."
   ]
  },
  {
   "cell_type": "markdown",
   "id": "f2079d49-87c2-42bd-95c0-0cede79070a2",
   "metadata": {},
   "source": [
    "## Implement the logic"
   ]
  },
  {
   "cell_type": "markdown",
   "id": "5c6a679a-6ef7-4790-9fd9-37b8fc324bf0",
   "metadata": {},
   "source": [
    "Open `main.rs`. All our code will reside in the `main` function. Delete the existing line that displays \"Hello, world!\"."
   ]
  },
  {
   "cell_type": "markdown",
   "id": "671ffd59-294e-418d-b1bc-ea4eeeaaa9dd",
   "metadata": {},
   "source": [
    "We need to decide how long we want our sequence to be. Start with 10 numbers. Add a `LENGTH` constant with type `i32`."
   ]
  },
  {
   "cell_type": "markdown",
   "id": "e04026c3-3883-4f36-a102-bab511e57eb8",
   "metadata": {},
   "source": [
    "#### <font color=\"green\">_Solution_</font>"
   ]
  },
  {
   "cell_type": "code",
   "execution_count": null,
   "id": "3c647547-c67b-4973-9fac-d33673d5adec",
   "metadata": {
    "jupyter": {
     "source_hidden": true
    },
    "tags": []
   },
   "outputs": [],
   "source": [
    "const LENGTH: i32 = 10;"
   ]
  },
  {
   "cell_type": "markdown",
   "id": "80908d66-ae2e-4f18-8d50-298d24bc63cd",
   "metadata": {},
   "source": [
    "The next Fibonacci number in a sequence is the sum of the current and previous numbers.\n",
    "\n",
    "Initialize two mutable `i32` variables, `previous` and `current`, to contain the first two values in the sequence (0 and 1, respectively)."
   ]
  },
  {
   "cell_type": "markdown",
   "id": "2d07562b-19e3-4e29-8ea3-b50969f653fa",
   "metadata": {},
   "source": [
    "#### <font color=\"green\">_Solution_</font>"
   ]
  },
  {
   "cell_type": "code",
   "execution_count": null,
   "id": "7ae0b338-6e6b-4f2c-88a8-29e4e8b793a5",
   "metadata": {
    "jupyter": {
     "source_hidden": true
    },
    "tags": []
   },
   "outputs": [],
   "source": [
    "let mut previous = 0;\n",
    "let mut current = 1;"
   ]
  },
  {
   "cell_type": "markdown",
   "id": "710d7be7-b1fb-45b6-a41c-d43dd3916791",
   "metadata": {},
   "source": [
    "Display the `previous` value to get the sequence underway."
   ]
  },
  {
   "cell_type": "markdown",
   "id": "127f4b0f-50c9-482c-bf32-d3c08e4dbbbf",
   "metadata": {
    "tags": []
   },
   "source": [
    "#### <font color=\"green\">_Solution_</font>"
   ]
  },
  {
   "cell_type": "code",
   "execution_count": null,
   "id": "949432a4-6948-4091-afab-a41ac08ed30b",
   "metadata": {
    "jupyter": {
     "source_hidden": true
    },
    "tags": []
   },
   "outputs": [],
   "source": [
    "println!(\"{}\", previous);"
   ]
  },
  {
   "cell_type": "markdown",
   "id": "e1d33c5c-4a68-4640-b686-8a5e59716ba4",
   "metadata": {
    "tags": []
   },
   "source": [
    "Create a `for` loop that runs for `LENGTH - 1` iterations (we just displayed the first value).\n",
    "\n",
    "We won't be using the loop index variable, so can call it `_` to alert the compiler that we are deliberately ignoring it. If you use `i` (for example) you will receive a warning about an unused variable."
   ]
  },
  {
   "cell_type": "markdown",
   "id": "21772211-a873-4d23-8374-974b48e4db11",
   "metadata": {},
   "source": [
    "#### <font color=\"green\">_Solution_</font>"
   ]
  },
  {
   "cell_type": "code",
   "execution_count": null,
   "id": "5483d427-6f53-43bc-b4d5-a76019f6d1cf",
   "metadata": {
    "jupyter": {
     "source_hidden": true
    },
    "tags": []
   },
   "outputs": [],
   "source": [
    "for _ in 1..LENGTH {}"
   ]
  },
  {
   "cell_type": "markdown",
   "id": "31311b3b-534c-456a-beea-658587fb40cc",
   "metadata": {},
   "source": [
    "Inside the loop, display the `current` sequence value."
   ]
  },
  {
   "cell_type": "markdown",
   "id": "9f152860-2a9b-4573-ae04-c34f133a0523",
   "metadata": {},
   "source": [
    "#### <font color=\"green\">_Solution_</font>"
   ]
  },
  {
   "cell_type": "code",
   "execution_count": null,
   "id": "036f5580-710c-4e69-82e9-c3c3434c80bd",
   "metadata": {
    "jupyter": {
     "source_hidden": true
    },
    "tags": []
   },
   "outputs": [],
   "source": [
    "println!(\"{}\", current);"
   ]
  },
  {
   "cell_type": "markdown",
   "id": "be7c47ed-261f-4ae2-a314-5a8518d1a859",
   "metadata": {
    "tags": []
   },
   "source": [
    "Remaining in the loop, update the `previous` and `current` values. \n",
    "\n",
    "The `previous` value should be set to the `current` value and the `current` value becomes `current + previous`. Be careful with how you order these updates."
   ]
  },
  {
   "cell_type": "markdown",
   "id": "355b3b47-c60b-4db4-92c0-6c3d57b1d3fc",
   "metadata": {},
   "source": [
    "#### <font color=\"green\">_Solution_</font>"
   ]
  },
  {
   "cell_type": "code",
   "execution_count": null,
   "id": "2da236ef-3a90-4a53-903a-bac8149624b3",
   "metadata": {
    "jupyter": {
     "source_hidden": true
    },
    "tags": []
   },
   "outputs": [],
   "source": [
    "let next = current + previous;\n",
    "previous = current;\n",
    "current = next;"
   ]
  },
  {
   "cell_type": "markdown",
   "id": "91debebd-8083-4ebd-9d31-167327a6dadd",
   "metadata": {},
   "source": [
    "The content of `main.rs` should now look as follows."
   ]
  },
  {
   "cell_type": "code",
   "execution_count": null,
   "id": "ae86d14e-c3ad-4d7a-96b6-25f23e53a207",
   "metadata": {
    "tags": []
   },
   "outputs": [],
   "source": [
    "fn main() {\n",
    "    const LENGTH: i32 = 10;\n",
    "\n",
    "    let mut previous = 0;\n",
    "    let mut current = 1;\n",
    "\n",
    "    println!(\"{}\", previous);\n",
    "\n",
    "    for _ in 1..LENGTH {\n",
    "        println!(\"{}\", current);\n",
    "\n",
    "        let next = current + previous;\n",
    "        previous = current;\n",
    "        current = next;\n",
    "    }\n",
    "}"
   ]
  },
  {
   "cell_type": "markdown",
   "id": "eb061b96-8bf7-46f2-9bce-138b5a4a27d3",
   "metadata": {
    "tags": []
   },
   "source": [
    "## Build and run the app"
   ]
  },
  {
   "cell_type": "markdown",
   "id": "2cd02ddb-cf71-4026-a1f2-1f2e5286bd14",
   "metadata": {
    "tags": []
   },
   "source": [
    "#### <font color=\"green\">_Solution_</font>"
   ]
  },
  {
   "cell_type": "raw",
   "id": "7ef98cfe-3b89-49e1-9269-6409768d7e1e",
   "metadata": {
    "jupyter": {
     "source_hidden": true
    },
    "tags": []
   },
   "source": [
    "cargo run"
   ]
  },
  {
   "cell_type": "markdown",
   "id": "bad489b7-4c84-41c7-8259-8ebb1558cc76",
   "metadata": {},
   "source": [
    "You should see first 10 Fibonacci numbers---one per line.\n",
    "\n",
    "Try changing the value of the `LENGTH` constant to extend the sequence."
   ]
  },
  {
   "cell_type": "markdown",
   "id": "fe8d689a-495d-4c8c-b48a-c975e94d5d41",
   "metadata": {},
   "source": [
    "## Congratulations"
   ]
  },
  {
   "cell_type": "markdown",
   "id": "726f8f6a-f334-4272-b998-30506d9c3a29",
   "metadata": {},
   "source": [
    "You have written an app that computes and displays a sequence of Fibonacci numbers."
   ]
  }
 ],
 "metadata": {
  "kernelspec": {
   "display_name": "Rust",
   "language": "rust",
   "name": "rust"
  },
  "language_info": {
   "codemirror_mode": "rust",
   "file_extension": ".rs",
   "mimetype": "text/rust",
   "name": "Rust",
   "pygment_lexer": "rust",
   "version": ""
  }
 },
 "nbformat": 4,
 "nbformat_minor": 5
}
