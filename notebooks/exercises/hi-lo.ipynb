{
 "cells": [
  {
   "cell_type": "markdown",
   "id": "ce3bf25f-4639-47e9-9ba1-014c118fac33",
   "metadata": {},
   "source": [
    "![Learning Tree logo](images/logo.png)"
   ]
  },
  {
   "cell_type": "markdown",
   "id": "0e44b123-aab8-4442-a88a-137645af787b",
   "metadata": {},
   "source": [
    "# Hi-Lo"
   ]
  },
  {
   "cell_type": "markdown",
   "id": "bff9317b-d4d0-48ca-a150-64af1678ddc2",
   "metadata": {},
   "source": [
    "## Objective"
   ]
  },
  {
   "cell_type": "markdown",
   "id": "c917b591-7ebe-44be-a941-60a5e855ca42",
   "metadata": {},
   "source": [
    "Write an app that allows you to play a game of Hi-Lo.\n",
    "\n",
    "Hi-Lo is a child's game where you think of a number and the other person has to try and guess it. When they make a guess, you can only tell them if their numbers was lower, higher or equal to your number.\n",
    "\n",
    "Basically it's an informal way of teaching binary search."
   ]
  },
  {
   "cell_type": "markdown",
   "id": "de294fc7-2a39-4e69-8943-cdee754e5bf7",
   "metadata": {
    "tags": []
   },
   "source": [
    "## Create a new app"
   ]
  },
  {
   "cell_type": "markdown",
   "id": "ebd08306-9367-4336-a6c3-1a2fa2a4be5d",
   "metadata": {
    "tags": []
   },
   "source": [
    "Create a new app called `hi-lo` and open it."
   ]
  },
  {
   "cell_type": "markdown",
   "id": "b5880bc3-4570-4700-b2ed-c7d09bfa8317",
   "metadata": {
    "tags": []
   },
   "source": [
    "#### <font color=\"green\">_Solution_</font>"
   ]
  },
  {
   "cell_type": "raw",
   "id": "57eb640d-6ca5-4f1a-a873-d07015e7729c",
   "metadata": {
    "jupyter": {
     "source_hidden": true
    },
    "tags": []
   },
   "source": [
    "cargo new hi-lo\n",
    "cd hi-lo\n",
    "code ."
   ]
  },
  {
   "cell_type": "markdown",
   "id": "7ba1eb2b-36b7-4bf9-b3c2-596619e13b4f",
   "metadata": {},
   "source": [
    "## Create a random number generator"
   ]
  },
  {
   "cell_type": "markdown",
   "id": "a771e19b-134b-4f40-9250-c529552c262c",
   "metadata": {},
   "source": [
    "The foundation of the game is being able to pick a random number. We'll use an external crate (`rand`) to help us.\n",
    "\n",
    "Open your `Cargo.toml` file and add `rand = \"0.8.4\"` as a dependency. The latest version number (e.g. 0.8.4) can be obtained from the crate's [document page](https://docs.rs/rand/latest/rand/)."
   ]
  },
  {
   "cell_type": "markdown",
   "id": "d7e5a7fc-19fc-48be-9979-5701f55b131d",
   "metadata": {
    "tags": []
   },
   "source": [
    "#### <font color=\"green\">_Solution_</font>"
   ]
  },
  {
   "cell_type": "raw",
   "id": "de777340-1e34-44ce-a0fb-60c43f28fb5b",
   "metadata": {
    "jupyter": {
     "source_hidden": true
    },
    "tags": []
   },
   "source": [
    "[package]\n",
    "name = \"hi-lo\"\n",
    "version = \"0.1.0\"\n",
    "edition = \"2021\"\n",
    "\n",
    "# See more keys and their definitions at https://doc.rust-lang.org/cargo/reference/manifest.html\n",
    "\n",
    "[dependencies]\n",
    "rand = \"0.8.4\""
   ]
  },
  {
   "cell_type": "markdown",
   "id": "7b0eb73d-5f2e-4550-812b-bfc7b55254f3",
   "metadata": {},
   "source": [
    "Create a `get_secret` function that returns a random number between 1 and 100."
   ]
  },
  {
   "cell_type": "code",
   "execution_count": null,
   "id": "2fb99ec8-9b87-4277-878f-06a8da8ac0d3",
   "metadata": {},
   "outputs": [],
   "source": [
    "// Use declarations generally go at the top of the file\n",
    "use rand::Rng;\n",
    "\n",
    "fn get_secret() -> u32 {\n",
    "    rand::thread_rng().gen_range(1..101)\n",
    "}"
   ]
  },
  {
   "cell_type": "markdown",
   "id": "36e45bce-16b2-493e-bb43-0cb5e03592d8",
   "metadata": {
    "tags": []
   },
   "source": [
    "## Encapsulate the game mechanics in a struct"
   ]
  },
  {
   "cell_type": "markdown",
   "id": "24a08574-bbc4-4e45-ac78-491b5996e295",
   "metadata": {},
   "source": [
    "Our game will need two pieces of persistent data---the secret number and the number of attempts (so we can see how good we are).\n",
    "\n",
    "Create a struct called `HiLo` with two fields.\n",
    "\n",
    "- `secret` (`u32`)\n",
    "- `attempts` (`u32`)"
   ]
  },
  {
   "cell_type": "markdown",
   "id": "b301be29-d173-4ef1-9179-4f3d4aec97d3",
   "metadata": {
    "tags": []
   },
   "source": [
    "#### <font color=\"green\">_Solution_</font>"
   ]
  },
  {
   "cell_type": "code",
   "execution_count": null,
   "id": "e822bd07-006a-4039-9af5-0ff11ce9cd7c",
   "metadata": {
    "jupyter": {
     "source_hidden": true
    },
    "tags": []
   },
   "outputs": [],
   "source": [
    "struct HiLo {\n",
    "    secret: u32,\n",
    "    attempts: u32,\n",
    "}"
   ]
  },
  {
   "cell_type": "markdown",
   "id": "1047dcd6-7ec3-478b-8789-8f4d32cef31e",
   "metadata": {
    "tags": []
   },
   "source": [
    "We'll need to implement some methods for our `HiLo` struct.\n",
    "\n",
    "Implement a `new` method that returns an initialized `HiLo` instance. Initialize `secret` to a random number and `attempts` to 0."
   ]
  },
  {
   "cell_type": "markdown",
   "id": "0051a51f-cfd6-40c6-bfd7-d30bb07f8369",
   "metadata": {
    "tags": []
   },
   "source": [
    "#### <font color=\"green\">_Solution_</font>"
   ]
  },
  {
   "cell_type": "code",
   "execution_count": null,
   "id": "1ce0afa1-e3c8-45e3-a96b-728236291b0a",
   "metadata": {
    "jupyter": {
     "source_hidden": true
    },
    "tags": []
   },
   "outputs": [],
   "source": [
    "impl HiLo {\n",
    "    fn new() -> HiLo {\n",
    "        let hi_lo = HiLo {\n",
    "            secret: get_secret(),\n",
    "            attempts: 0,\n",
    "        };\n",
    "\n",
    "        hi_lo\n",
    "    }\n",
    "}"
   ]
  },
  {
   "cell_type": "markdown",
   "id": "9dad9efb-2f42-4484-9eee-577e0f4a5309",
   "metadata": {
    "tags": []
   },
   "source": [
    "We need a `make_guess` method that takes a numeric guess and returns an enum variant classifying the guess as low, high or correct.\n",
    "\n",
    "Start by creating a `GuessStatus` enum with variants of\n",
    "\n",
    "- `Uninitialized`\n",
    "- `TooLow`\n",
    "- `TooHigh`\n",
    "- `Exact`"
   ]
  },
  {
   "cell_type": "markdown",
   "id": "20767bac-6cef-4eba-affd-4257913f98d5",
   "metadata": {
    "tags": []
   },
   "source": [
    "#### <font color=\"green\">_Solution_</font>"
   ]
  },
  {
   "cell_type": "code",
   "execution_count": null,
   "id": "06e0086d-7a6b-4f4d-a1cc-004b3e76f06e",
   "metadata": {
    "jupyter": {
     "source_hidden": true
    },
    "tags": []
   },
   "outputs": [],
   "source": [
    "enum GuessStatus {\n",
    "    Uninitialized,\n",
    "    TooLow,\n",
    "    TooHigh,\n",
    "    Exact,\n",
    "}"
   ]
  },
  {
   "cell_type": "markdown",
   "id": "bced3483-8843-4076-a607-f3c616d36e58",
   "metadata": {},
   "source": [
    "We are going to need to be able to compare variants of the `GuessStatus` enum in our decision-making logic. To do this, we are going to have to add the `PartialEq` trait to our enum by putting the following attribute directly above its declaration."
   ]
  },
  {
   "cell_type": "code",
   "execution_count": null,
   "id": "70d4cf34-bcde-4e46-a909-a4e6bd224b63",
   "metadata": {},
   "outputs": [],
   "source": [
    "#[derive(PartialEq)]\n",
    "enum GuessStatus {}"
   ]
  },
  {
   "cell_type": "markdown",
   "id": "d2568419-2c48-4f68-a9e9-f36cccd3f5df",
   "metadata": {
    "tags": []
   },
   "source": [
    "Implement the `make_guess` method, taking a `u32` `guess` parameter and, by comparing it with the secret, returning the appropriate `GuessStatus` variant.\n",
    "\n",
    "Remember to increment attempts---as we've made another guess."
   ]
  },
  {
   "cell_type": "markdown",
   "id": "ee4dc01c-7336-422a-9298-e0ed77566374",
   "metadata": {
    "tags": []
   },
   "source": [
    "#### <font color=\"green\">_Solution_</font>"
   ]
  },
  {
   "cell_type": "code",
   "execution_count": null,
   "id": "c1ed9aac-4e75-45ba-a9b2-29a11e9be1e1",
   "metadata": {
    "jupyter": {
     "source_hidden": true
    },
    "tags": []
   },
   "outputs": [],
   "source": [
    "fn make_guess(&mut self, guess: u32) -> GuessStatus {\n",
    "    self.attempts += 1;\n",
    "\n",
    "    if guess < self.secret {\n",
    "        GuessStatus::TooLow\n",
    "    } else if guess > self.secret {\n",
    "        GuessStatus::TooHigh\n",
    "    } else {\n",
    "        GuessStatus::Exact\n",
    "    }\n",
    "}"
   ]
  },
  {
   "cell_type": "markdown",
   "id": "ac2aabf1-bcb9-41b6-ac52-1f3b2f526d2c",
   "metadata": {},
   "source": [
    "The complete `HiLo` struct should now be as follows."
   ]
  },
  {
   "cell_type": "code",
   "execution_count": null,
   "id": "9f111554-d4de-48fe-bf3c-ea621a81b4fa",
   "metadata": {
    "jupyter": {
     "source_hidden": true
    },
    "tags": []
   },
   "outputs": [],
   "source": [
    "#[derive(PartialEq)]\n",
    "enum GuessStatus {\n",
    "    Uninitialized,\n",
    "    TooLow,\n",
    "    TooHigh,\n",
    "    Exact,\n",
    "}\n",
    "\n",
    "struct HiLo {\n",
    "    secret: u32,\n",
    "    attempts: u32,\n",
    "}\n",
    "\n",
    "impl HiLo {\n",
    "    fn new() -> HiLo {\n",
    "        let hi_lo = HiLo {\n",
    "            secret: get_secret(),\n",
    "            attempts: 0,\n",
    "        };\n",
    "\n",
    "        hi_lo\n",
    "    }\n",
    "\n",
    "    fn make_guess(&mut self, guess: u32) -> GuessStatus {\n",
    "        self.attempts += 1;\n",
    "\n",
    "        if guess < self.secret {\n",
    "            GuessStatus::TooLow\n",
    "        } else if guess > self.secret {\n",
    "            GuessStatus::TooHigh\n",
    "        } else {\n",
    "            GuessStatus::Exact\n",
    "        }\n",
    "    }\n",
    "}"
   ]
  },
  {
   "cell_type": "markdown",
   "id": "bed2c516-d814-4dbc-aedc-b90174d0dcf8",
   "metadata": {},
   "source": [
    "## Read a guess from the user"
   ]
  },
  {
   "cell_type": "markdown",
   "id": "36e1fa3a-ea65-47ae-a184-fc99777ab8f8",
   "metadata": {},
   "source": [
    "We need a function to read a guess (`u32`) from the user. This involves a number of Rust capabilities we've yet to cover (e.g. error handling), so the complete function is provided.\n",
    "\n",
    "Note that this function does not do any sophisticated error handling (e.g. recover from invalid input)."
   ]
  },
  {
   "cell_type": "code",
   "execution_count": null,
   "id": "aa1b9d9f-34f0-4b44-80c3-b5cd9f2fc460",
   "metadata": {
    "tags": []
   },
   "outputs": [],
   "source": [
    "// Use declarations generally go at the top of the file\n",
    "use std::io;\n",
    "\n",
    "fn read_guess() -> u32 {\n",
    "    println!(\"What number between 1 and 100 am I thinking of?\");\n",
    "\n",
    "    let mut s = String::new();\n",
    "\n",
    "    io::stdin()\n",
    "        .read_line(&mut s)\n",
    "        .expect(\"Failed to read from input\");\n",
    "\n",
    "    s.trim().parse::<u32>().unwrap()\n",
    "}"
   ]
  },
  {
   "cell_type": "markdown",
   "id": "11cc12ce-a345-45cd-974b-e67c4f17f102",
   "metadata": {},
   "source": [
    "## Putting it all together"
   ]
  },
  {
   "cell_type": "markdown",
   "id": "54026362-8728-4284-a409-365df70f722c",
   "metadata": {},
   "source": [
    "The basic elements of the game have been implemented. We can now pull them all together in our `main` function.\n",
    "\n",
    "Start by creating a new mutable instance of the `HiLo` struct. Call it `hi_lo`. It needs to be mutable as we'll be updating the `attempts`."
   ]
  },
  {
   "cell_type": "markdown",
   "id": "59c0746c-0046-41b7-bf2a-cd3ee8f638e5",
   "metadata": {
    "tags": []
   },
   "source": [
    "#### <font color=\"green\">_Solution_</font>"
   ]
  },
  {
   "cell_type": "code",
   "execution_count": null,
   "id": "79bcf202-b521-4ea6-bbc8-f197087a68e8",
   "metadata": {
    "jupyter": {
     "source_hidden": true
    },
    "tags": []
   },
   "outputs": [],
   "source": [
    "let mut hi_lo = HiLo::new();"
   ]
  },
  {
   "cell_type": "markdown",
   "id": "e8292447-8604-4e98-a256-7c7d2d00ac87",
   "metadata": {
    "tags": []
   },
   "source": [
    "Create a mutable `guess_status` variable and initialize it to `GuessStatus::Uninitialized`. This represents the status of our last guess."
   ]
  },
  {
   "cell_type": "markdown",
   "id": "952fc449-9e25-4717-8a23-4a4bd5c181a2",
   "metadata": {
    "tags": []
   },
   "source": [
    "#### <font color=\"green\">_Solution_</font>"
   ]
  },
  {
   "cell_type": "code",
   "execution_count": null,
   "id": "6729e354-d47e-4304-927b-a3854147e862",
   "metadata": {
    "jupyter": {
     "source_hidden": true
    },
    "tags": []
   },
   "outputs": [],
   "source": [
    "let mut guess_status = GuessStatus::Uninitialized;"
   ]
  },
  {
   "cell_type": "markdown",
   "id": "35a9fed9-e471-46a6-9ae7-0fcac31ef5c1",
   "metadata": {
    "tags": []
   },
   "source": [
    "Create a loop that will continue as long as we haven't guess the secret. It should\n",
    "\n",
    "- Read a guess from the user\n",
    "- Get the status of the guess (by making a guess)\n",
    "- Use a match expression to inform the user of the status of the guess"
   ]
  },
  {
   "cell_type": "markdown",
   "id": "b4f9ddaa-a158-4531-9de6-fc5f0f541f99",
   "metadata": {
    "tags": []
   },
   "source": [
    "#### <font color=\"green\">_Solution_</font>"
   ]
  },
  {
   "cell_type": "code",
   "execution_count": null,
   "id": "dfc63884-7b4b-4c25-8864-06dac122de75",
   "metadata": {
    "jupyter": {
     "source_hidden": true
    },
    "tags": []
   },
   "outputs": [],
   "source": [
    "while guess_status != GuessStatus::Exact {\n",
    "    let guess = read_guess();\n",
    "\n",
    "    guess_status = hi_lo.make_guess(guess);\n",
    "\n",
    "    match guess_status {\n",
    "        GuessStatus::TooLow => println!(\"Awww... {} is too low.\", guess),\n",
    "        GuessStatus::TooHigh => println!(\"Steady... {} is too high!\", guess),\n",
    "        _ => println!(\n",
    "            \"Congratulations! You took {} attempt(s) to guess I was thinking of {}.\",\n",
    "            hi_lo.attempts, hi_lo.secret\n",
    "        ),\n",
    "    }\n",
    "}"
   ]
  },
  {
   "cell_type": "markdown",
   "id": "43bb13b6-f0ad-48b0-9b89-cb4cfaed84b2",
   "metadata": {},
   "source": [
    "The complete `main` function should now be as follows."
   ]
  },
  {
   "cell_type": "code",
   "execution_count": null,
   "id": "4c1cce29-bd64-418c-ab41-68790688bf82",
   "metadata": {
    "jupyter": {
     "source_hidden": true
    },
    "tags": []
   },
   "outputs": [],
   "source": [
    "fn main() {\n",
    "    let mut hi_lo = HiLo::new();\n",
    "\n",
    "    let mut guess_status = GuessStatus::Uninitialized;\n",
    "\n",
    "    while guess_status != GuessStatus::Exact {\n",
    "        let guess = read_guess();\n",
    "\n",
    "        guess_status = hi_lo.make_guess(guess);\n",
    "\n",
    "        match guess_status {\n",
    "            GuessStatus::TooLow => println!(\"Awww... {} is too low.\", guess),\n",
    "            GuessStatus::TooHigh => println!(\"Steady... {} is too high!\", guess),\n",
    "            _ => println!(\n",
    "                \"Congratulations! You took {} attempt(s) to guess I was thinking of {}.\",\n",
    "                hi_lo.attempts, hi_lo.secret\n",
    "            ),\n",
    "        }\n",
    "    }\n",
    "}"
   ]
  },
  {
   "cell_type": "markdown",
   "id": "1bbc4628-8ddc-4954-86ac-4f4486ede6b9",
   "metadata": {
    "tags": []
   },
   "source": [
    "## Build and run the app"
   ]
  },
  {
   "cell_type": "markdown",
   "id": "93ccadca-4dfa-4d3b-9e74-76e62984c69b",
   "metadata": {
    "tags": []
   },
   "source": [
    "#### <font color=\"green\">_Solution_</font>"
   ]
  },
  {
   "cell_type": "raw",
   "id": "e6cf7ef2-8986-431e-8e1e-c70a777b78e0",
   "metadata": {
    "jupyter": {
     "source_hidden": true
    },
    "tags": []
   },
   "source": [
    "cargo run"
   ]
  },
  {
   "cell_type": "markdown",
   "id": "e6a01e9e-090a-4b25-a16d-b136be6ce15e",
   "metadata": {
    "tags": []
   },
   "source": [
    "Play the game a few times to see how quickly you can guess the secret. Anything above 7 attempts is starting to look bad."
   ]
  },
  {
   "cell_type": "markdown",
   "id": "f21acb47-cb56-4db0-b53a-e926578fee05",
   "metadata": {},
   "source": [
    "## Congratulations"
   ]
  },
  {
   "cell_type": "markdown",
   "id": "beaf15e0-342a-43fb-b849-99ac33abcc48",
   "metadata": {
    "tags": []
   },
   "source": [
    "You have written an app that allows you to play a game of Hi-Lo."
   ]
  }
 ],
 "metadata": {
  "kernelspec": {
   "display_name": "Rust",
   "language": "rust",
   "name": "rust"
  },
  "language_info": {
   "codemirror_mode": "rust",
   "file_extension": ".rs",
   "mimetype": "text/rust",
   "name": "Rust",
   "pygment_lexer": "rust",
   "version": ""
  }
 },
 "nbformat": 4,
 "nbformat_minor": 5
}
