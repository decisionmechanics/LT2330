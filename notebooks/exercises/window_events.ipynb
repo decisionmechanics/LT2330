{
 "cells": [
  {
   "cell_type": "markdown",
   "id": "935ac40d-6b6b-4319-a32a-fc545465ac8b",
   "metadata": {
    "tags": []
   },
   "source": [
    "# Window events"
   ]
  },
  {
   "cell_type": "markdown",
   "id": "a8eb5f05-706c-4e2d-8616-d4a0539f0519",
   "metadata": {},
   "source": [
    "## Objective"
   ]
  },
  {
   "cell_type": "markdown",
   "id": "3e27f0fb-bf62-4140-b202-bbc73d704001",
   "metadata": {},
   "source": [
    "Write an app that encodes and logs windows events.\n",
    "\n",
    "Desktop apps run on a loop, listening for events. Events are things like\n",
    "\n",
    "- window displayed\n",
    "- key pressed\n",
    "- move moved\n",
    "\n",
    "In this app, we'll represent window events using an enum, create some and then log them to the console."
   ]
  },
  {
   "cell_type": "markdown",
   "id": "7c8cd9b9-722c-45d2-8a6a-37178f63c66a",
   "metadata": {
    "tags": []
   },
   "source": [
    "## Create a new app"
   ]
  },
  {
   "cell_type": "markdown",
   "id": "c928e86f-8dae-4384-a6d1-a569210b07d8",
   "metadata": {
    "tags": []
   },
   "source": [
    "Create a new app called `window_events` and open it."
   ]
  },
  {
   "cell_type": "markdown",
   "id": "1471d429-d171-49a9-bbbd-81926f55d360",
   "metadata": {
    "tags": []
   },
   "source": [
    "#### <font color=\"green\">_Solution_</font>"
   ]
  },
  {
   "cell_type": "raw",
   "id": "6790d963-9402-4278-8e17-663f4286188a",
   "metadata": {
    "jupyter": {
     "source_hidden": true
    },
    "tags": []
   },
   "source": [
    "cargo new window_events\n",
    "cd window_events\n",
    "code ."
   ]
  },
  {
   "cell_type": "markdown",
   "id": "15cb5b45-77b1-4e41-92e1-48ca414acc39",
   "metadata": {},
   "source": [
    "## Create a window event enum"
   ]
  },
  {
   "cell_type": "markdown",
   "id": "fc3271e0-cff5-4aea-b029-3b5e00a7c2f9",
   "metadata": {},
   "source": [
    "Create a `WindowEvent` enum. It should be able to represent the following window events.\n",
    "\n",
    "- Load\n",
    "- Show\n",
    "- Key press (with key pressed as a `char`)\n",
    "- Mouse down (with x and y coordinates as `i32`s)\n",
    "- Mouse move (with x and y coordinates as `i32`s)\n",
    "- Mouse up (with x and y coordinates as `i32`s)\n",
    "- Click (with button as `MouseButton` number of clicks as `u32`)\n",
    "- Text entered (with text as a `String`)\n",
    "\n",
    "The `MouseButton` type using in the click event is also an enum that needs to be created. It's variants are `Left` and `Right`."
   ]
  },
  {
   "cell_type": "markdown",
   "id": "5d163422-4fe9-4ef6-a4b3-5a18f1f31275",
   "metadata": {
    "tags": []
   },
   "source": [
    "#### <font color=\"green\">_Solution_</font>"
   ]
  },
  {
   "cell_type": "code",
   "execution_count": null,
   "id": "0fedd783-0d78-4d63-9291-822c9e074796",
   "metadata": {
    "jupyter": {
     "source_hidden": true
    },
    "tags": []
   },
   "outputs": [],
   "source": [
    "enum MouseButton {\n",
    "    Left,\n",
    "    Right,\n",
    "}\n",
    "\n",
    "enum WindowEvent {\n",
    "    Load,\n",
    "    Show,\n",
    "    KeyPress(char),\n",
    "    MouseDown { x: i32, y: i32 },\n",
    "    MouseMove { x: i32, y: i32 },\n",
    "    MouseUp { x: i32, y: i32 },\n",
    "    Click { button: MouseButton, times: u32 },\n",
    "    TextEntered(String),\n",
    "}"
   ]
  },
  {
   "cell_type": "markdown",
   "id": "c6507971-2bd9-4108-95a5-446e8f06a1d4",
   "metadata": {},
   "source": [
    "We are going to want to log which mouse button (left or right) was clicked. To do that, we need to be able to format the `MouseEvent` enum for display.\n",
    "\n",
    "The best way to do that is to write a display formatter for the `MouseButton` enum. A display formatter is just a function that takes an enum variant and formats it. The syntax is a little convoluted, but is something that you generally look up when you need it.\n",
    "\n",
    "Paste the following code into your `main.rs` file."
   ]
  },
  {
   "cell_type": "code",
   "execution_count": null,
   "id": "7b18f9e7-0880-495e-942d-56264e5c85c0",
   "metadata": {
    "tags": []
   },
   "outputs": [],
   "source": [
    "// Use declarations generally go at the top of the file\n",
    "use std::fmt;\n",
    "\n",
    "impl fmt::Display for MouseButton {\n",
    "    fn fmt(&self, f: &mut fmt::Formatter<'_>) -> fmt::Result {\n",
    "        match &self {\n",
    "            MouseButton::Left => write!(f, \"Left\"),\n",
    "            MouseButton::Right => write!(f, \"Right\"),\n",
    "        }\n",
    "    }\n",
    "}"
   ]
  },
  {
   "cell_type": "markdown",
   "id": "f35d623e-3207-42dc-ad7e-72a9ed07201e",
   "metadata": {},
   "source": [
    "The complete `WindowEvent` enum definition should now be as follows."
   ]
  },
  {
   "cell_type": "code",
   "execution_count": null,
   "id": "b96f726b-19a2-488b-89de-a45c997d49e1",
   "metadata": {
    "jupyter": {
     "source_hidden": true
    },
    "tags": []
   },
   "outputs": [],
   "source": [
    "use std::fmt;\n",
    "\n",
    "enum MouseButton {\n",
    "    Left,\n",
    "    Right,\n",
    "}\n",
    "\n",
    "impl fmt::Display for MouseButton {\n",
    "    fn fmt(&self, f: &mut fmt::Formatter<'_>) -> fmt::Result {\n",
    "        match &self {\n",
    "            MouseButton::Left => write!(f, \"Left\"),\n",
    "            MouseButton::Right => write!(f, \"Right\"),\n",
    "        }\n",
    "    }\n",
    "}\n",
    "\n",
    "enum WindowEvent {\n",
    "    Load,\n",
    "    Show,\n",
    "    KeyPress(char),\n",
    "    MouseDown { x: i32, y: i32 },\n",
    "    MouseMove { x: i32, y: i32 },\n",
    "    MouseUp { x: i32, y: i32 },\n",
    "    Click { button: MouseButton, times: u32 },\n",
    "    TextEntered(String),\n",
    "}"
   ]
  },
  {
   "cell_type": "markdown",
   "id": "88b304d7-b414-4e5e-9cd2-c94bb77eb0cc",
   "metadata": {},
   "source": [
    "## Create a function to log windows events to the console"
   ]
  },
  {
   "cell_type": "markdown",
   "id": "6eb4652b-e075-4c24-bae9-944b187e9e99",
   "metadata": {
    "tags": []
   },
   "source": [
    "Define a `log` function that takes a WindowEvent and logs (displays) a human-readable description of the event in the console.\n",
    "\n",
    "This function will use a `match` expression that covers all the variants of the `WindowEvent` enum. Remember to log *all* the data available to the variant (e.g. mouse position)."
   ]
  },
  {
   "cell_type": "markdown",
   "id": "4d926a8a-7d0b-4c64-8df0-0f6a03fe6d2b",
   "metadata": {
    "tags": []
   },
   "source": [
    "#### <font color=\"green\">_Solution_</font>"
   ]
  },
  {
   "cell_type": "code",
   "execution_count": null,
   "id": "c7a3fd41-57eb-4175-a28c-454a0d28cf10",
   "metadata": {
    "jupyter": {
     "source_hidden": true
    },
    "tags": []
   },
   "outputs": [],
   "source": [
    "fn log(event: WindowEvent) {\n",
    "    match event {\n",
    "        WindowEvent::Load => println!(\"Window loaded\"),\n",
    "        WindowEvent::Show => println!(\"Window shown\"),\n",
    "        WindowEvent::KeyPress(key) => println!(\"Key '{}' pressed\", key),\n",
    "        WindowEvent::MouseDown { x, y } => println!(\"Mouse button down at ({}, {})\", x, y),\n",
    "        WindowEvent::MouseMove { x, y } => println!(\"Mouse moved to ({}, {})\", x, y),\n",
    "        WindowEvent::MouseUp { x, y } => println!(\"Mouse button up at ({}, {})\", x, y),\n",
    "        WindowEvent::Click { button, times, .. } => println!(\"{} mouse button clicked {} time(s)\", button, times),\n",
    "        WindowEvent::TextEntered(s) => println!(\"'{}' entered\", s),\n",
    "    }\n",
    "}"
   ]
  },
  {
   "cell_type": "markdown",
   "id": "15c5d672-b348-4480-ac29-9d0d0bb5427a",
   "metadata": {},
   "source": [
    "## Create and log an array of sample events"
   ]
  },
  {
   "cell_type": "markdown",
   "id": "f81f2567-5534-4fea-adc9-e49eea7f571d",
   "metadata": {},
   "source": [
    "In the `main` function, create a array (`events`) of sample events--at least one for each `WindowEvent` variant."
   ]
  },
  {
   "cell_type": "markdown",
   "id": "dc18d292-0801-4fee-897f-5befe87ed771",
   "metadata": {
    "tags": []
   },
   "source": [
    "#### <font color=\"green\">_Solution_</font>"
   ]
  },
  {
   "cell_type": "code",
   "execution_count": null,
   "id": "a628058e-f6d9-42bd-978f-33fc6fdc1507",
   "metadata": {
    "jupyter": {
     "source_hidden": true
    },
    "tags": []
   },
   "outputs": [],
   "source": [
    "let events = [\n",
    "    WindowEvent::Load,\n",
    "    WindowEvent::Show,\n",
    "    WindowEvent::KeyPress('q'),\n",
    "    WindowEvent::MouseDown { x: 100, y: 200 },\n",
    "    WindowEvent::MouseMove { x: 100, y: 200 },\n",
    "    WindowEvent::MouseUp { x: 100, y: 200 },\n",
    "    WindowEvent::Click {\n",
    "        button: MouseButton::Left,\n",
    "        times: 1,\n",
    "    },\n",
    "    WindowEvent::Click {\n",
    "        button: MouseButton::Right,\n",
    "        times: 2,\n",
    "    },\n",
    "    WindowEvent::TextEntered(String::from(\"Hi\")),\n",
    "];"
   ]
  },
  {
   "cell_type": "markdown",
   "id": "5ce435bf-06a0-4702-8397-a256997a77c3",
   "metadata": {},
   "source": [
    "Write a `for` loop that traverses the sample events and logs each one."
   ]
  },
  {
   "cell_type": "markdown",
   "id": "fe0b83a9-3b4e-4770-952a-5dd772587499",
   "metadata": {
    "tags": []
   },
   "source": [
    "#### <font color=\"green\">_Solution_</font>"
   ]
  },
  {
   "cell_type": "code",
   "execution_count": null,
   "id": "31d5b8ce-850d-4537-b2bd-33c29350e34a",
   "metadata": {
    "jupyter": {
     "source_hidden": true
    },
    "tags": []
   },
   "outputs": [],
   "source": [
    "for event in events {\n",
    "    log(event);\n",
    "}"
   ]
  },
  {
   "cell_type": "markdown",
   "id": "23fa1acb-f0f7-4df0-8a08-bdd8ae3036a6",
   "metadata": {},
   "source": [
    "The complete `main` function should now be as follows."
   ]
  },
  {
   "cell_type": "code",
   "execution_count": null,
   "id": "4b1a44fe-b5f6-4c20-8cbc-7ed21cf3ef1b",
   "metadata": {
    "jupyter": {
     "source_hidden": true
    },
    "tags": []
   },
   "outputs": [],
   "source": [
    "fn main() {\n",
    "    let events = [\n",
    "        WindowEvent::Load,\n",
    "        WindowEvent::Show,\n",
    "        WindowEvent::KeyPress('q'),\n",
    "        WindowEvent::MouseDown { x: 100, y: 200 },\n",
    "        WindowEvent::MouseMove { x: 100, y: 200 },\n",
    "        WindowEvent::MouseUp { x: 100, y: 200 },\n",
    "        WindowEvent::Click {\n",
    "            button: MouseButton::Left,\n",
    "            times: 1,\n",
    "        },\n",
    "        WindowEvent::Click {\n",
    "            button: MouseButton::Right,\n",
    "            times: 2,\n",
    "        },\n",
    "        WindowEvent::TextEntered(String::from(\"Hi\")),\n",
    "    ];\n",
    "\n",
    "    for event in events {\n",
    "        log(event);\n",
    "    }\n",
    "}"
   ]
  },
  {
   "cell_type": "markdown",
   "id": "735f33ea-56c9-4b12-befb-cf86972d47ce",
   "metadata": {
    "tags": []
   },
   "source": [
    "## Build and run the app"
   ]
  },
  {
   "cell_type": "markdown",
   "id": "275bfd65-1c31-417a-93ef-5c8eb1336e80",
   "metadata": {
    "tags": []
   },
   "source": [
    "#### <font color=\"green\">_Solution_</font>"
   ]
  },
  {
   "cell_type": "raw",
   "id": "7dfb3e5c-2812-4219-a888-abe9f89933b5",
   "metadata": {
    "jupyter": {
     "source_hidden": true
    },
    "tags": []
   },
   "source": [
    "cargo run"
   ]
  },
  {
   "cell_type": "markdown",
   "id": "889e1c57-0ed5-4a02-8a65-eabf8d775fdf",
   "metadata": {
    "tags": []
   },
   "source": [
    "You should see a each of your sample events, and associated data, displayed in your console."
   ]
  },
  {
   "cell_type": "markdown",
   "id": "70a600c2-36c8-4a7c-af4c-93f003866ee0",
   "metadata": {},
   "source": [
    "## Congratulations"
   ]
  },
  {
   "cell_type": "markdown",
   "id": "b240be8a-c2e8-4d22-8671-aa52212803d8",
   "metadata": {},
   "source": [
    "You have written an app that encodes and logs windows events."
   ]
  }
 ],
 "metadata": {
  "kernelspec": {
   "display_name": "Rust",
   "language": "rust",
   "name": "rust"
  },
  "language_info": {
   "codemirror_mode": "rust",
   "file_extension": ".rs",
   "mimetype": "text/rust",
   "name": "Rust",
   "pygment_lexer": "rust",
   "version": ""
  }
 },
 "nbformat": 4,
 "nbformat_minor": 5
}
