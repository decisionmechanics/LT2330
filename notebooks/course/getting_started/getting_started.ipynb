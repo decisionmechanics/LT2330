{
 "cells": [
  {
   "cell_type": "markdown",
   "id": "6fb6d0e4-0077-4057-aba3-fa714812d7fe",
   "metadata": {},
   "source": [
    "# Getting started with Rust"
   ]
  },
  {
   "cell_type": "markdown",
   "id": "7ae44b0e-f46b-40c3-a1ee-3751840f2ec9",
   "metadata": {},
   "source": [
    "## `rustup`"
   ]
  },
  {
   "cell_type": "markdown",
   "id": "55029a8e-a9a1-4f53-9b6a-b434efd24870",
   "metadata": {},
   "source": [
    "### Installing Rust using `rustup`"
   ]
  },
  {
   "cell_type": "markdown",
   "id": "0bbd203b-eb7c-49bb-a2ea-cd7d72ab406d",
   "metadata": {},
   "source": [
    "On Linux and macOS `rustup` is installed using a script."
   ]
  },
  {
   "cell_type": "raw",
   "id": "261ca1df-0f77-4f5a-86d7-ba7cf74959c6",
   "metadata": {},
   "source": [
    "curl https://sh.rustup.rs -sSf | sh"
   ]
  },
  {
   "cell_type": "markdown",
   "id": "b2fab724-c019-4138-84a5-19d3d30d76b1",
   "metadata": {},
   "source": [
    "On Windows `rustup` is installed via an installer---[rustup-init.exe](https://win.rustup.rs/)"
   ]
  },
  {
   "cell_type": "markdown",
   "id": "64babaca-740a-49aa-93bd-79350fecca4d",
   "metadata": {},
   "source": [
    "### Managing toolchains"
   ]
  },
  {
   "cell_type": "raw",
   "id": "1d41a27f-64e2-4771-b3ee-46369972159c",
   "metadata": {
    "tags": []
   },
   "source": [
    "rustup update\n",
    "rustup toolchain list\n",
    "rustup toolchain install nightly\n",
    "rustup toolchain install 1.50\n",
    "rustup default 1.50\n",
    "cargo --version\n",
    "rustup toolchain uninstall nightly\n",
    "rustup default stable"
   ]
  },
  {
   "cell_type": "markdown",
   "id": "29d324fd-b723-4c44-8024-63217cfa2cc0",
   "metadata": {},
   "source": [
    "## Cargo"
   ]
  },
  {
   "cell_type": "markdown",
   "id": "ea919e4c-1ca5-45f9-b82c-fd2b5a908b99",
   "metadata": {},
   "source": [
    "### Creating a new package"
   ]
  },
  {
   "cell_type": "markdown",
   "id": "bf7eae06-7211-486f-a5b5-319aa41d4f9b",
   "metadata": {},
   "source": [
    "Supply the `--bin` option to create a new app (binary) package."
   ]
  },
  {
   "cell_type": "raw",
   "id": "68a191d0-7b03-4369-b337-aa8f34c2d863",
   "metadata": {},
   "source": [
    "cargo new my_first_app --bin"
   ]
  },
  {
   "cell_type": "markdown",
   "id": "aee1d3e4-dca8-4145-b125-cc2e6c8c3027",
   "metadata": {},
   "source": [
    "Supply the `--lib` option to create a library package."
   ]
  },
  {
   "cell_type": "raw",
   "id": "6e5a1c08-26dc-4571-ac5d-951da31fb824",
   "metadata": {},
   "source": [
    "cargo new my_first_lib --lib"
   ]
  },
  {
   "cell_type": "markdown",
   "id": "e4339dc0-4350-4ac0-8aaa-2aba9f9511b6",
   "metadata": {},
   "source": [
    "Cargo will initialize a git repository by default. You can prevent this using the `vcs` option."
   ]
  },
  {
   "cell_type": "raw",
   "id": "9f53be8b-e3ff-4ceb-a318-4144aa55f2c8",
   "metadata": {},
   "source": [
    "cargo new my_first_app --bin --vcs none"
   ]
  },
  {
   "cell_type": "markdown",
   "id": "ef41b58d-0a93-40e9-8934-cbaebc8643ca",
   "metadata": {},
   "source": [
    "### Building crates"
   ]
  },
  {
   "cell_type": "raw",
   "id": "510bc7e3-3aa3-4cf1-b7d8-6de2e2dab26f",
   "metadata": {},
   "source": [
    "cargo build"
   ]
  },
  {
   "cell_type": "markdown",
   "id": "79de5992-2f31-4890-962a-84d0a46652ef",
   "metadata": {},
   "source": [
    "Defaults to using the `debug` build configuration. Use the `--release` option to use the release configuration."
   ]
  },
  {
   "cell_type": "raw",
   "id": "536b5c04-a4ba-462e-a369-91bf198db555",
   "metadata": {},
   "source": [
    "cargo build --release"
   ]
  },
  {
   "cell_type": "markdown",
   "id": "c0d8d725-9999-4b93-a55d-6af5741074b6",
   "metadata": {},
   "source": [
    "### Other useful Cargo build commands"
   ]
  },
  {
   "cell_type": "markdown",
   "id": "2cd46160-adba-490f-89bd-97ea218eb45c",
   "metadata": {},
   "source": [
    "Getting help."
   ]
  },
  {
   "cell_type": "raw",
   "id": "2a34f30b-2e32-4734-a0b9-fddf18ddb46b",
   "metadata": {},
   "source": [
    "cargo build help"
   ]
  },
  {
   "cell_type": "markdown",
   "id": "9d2679f8-0241-4e78-8780-2207997545d0",
   "metadata": {},
   "source": [
    "Build and run the package."
   ]
  },
  {
   "cell_type": "raw",
   "id": "2c1e1225-f202-47e2-bc48-4410ac814198",
   "metadata": {},
   "source": [
    "cargo run"
   ]
  },
  {
   "cell_type": "markdown",
   "id": "1951c02a-b674-4546-a7ac-168dbabbc3e4",
   "metadata": {},
   "source": [
    "Validate the package."
   ]
  },
  {
   "cell_type": "raw",
   "id": "116fc520-dad8-4a30-b53e-ff135985daf3",
   "metadata": {},
   "source": [
    "cargo check"
   ]
  },
  {
   "cell_type": "markdown",
   "id": "1eb19e33-e5a8-4ea8-9f07-d21ef9687598",
   "metadata": {},
   "source": [
    "Remove build artifacts."
   ]
  },
  {
   "cell_type": "raw",
   "id": "1cc9be55-78d9-4d97-b2d7-16f871d96203",
   "metadata": {},
   "source": [
    "cargo clean"
   ]
  },
  {
   "cell_type": "markdown",
   "id": "3e967abe-587f-48f4-a5ce-5be8bcb26382",
   "metadata": {},
   "source": [
    "### Linting with Clippy"
   ]
  },
  {
   "cell_type": "code",
   "execution_count": 3,
   "id": "1a1c8f9a-5b61-458e-b0b4-d84db4823eb4",
   "metadata": {},
   "outputs": [],
   "source": [
    "fn foo(bar: i32) {}\n",
    "\n",
    "fn main() {\n",
    "    println!(\"Hello, world!\");\n",
    "}"
   ]
  },
  {
   "cell_type": "raw",
   "id": "68f5f984-f134-498d-a55a-628773c658d2",
   "metadata": {},
   "source": [
    "cargo check"
   ]
  },
  {
   "cell_type": "markdown",
   "id": "89d4198e-27b1-4f4c-87b7-e27994f604b2",
   "metadata": {},
   "source": [
    "### Formatting code"
   ]
  },
  {
   "cell_type": "code",
   "execution_count": 4,
   "id": "26ad1882-b5c5-48f9-bd72-a4171762a2de",
   "metadata": {},
   "outputs": [],
   "source": [
    "fn foo(bar: i32) \n",
    "{\n",
    "\n",
    "}\n",
    "\n",
    "fn main() \n",
    "{\n",
    "    println!(\"Hello, world!\");\n",
    "}"
   ]
  },
  {
   "cell_type": "raw",
   "id": "810ba915-75fa-4b70-9eaa-170b86f9b6ab",
   "metadata": {},
   "source": [
    "cargo fmt"
   ]
  }
 ],
 "metadata": {
  "kernelspec": {
   "display_name": "Rust",
   "language": "rust",
   "name": "rust"
  },
  "language_info": {
   "codemirror_mode": "rust",
   "file_extension": ".rs",
   "mimetype": "text/rust",
   "name": "Rust",
   "pygment_lexer": "rust",
   "version": ""
  }
 },
 "nbformat": 4,
 "nbformat_minor": 5
}
