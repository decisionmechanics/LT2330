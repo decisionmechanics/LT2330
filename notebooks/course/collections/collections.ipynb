{
 "cells": [
  {
   "cell_type": "markdown",
   "id": "2321a666-fab0-4597-87e1-6137b0b50391",
   "metadata": {},
   "source": [
    "# Collections"
   ]
  },
  {
   "cell_type": "markdown",
   "id": "1dfff530-b286-4254-8a90-a25ac6f25215",
   "metadata": {},
   "source": [
    "## Vectors "
   ]
  },
  {
   "cell_type": "markdown",
   "id": "591af48a-63a2-4110-b502-44bbbaa30177",
   "metadata": {
    "tags": []
   },
   "source": [
    "### Creating and initializing vectors "
   ]
  },
  {
   "cell_type": "code",
   "execution_count": null,
   "id": "ad98771b-7a62-4ad0-a871-e88af4b2f43e",
   "metadata": {},
   "outputs": [],
   "source": [
    "let primes = vec![2, 3, 5, 7, 11];\n",
    "\n",
    "// Type of vector inferred from \"pushes\"\n",
    "let mut fibonacci = Vec::new();\n",
    "\n",
    "fibonacci.push(0);\n",
    "fibonacci.push(1);\n",
    "fibonacci.push(1);\n",
    "fibonacci.push(2);\n",
    "fibonacci.push(3);\n",
    "\n",
    "// Requires explicit type annotation\n",
    "let mut numbers: Vec<i32> = Vec::new();"
   ]
  },
  {
   "cell_type": "markdown",
   "id": "f4771fbf-bbf7-42d1-a633-5bf3b9e92b97",
   "metadata": {},
   "source": [
    "### Accessing vector elements"
   ]
  },
  {
   "cell_type": "code",
   "execution_count": null,
   "id": "ed0e4934-54b2-44f2-beae-5439d4a2ac72",
   "metadata": {},
   "outputs": [],
   "source": [
    "{\n",
    "    let primes = vec![2, 3, 5, 7, 11];\n",
    "\n",
    "    let first_prime = primes[0];\n",
    "\n",
    "    // Some(3)\n",
    "    let second_prime = primes.get(1);\n",
    "    // None\n",
    "    let _tenth_prime = primes.get(10);\n",
    "\n",
    "    println!(\"1st prime is {}\", first_prime);\n",
    "\n",
    "    match second_prime {\n",
    "        Some(n) => { println!(\"2nd prime is {}\", n); },\n",
    "        None => { println!(\"There's no 2nd prime\"); }\n",
    "    }\n",
    "}"
   ]
  },
  {
   "cell_type": "markdown",
   "id": "c1f855dc-0e7e-4de1-a32e-19d9f94a5b77",
   "metadata": {},
   "source": [
    "### Modifying vector elements"
   ]
  },
  {
   "cell_type": "code",
   "execution_count": null,
   "id": "4c9ada8d-a3dc-43f8-b1df-740a1fbeef9e",
   "metadata": {},
   "outputs": [],
   "source": [
    "let mut numbers = vec![1, 2, 3, 4, 5];\n",
    "\n",
    "println!(\"The first number is {}\", numbers[0]);\n",
    "\n",
    "numbers[0] = 0;\n",
    "\n",
    "println!(\"The first number is now {}\", numbers[0]);"
   ]
  },
  {
   "cell_type": "markdown",
   "id": "71c5604a-5a1c-41b7-9c19-932f5aa3f473",
   "metadata": {},
   "source": [
    "### Iterating over vector values"
   ]
  },
  {
   "cell_type": "code",
   "execution_count": null,
   "id": "990d9536-7ed0-417e-9768-ae8972c23823",
   "metadata": {},
   "outputs": [],
   "source": [
    "const LENGTH: usize = 10;\n",
    "\n",
    "let mut fibonacci = vec![1, 1]; \n",
    "\n",
    "for i in 0..LENGTH - 2 {\n",
    "    let next_value = fibonacci[i] + fibonacci[i + 1];\n",
    "    fibonacci.push(next_value);\n",
    "}\n",
    "\n",
    "for n in fibonacci {\n",
    "    println!(\"{}\", n);\n",
    "}"
   ]
  },
  {
   "cell_type": "markdown",
   "id": "6a70f78e-5107-4d55-8479-78ba1428bb7f",
   "metadata": {},
   "source": [
    "### Storing heterogenous values"
   ]
  },
  {
   "cell_type": "code",
   "execution_count": null,
   "id": "2a0adc5b-a540-4756-86bc-594a155e5af5",
   "metadata": {},
   "outputs": [],
   "source": [
    "enum Property {\n",
    "    Integer(i32),\n",
    "    Float(f64),\n",
    "    Text(String)\n",
    "}\n",
    "\n",
    "let document = vec![\n",
    "    Property::Integer(42), \n",
    "    Property::Float(3.14), \n",
    "    Property::Text(String::from(\"Hi\"))\n",
    "];\n",
    "\n",
    "for p in document {\n",
    "    match (p) {\n",
    "        Property::Integer(n) => { println!(\"Integer ({})\", n); },\n",
    "        Property::Float(n) => { println!(\"Float ({})\", n); },\n",
    "        Property::Text(s) => { println!(\"Text ({})\", s); },\n",
    "        _ => { println!(\"What?!\"); }\n",
    "    }\n",
    "}"
   ]
  },
  {
   "cell_type": "markdown",
   "id": "cf3266ff-9873-45ce-8562-59f6ee636299",
   "metadata": {},
   "source": [
    "### Dropping vectors"
   ]
  },
  {
   "cell_type": "code",
   "execution_count": null,
   "id": "cf28054e-162f-4cbf-88a2-e48b5064b16d",
   "metadata": {},
   "outputs": [],
   "source": [
    "{\n",
    "    let primes = vec![2, 3, 5, 7, 11];\n",
    "}\n",
    "\n",
    "// The vector *and* its values are now cleaned up"
   ]
  },
  {
   "cell_type": "markdown",
   "id": "89480789-7e1b-4f15-8c22-89e597f5ce46",
   "metadata": {},
   "source": [
    "## Hash Maps"
   ]
  },
  {
   "cell_type": "markdown",
   "id": "5a84a862-c32a-4608-8f7d-5e1abe2bc57d",
   "metadata": {},
   "source": [
    "### Creating and initializing hash maps"
   ]
  },
  {
   "cell_type": "code",
   "execution_count": null,
   "id": "017ce92c-7b25-448c-a568-4f2f8317ae34",
   "metadata": {},
   "outputs": [],
   "source": [
    "use std::collections::HashMap;\n",
    "\n",
    "let mut dialling_codes = HashMap::new();\n",
    "\n",
    "dialling_codes.insert(String::from(\"UK\"), 44);\n",
    "dialling_codes.insert(String::from(\"Germany\"), 49);\n",
    "dialling_codes.insert(String::from(\"France\"), 33);\n",
    "dialling_codes.insert(String::from(\"USA\"), 1);"
   ]
  },
  {
   "cell_type": "markdown",
   "id": "3787c7d2-ef70-43ae-a806-d4e88bfb1d72",
   "metadata": {},
   "source": [
    "### Accessing hash map values"
   ]
  },
  {
   "cell_type": "code",
   "execution_count": null,
   "id": "345d9b66-ecb4-456b-afc0-983bf0da7145",
   "metadata": {
    "tags": []
   },
   "outputs": [],
   "source": [
    "use std::collections::HashMap;\n",
    "\n",
    "{\n",
    "    let mut dialling_codes = HashMap::new();\n",
    "    dialling_codes.insert(String::from(\"France\"), 33);\n",
    "    \n",
    "    let key = String::from(\"France\");\n",
    "    let dialling_code = dialling_codes.get(&key);\n",
    "\n",
    "    match dialling_code {\n",
    "        Some(code) => { println!(\"Dialling code is {}\", code); },\n",
    "        _ => { println!(\"Dialling code is unspecified\"); }\n",
    "    };\n",
    "}"
   ]
  },
  {
   "cell_type": "markdown",
   "id": "f920e86e-0607-4fa5-806f-62f61cd2eea8",
   "metadata": {},
   "source": [
    "### Inserting and updating values"
   ]
  },
  {
   "cell_type": "code",
   "execution_count": null,
   "id": "006add5a-46fd-405f-afd7-1a31d3f78f35",
   "metadata": {},
   "outputs": [],
   "source": [
    "use std::collections::HashMap;\n",
    "\n",
    "{\n",
    "    let mut league = HashMap::new();\n",
    "    league.insert(String::from(\"MNC\"), 6);\n",
    "\n",
    "    let man_city = league.entry(String::from(\"MNC\")).or_insert(0);\n",
    "    *man_city += 3;\n",
    "\n",
    "    let chelsea = league.entry(String::from(\"CHE\")).or_insert(0);\n",
    "    *chelsea += 1;\n",
    "\n",
    "    println!(\"Man City: {}, Chelsea: {}\", league.get(&String::from(\"MNC\")).unwrap(), league.get(&String::from(\"CHE\")).unwrap());\n",
    "}"
   ]
  },
  {
   "cell_type": "markdown",
   "id": "6d6d4cf1-c9cf-4ffe-9416-2b027bf96028",
   "metadata": {
    "tags": []
   },
   "source": [
    "### Iterating over hash map keys/values"
   ]
  },
  {
   "cell_type": "code",
   "execution_count": null,
   "id": "28f648c0-eedf-44ab-923c-6773e44c2b0f",
   "metadata": {},
   "outputs": [],
   "source": [
    "use std::collections::HashMap;\n",
    "\n",
    "let mut dialling_codes = HashMap::new();\n",
    "\n",
    "dialling_codes.insert(String::from(\"UK\"), 44);\n",
    "dialling_codes.insert(String::from(\"Germany\"), 49);\n",
    "dialling_codes.insert(String::from(\"France\"), 33);\n",
    "dialling_codes.insert(String::from(\"USA\"), 1);\n",
    "\n",
    "for (key, value) in dialling_codes {\n",
    "    println!(\"{}: {}\", key, value);\n",
    "}"
   ]
  },
  {
   "cell_type": "markdown",
   "id": "ffe75c70-bd34-4b5b-a868-ddf424587516",
   "metadata": {},
   "source": [
    "## Strings"
   ]
  },
  {
   "cell_type": "markdown",
   "id": "81d6d6c4-1c92-4644-b883-e6598ed9f2b6",
   "metadata": {},
   "source": [
    "### Creating strings"
   ]
  },
  {
   "cell_type": "code",
   "execution_count": null,
   "id": "725cceb0-f2a7-4ed5-a067-9ca56252af3a",
   "metadata": {},
   "outputs": [],
   "source": [
    "use std::any::type_name;\n",
    "\n",
    "fn type_of<T>(_: T) -> &'static str {\n",
    "    std::any::type_name::<T>()\n",
    "}\n",
    "\n",
    "let mut empty = String::new();\n",
    "let hi = \"hello\".to_string();\n",
    "let cat = String::from(\"Meow\");\n",
    "\n",
    "println!(\"{}\", type_of(hi));"
   ]
  },
  {
   "cell_type": "markdown",
   "id": "804af99f-4ac3-4b00-97aa-076ed19dcfa3",
   "metadata": {},
   "source": [
    "### Modifying strings"
   ]
  },
  {
   "cell_type": "code",
   "execution_count": null,
   "id": "b0826434-5240-4105-8c68-1198241fecda",
   "metadata": {},
   "outputs": [],
   "source": [
    "let mut hi = String::from(\"Hello\");\n",
    "hi.push(' ');\n",
    "hi.push_str(\"World\");\n",
    "println!(\"{}\", hi);\n",
    "\n",
    "let three = String::from(\"Three\");\n",
    "let two = String::from(\"Two\");\n",
    "let one = String::from(\"One\");\n",
    "\n",
    "let countdown1 = three + \", \" + &two + \", \" + &one + \"...\";\n",
    "println!(\"{}\", countdown1);\n",
    "\n",
    "let countdown2 = format!(\"{}, {}, {}...\", \"Three\", two, one);\n",
    "println!(\"{}\", countdown2);"
   ]
  },
  {
   "cell_type": "markdown",
   "id": "d992a2d1-bfe3-4a9d-b10b-34f3e2b38598",
   "metadata": {},
   "source": [
    "### Separating strings into characters"
   ]
  },
  {
   "cell_type": "code",
   "execution_count": null,
   "id": "404a284c-7aaf-4986-9b3e-478ce43ac8c8",
   "metadata": {},
   "outputs": [],
   "source": [
    "let s = String::from(\"Hello World\");\n",
    "\n",
    "println!(\"There are {} letters\", s.chars().count());\n",
    "\n",
    "for letter in s.chars() {\n",
    "    print!(\"{},\", letter);\n",
    "}\n",
    "\n",
    "println!(\"\");"
   ]
  }
 ],
 "metadata": {
  "kernelspec": {
   "display_name": "Rust",
   "language": "rust",
   "name": "rust"
  },
  "language_info": {
   "codemirror_mode": "rust",
   "file_extension": ".rs",
   "mimetype": "text/rust",
   "name": "Rust",
   "pygment_lexer": "rust",
   "version": ""
  }
 },
 "nbformat": 4,
 "nbformat_minor": 5
}
