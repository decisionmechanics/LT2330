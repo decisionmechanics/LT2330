{
 "cells": [
  {
   "cell_type": "markdown",
   "id": "f8d9ed8b-e962-4ee8-b2cb-5793d335742a",
   "metadata": {},
   "source": [
    "# Structs"
   ]
  },
  {
   "cell_type": "markdown",
   "id": "70a79fb0-a216-4eff-8ab1-95eb0f5373a1",
   "metadata": {},
   "source": [
    "## Defining and instantiating structs2"
   ]
  },
  {
   "cell_type": "markdown",
   "id": "f4ff6cce-dc16-435e-b83c-35699f036cbb",
   "metadata": {},
   "source": [
    "### Defining structs"
   ]
  },
  {
   "cell_type": "code",
   "execution_count": null,
   "id": "530fcd37-7bbd-43e9-8115-c7c60aecaf48",
   "metadata": {},
   "outputs": [],
   "source": [
    "struct User {\n",
    "    username: String,\n",
    "    email: String,\n",
    "    registered: bool,\n",
    "    upvotes: u32\n",
    "}"
   ]
  },
  {
   "cell_type": "markdown",
   "id": "b3b113ff-679a-41d6-9eac-0fb51add43c4",
   "metadata": {},
   "source": [
    "### Instantiating structs"
   ]
  },
  {
   "cell_type": "code",
   "execution_count": null,
   "id": "331a3b6a-b356-4ee9-8eee-ba349b3a2aef",
   "metadata": {},
   "outputs": [],
   "source": [
    "let john = User {\n",
    "    username: String::from(\"johndoe\"),\n",
    "    email: String::from(\"John.Doe@example.com\"),\n",
    "    registered: false,\n",
    "    upvotes: 0\n",
    "};\n",
    "\n",
    "let mut jane = User {\n",
    "    username: String::from(\"janedoe\"),\n",
    "    email: String::from(\"Jane.Doe@example.com\"),\n",
    "    registered: true,\n",
    "    upvotes: 5\n",
    "};\n",
    "\n",
    "jane.upvotes += 5;\n",
    "\n",
    "println!(\"{} has {} upvotes\", jane.username, jane.upvotes);"
   ]
  },
  {
   "cell_type": "markdown",
   "id": "66e7ef83-a698-4aa0-b990-45e48a6ba86a",
   "metadata": {},
   "source": [
    "### Struct update syntax"
   ]
  },
  {
   "cell_type": "code",
   "execution_count": null,
   "id": "a81340d2-4685-40f7-b478-0cfea6f44d3f",
   "metadata": {},
   "outputs": [],
   "source": [
    "let jane2 = User {\n",
    "    username: String::from(\"jane2\"),\n",
    "    ..jane\n",
    "};\n",
    "\n",
    "println!(\"{}'s email is {}\", jane2.username, jane2.email); "
   ]
  },
  {
   "cell_type": "markdown",
   "id": "ab67d3ea-5a83-4f11-a64b-202c8f772c86",
   "metadata": {},
   "source": [
    "### Tuple-like structs"
   ]
  },
  {
   "cell_type": "code",
   "execution_count": null,
   "id": "cb2fc3d7-3b6a-4646-ad95-905f45ec653e",
   "metadata": {},
   "outputs": [],
   "source": [
    "struct Coordinate(i32, i32);\n",
    "\n",
    "let pt1 = Coordinate(1, 5);\n",
    "let pt2 = Coordinate(3, 20);\n",
    "\n",
    "let area = (pt2.0 - pt1.0) * (pt2.1 - pt1.1);\n",
    "\n",
    "println!(\"The area is {}\", area);"
   ]
  },
  {
   "cell_type": "markdown",
   "id": "4b6c9cad-57c5-4663-919e-99b70dde3463",
   "metadata": {},
   "source": [
    "## Defining methods"
   ]
  },
  {
   "cell_type": "code",
   "execution_count": null,
   "id": "6124b3f0-11b0-418d-b80f-325f95ba8aee",
   "metadata": {},
   "outputs": [],
   "source": [
    "struct Rectangle {\n",
    "    x1: i32,\n",
    "    y1: i32,\n",
    "    x2: i32,\n",
    "    y2: i32,\n",
    "}\n",
    "\n",
    "impl Rectangle {\n",
    "    fn calculate_area(&self) -> i32 {\n",
    "        let width = (self.x2 - self.x1).abs();\n",
    "        let height = (self.y2 - self.y1).abs();\n",
    "        \n",
    "        width * height\n",
    "    }\n",
    "}\n",
    "\n",
    "let r = Rectangle {\n",
    "    x1: 5,\n",
    "    y1: 3,\n",
    "    x2: 12,\n",
    "    y2: 7\n",
    "};\n",
    "\n",
    "println!(\"The area is {}\", r.calculate_area());"
   ]
  },
  {
   "cell_type": "markdown",
   "id": "14a74394-caa4-4132-8c55-83d74dd595cd",
   "metadata": {},
   "source": [
    "### Methods with additional parameters"
   ]
  },
  {
   "cell_type": "code",
   "execution_count": null,
   "id": "c5007003-8ddd-44d7-a3e0-2856ff615ac1",
   "metadata": {},
   "outputs": [],
   "source": [
    "struct Rectangle {\n",
    "    x1: i32,\n",
    "    y1: i32,\n",
    "    x2: i32,\n",
    "    y2: i32,\n",
    "}\n",
    "\n",
    "impl Rectangle {\n",
    "    fn encloses(&self, x: i32, y: i32) -> bool {\n",
    "        x >= self.x1 && x <= self.x2 && y >= self.y1 && y <= self.y2\n",
    "    }\n",
    "}\n",
    "\n",
    "println!(\"Does it contain point (6, 6)? {}\", r.encloses(6, 6));"
   ]
  },
  {
   "cell_type": "markdown",
   "id": "d569ab0e-7247-4fd1-8426-965df953b154",
   "metadata": {},
   "source": [
    "## Lifetime parameters"
   ]
  },
  {
   "cell_type": "markdown",
   "id": "5c328d2d-d70b-4f3c-943a-dd77ce11f10d",
   "metadata": {},
   "source": [
    "### Naive approach to reusing struct instances"
   ]
  },
  {
   "cell_type": "code",
   "execution_count": null,
   "id": "6e81d4bb-5c9a-4d66-b19c-2a2e2c7e5bd4",
   "metadata": {},
   "outputs": [],
   "source": [
    "struct City {\n",
    "    name: String,\n",
    "    country: String\n",
    "}\n",
    "\n",
    "struct Attraction {\n",
    "    name: String,\n",
    "    city: City\n",
    "}\n",
    "\n",
    "{\n",
    "    let paris = City { \n",
    "        name: String::from(\"Paris\"), \n",
    "        country: String::from(\"France\")\n",
    "    };\n",
    "\n",
    "    let effiel_tower = Attraction {\n",
    "        name: String::from(\"Effiel Tower\"),\n",
    "        city: paris \n",
    "    };\n",
    "\n",
    "    println!(\"{}\", effiel_tower.city.name);\n",
    "\n",
    "    // Can't borrow moved value\n",
    "    println!(\"{}\", paris.name);\n",
    "}"
   ]
  },
  {
   "cell_type": "markdown",
   "id": "d21d4e28-e4dd-466e-97a3-e63224c464fb",
   "metadata": {},
   "source": [
    "### Reference with lifetime parameter"
   ]
  },
  {
   "cell_type": "code",
   "execution_count": null,
   "id": "02f4739c-d21d-47b4-b3c8-c45072fbe78d",
   "metadata": {},
   "outputs": [],
   "source": [
    "struct City {\n",
    "    name: String,\n",
    "    country: String\n",
    "}\n",
    "\n",
    "struct Attraction<'a> {\n",
    "    name: String,\n",
    "    city: &'a City\n",
    "}\n",
    "\n",
    "{\n",
    "    let paris = City { \n",
    "        name: String::from(\"Paris\"), \n",
    "        country: String::from(\"France\")\n",
    "    };\n",
    "\n",
    "    let effiel_tower = Attraction {\n",
    "        name: String::from(\"Effiel Tower\"),\n",
    "        city: &paris \n",
    "    };\n",
    "    \n",
    "    println!(\"{}\", effiel_tower.city.name);\n",
    "    println!(\"{}\", paris.name);\n",
    "}"
   ]
  }
 ],
 "metadata": {
  "kernelspec": {
   "display_name": "Rust",
   "language": "rust",
   "name": "rust"
  },
  "language_info": {
   "codemirror_mode": "rust",
   "file_extension": ".rs",
   "mimetype": "text/rust",
   "name": "Rust",
   "pygment_lexer": "rust",
   "version": ""
  }
 },
 "nbformat": 4,
 "nbformat_minor": 5
}
