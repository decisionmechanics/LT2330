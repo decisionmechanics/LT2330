{
 "cells": [
  {
   "cell_type": "markdown",
   "id": "43ad5c87-3dbc-4a7f-995b-ed079b46beed",
   "metadata": {},
   "source": [
    "# Generics and Traits"
   ]
  },
  {
   "cell_type": "markdown",
   "id": "4124be03-2188-4bd1-8a8d-06a915006cfd",
   "metadata": {},
   "source": [
    "### Why do we need generics?"
   ]
  },
  {
   "cell_type": "code",
   "execution_count": null,
   "id": "1ac398c0-aa64-485c-81f0-6dc6e740dd47",
   "metadata": {},
   "outputs": [],
   "source": [
    "fn get_largest(items: &[i32]) -> i32 {\n",
    "    let mut largest = items[0];\n",
    "    \n",
    "    for &item in items {\n",
    "        if item > largest {\n",
    "            largest = item;\n",
    "        }\n",
    "    }\n",
    "    \n",
    "    largest\n",
    "}\n",
    "\n",
    "let values1 = vec![57, 23, 98, 2, 71];\n",
    "println!(\"{}\", get_largest(&values1));\n",
    "\n",
    "// Won't compile\n",
    "let values2 = vec![57.0, 23.0, 98.0, 2.0, 71.0];\n",
    "println!(\"{}\", get_largest(&values2));"
   ]
  },
  {
   "cell_type": "markdown",
   "id": "55a38a59-271d-42c3-96d5-c8090fee3961",
   "metadata": {},
   "source": [
    "### Generic functions"
   ]
  },
  {
   "cell_type": "code",
   "execution_count": null,
   "id": "5779fcd7-4cd4-4f6d-982c-f459d33a56bd",
   "metadata": {},
   "outputs": [],
   "source": [
    "fn get_largest<T: Copy + PartialOrd>(items: &[T]) -> T {\n",
    "    let mut largest = items[0];\n",
    "    \n",
    "    for &item in items {\n",
    "        if item > largest {\n",
    "            largest = item;\n",
    "        }\n",
    "    }\n",
    "    \n",
    "    largest\n",
    "}\n",
    "\n",
    "let values1 = vec![57, 23, 98, 2, 71];\n",
    "println!(\"{}\", get_largest(&values1));\n",
    "\n",
    "let values2 = vec![57.0, 23.0, 98.0, 2.0, 71.0];\n",
    "println!(\"{}\", get_largest(&values2));"
   ]
  },
  {
   "cell_type": "markdown",
   "id": "14aa6049-6537-44eb-9baa-74603b9bde07",
   "metadata": {},
   "source": [
    "### Generic structs"
   ]
  },
  {
   "cell_type": "code",
   "execution_count": null,
   "id": "f7a08faa-71b5-4f6f-9ca1-71f16ef387e6",
   "metadata": {},
   "outputs": [],
   "source": [
    "struct Coordinate<T> {\n",
    "    x: T,\n",
    "    y: T\n",
    "}\n",
    "\n",
    "let coordinate1 = Coordinate { x: 1, y: 2 };\n",
    "let coordinate2 = Coordinate { x: 1.5, y: 2.5 };\n",
    "let coordinate3 = Coordinate { x: \"1px\", y: \"2px\" };\n",
    "\n",
    "println!(\"({}, {})\", coordinate3.x, coordinate3.y);"
   ]
  }
 ],
 "metadata": {
  "kernelspec": {
   "display_name": "Rust",
   "language": "rust",
   "name": "rust"
  },
  "language_info": {
   "codemirror_mode": "rust",
   "file_extension": ".rs",
   "mimetype": "text/rust",
   "name": "Rust",
   "pygment_lexer": "rust",
   "version": ""
  }
 },
 "nbformat": 4,
 "nbformat_minor": 5
}
