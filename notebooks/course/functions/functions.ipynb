{
 "cells": [
  {
   "cell_type": "markdown",
   "id": "5e9397fe-b4ef-4b93-8315-fd9aed57692a",
   "metadata": {},
   "source": [
    "# Functions"
   ]
  },
  {
   "cell_type": "markdown",
   "id": "bbd0f96e-b99a-4b71-a659-b0bb4c719035",
   "metadata": {},
   "source": [
    "## Declaring functions"
   ]
  },
  {
   "cell_type": "markdown",
   "id": "8f58640c-07c7-4514-b081-a65fb84dd630",
   "metadata": {},
   "source": [
    "### Subroutines (functions without a return value)"
   ]
  },
  {
   "cell_type": "code",
   "execution_count": null,
   "id": "7c2c93e4-b477-4683-8598-8b63418db3ce",
   "metadata": {},
   "outputs": [],
   "source": [
    "fn main() {\n",
    "    println!(\"Starting...\");\n",
    "}\n",
    "\n",
    "fn print_greeting() {\n",
    "    println!(\"Hello\");\n",
    "}\n",
    "\n",
    "fn print_number(n: i32) {\n",
    "    println!(\"The number is {n}\");\n",
    "}\n",
    "\n",
    "fn say(s: &str) {\n",
    "    println!(\"You said '{s}'.\");\n",
    "}\n",
    "\n",
    "print_greeting();\n",
    "print_number(42);\n",
    "say(\"Boo!\");"
   ]
  },
  {
   "cell_type": "markdown",
   "id": "a307c481-5b64-4109-b86a-3d16d5dd497f",
   "metadata": {},
   "source": [
    "### Functions that return a value"
   ]
  },
  {
   "cell_type": "code",
   "execution_count": null,
   "id": "907cb205-eb10-460d-ab97-1ae6c3109ba7",
   "metadata": {},
   "outputs": [],
   "source": [
    "fn calculate_pi() -> f64 {\n",
    "    22.0 / 7.0\n",
    "}\n",
    "\n",
    "fn cube(n: i32) -> i32 {\n",
    "    let c = i32::pow(n, 3);\n",
    "\n",
    "    c\n",
    "}\n",
    "\n",
    "fn get_primes() -> Vec<i32> {\n",
    "    vec![2, 3, 5, 7, 11]\n",
    "}\n",
    "\n",
    "println!(\"pi is {}\", calculate_pi()); \n",
    "println!(\"3 ^ 3 is {}\", cube(3)); \n",
    "println!(\"The first prime is {}\", get_primes()[0]); "
   ]
  },
  {
   "cell_type": "markdown",
   "id": "128d233b-6619-4c56-b9b6-4f4700f0b421",
   "metadata": {},
   "source": [
    "### Returning from a function early"
   ]
  },
  {
   "cell_type": "code",
   "execution_count": null,
   "id": "b605a8f1-0848-4312-8f17-d58a706c6a50",
   "metadata": {},
   "outputs": [],
   "source": [
    "fn display_division(n: i32, d: i32) {\n",
    "    if d == 0 {\n",
    "        println!(\"Cannot divide by zero\");\n",
    "        \n",
    "        return;\n",
    "    }\n",
    "    \n",
    "    println!(\"{n} / {d} is {}\", n / d);\n",
    "}\n",
    "\n",
    "fn calculate_division(n: i32, d: i32) -> i32 {\n",
    "    if d == 0 {\n",
    "        return 0;\n",
    "    }\n",
    "    \n",
    "    n / d\n",
    "}\n",
    "\n",
    "display_division(1, 0);\n",
    "println!(\"1 / 0 is {}\", calculate_division(1, 0));"
   ]
  },
  {
   "cell_type": "markdown",
   "id": "04413302-de05-49b5-8cec-b3d0df43b5e7",
   "metadata": {},
   "source": [
    "## Statements vs expressions"
   ]
  },
  {
   "cell_type": "markdown",
   "id": "2030c8d5-ca59-41a6-8e77-ca40e8e8a6d4",
   "metadata": {},
   "source": [
    "### Block expressions"
   ]
  },
  {
   "cell_type": "code",
   "execution_count": null,
   "id": "8a66aad5-f685-49b5-89e2-18cdce5b3ff8",
   "metadata": {
    "tags": []
   },
   "outputs": [],
   "source": [
    "let life = {\n",
    "    print!(\"The meaning of life is \");\n",
    "    \n",
    "    let x = 42;\n",
    "    \n",
    "    x\n",
    "};\n",
    "\n",
    "println!(\"{life}\");"
   ]
  },
  {
   "cell_type": "markdown",
   "id": "a4f73ce3-ad8f-49e2-a660-f209be0d6da5",
   "metadata": {},
   "source": [
    "### Functions that never return"
   ]
  },
  {
   "cell_type": "code",
   "execution_count": null,
   "id": "67ba80ff-dd4f-42df-824a-6c172e0edc43",
   "metadata": {},
   "outputs": [],
   "source": [
    "fn loop_forever() -> ! {\n",
    "    loop {};\n",
    "}\n",
    "\n",
    "fn crash() -> ! {\n",
    "    panic!(\"Oops!\");\n",
    "}\n",
    "\n",
    "// crash();"
   ]
  },
  {
   "cell_type": "markdown",
   "id": "2adec658-bc78-4943-9b65-33daa6124933",
   "metadata": {},
   "source": [
    "## Function pointers"
   ]
  },
  {
   "cell_type": "markdown",
   "id": "e05acaa3-61fe-465d-84c8-e7ddb9ae1325",
   "metadata": {
    "tags": []
   },
   "source": [
    "### Function pointers"
   ]
  },
  {
   "cell_type": "code",
   "execution_count": null,
   "id": "c9e3b3ca-f47e-4a2d-99b9-0fd3dfe7b2b5",
   "metadata": {},
   "outputs": [],
   "source": [
    "fn apply(i: i32, f: fn(i32) -> i32) -> i32 {\n",
    "    f(i)\n",
    "}\n",
    "\n",
    "fn cube(n: i32) -> i32 {\n",
    "    i32::pow(n, 3)\n",
    "}\n",
    "\n",
    "println!(\"2 ^ 3 is {}\", apply(2, cube));"
   ]
  }
 ],
 "metadata": {
  "kernelspec": {
   "display_name": "Rust",
   "language": "rust",
   "name": "rust"
  },
  "language_info": {
   "codemirror_mode": "rust",
   "file_extension": ".rs",
   "mimetype": "text/rust",
   "name": "Rust",
   "pygment_lexer": "rust",
   "version": ""
  }
 },
 "nbformat": 4,
 "nbformat_minor": 5
}
