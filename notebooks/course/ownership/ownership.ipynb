{
 "cells": [
  {
   "cell_type": "markdown",
   "id": "35fc4037-eca1-4ecd-b2f1-e45061cd5806",
   "metadata": {},
   "source": [
    "# Ownership"
   ]
  },
  {
   "cell_type": "markdown",
   "id": "1a218343-0831-4c99-97bf-48ff65d2d2b7",
   "metadata": {},
   "source": [
    "## Ownership"
   ]
  },
  {
   "cell_type": "markdown",
   "id": "2425a810-ec2a-4c63-99b9-fdea539e90da",
   "metadata": {},
   "source": [
    "### Scope"
   ]
  },
  {
   "cell_type": "code",
   "execution_count": null,
   "id": "95a02a11-e40a-484f-8129-a4ff8250001c",
   "metadata": {},
   "outputs": [],
   "source": [
    "{\n",
    "    let primes = vec![2, 3, 5, 7, 11];\n",
    "}\n",
    "\n",
    "// primes is removed from stake frame *and* heap"
   ]
  },
  {
   "cell_type": "markdown",
   "id": "1d1f016d-c27b-47e0-8669-aa165b89b435",
   "metadata": {},
   "source": [
    "### Transferring ownership"
   ]
  },
  {
   "cell_type": "code",
   "execution_count": null,
   "id": "b04f5b91-518c-42b1-81f1-f07a1a9c4ec3",
   "metadata": {},
   "outputs": [],
   "source": [
    "let primes = vec![2, 3, 5, 7, 11];\n",
    "let five_primes = primes;\n",
    "\n",
    "println!(\"The first prime number is {}\", primes[0]);"
   ]
  },
  {
   "cell_type": "markdown",
   "id": "27d4582f-94f1-490d-b196-afc6445c1a67",
   "metadata": {},
   "source": [
    "### Copy semantics"
   ]
  },
  {
   "cell_type": "code",
   "execution_count": null,
   "id": "b144d848-62a0-471b-8c1d-832d460b5ec5",
   "metadata": {},
   "outputs": [],
   "source": [
    "let prime_number = 3;\n",
    "let triangular_number = prime_number;\n",
    "\n",
    "println!(\"The second prime number is {}\", prime_number);"
   ]
  },
  {
   "cell_type": "markdown",
   "id": "d0701516-5f4f-449b-8886-c2a461db67c7",
   "metadata": {},
   "source": [
    "## Borrowing"
   ]
  },
  {
   "cell_type": "markdown",
   "id": "7040ca41-ac9f-46e6-9870-083dfba5db1d",
   "metadata": {},
   "source": [
    "### References"
   ]
  },
  {
   "cell_type": "code",
   "execution_count": null,
   "id": "58dae929-4cb3-4e71-a837-e33892256f1f",
   "metadata": {},
   "outputs": [],
   "source": [
    "fn sum(values: &Vec<i32>) -> i32 {\n",
    "    values.iter().sum()\n",
    "}\n",
    "\n",
    "let primes = vec![2, 3, 5, 7, 11];\n",
    "\n",
    "let sum_of_primes = sum(&primes);\n",
    "\n",
    "println!(\"The first prime number is {}\", primes[0]);\n",
    "println!(\"The sum of the prime numbers is {}\", sum_of_primes);"
   ]
  },
  {
   "cell_type": "markdown",
   "id": "764f0f1d-fcff-49ab-91a0-14c182572fa2",
   "metadata": {
    "tags": []
   },
   "source": [
    "### Mutable references"
   ]
  },
  {
   "cell_type": "code",
   "execution_count": null,
   "id": "1c72c105-cabe-4912-b8cc-3ce6a0858264",
   "metadata": {},
   "outputs": [],
   "source": [
    "// Original variable must be mutable\n",
    "let mut counter = 0;\n",
    "\n",
    "{\n",
    "    let counter_ref = &mut counter;\n",
    "\n",
    "    *counter_ref += 1;\n",
    "    *counter_ref += 1;\n",
    "}\n",
    "\n",
    "println!(\"{}\", counter);"
   ]
  },
  {
   "cell_type": "markdown",
   "id": "7235d424-1141-4b55-a70a-810fa00ab2c3",
   "metadata": {},
   "source": [
    "## Slices"
   ]
  },
  {
   "cell_type": "markdown",
   "id": "658b635f-68e4-4d3c-9ee8-f128565986ce",
   "metadata": {},
   "source": [
    "### Slicing strings"
   ]
  },
  {
   "cell_type": "code",
   "execution_count": null,
   "id": "ec4b9940-606e-47ee-8774-7a227582579e",
   "metadata": {},
   "outputs": [],
   "source": [
    "let text = \"Hello World\";\n",
    "let greeting = &text[0..5];\n",
    "let place = &text[6..11];\n",
    "\n",
    "println!(\"The greeting is '{}'\", greeting);\n",
    "println!(\"The place is '{}'\", place);\n",
    "println!(\"The orginal text is '{}'\", text);\n",
    "println!(\"The reconstructed text is '{}'\", greeting.to_string() + \" \" + place);"
   ]
  }
 ],
 "metadata": {
  "kernelspec": {
   "display_name": "Rust",
   "language": "rust",
   "name": "rust"
  },
  "language_info": {
   "codemirror_mode": "rust",
   "file_extension": ".rs",
   "mimetype": "text/rust",
   "name": "Rust",
   "pygment_lexer": "rust",
   "version": ""
  }
 },
 "nbformat": 4,
 "nbformat_minor": 5
}
