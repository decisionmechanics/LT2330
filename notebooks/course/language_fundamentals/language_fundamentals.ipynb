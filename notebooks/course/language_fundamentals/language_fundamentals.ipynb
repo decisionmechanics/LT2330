{
 "cells": [
  {
   "cell_type": "markdown",
   "id": "668a7984-01ec-4423-8f69-ec62c9207d3e",
   "metadata": {
    "tags": []
   },
   "source": [
    "# Language fundamentals"
   ]
  },
  {
   "cell_type": "markdown",
   "id": "bafd4bd5-e949-4f1d-ab4a-95847a037f2c",
   "metadata": {},
   "source": [
    "## Variables"
   ]
  },
  {
   "cell_type": "markdown",
   "id": "ad30e5be-0199-4b1c-bd95-d2105ac4785b",
   "metadata": {},
   "source": [
    "### Defining (immutable) variables"
   ]
  },
  {
   "cell_type": "code",
   "execution_count": null,
   "id": "f13cb3a8-af91-4c1a-b91a-1fc31f9a965f",
   "metadata": {},
   "outputs": [],
   "source": [
    "let x = 42;\n",
    "let pi = 3.1415;\n",
    "let s = \"Hello, 2330!\";\n",
    "let lie = false;\n",
    "\n",
    "println!(\"Meaning of life, the universe and everything is {}.\", x);\n",
    "\n",
    "let x = -1;\n",
    "println!(\"Meaning of life, the universe and everything is {}.\", x);"
   ]
  },
  {
   "cell_type": "markdown",
   "id": "da808067-6458-4030-9feb-c0bb83d3c19f",
   "metadata": {},
   "source": [
    "### Defining mutable variables"
   ]
  },
  {
   "cell_type": "code",
   "execution_count": null,
   "id": "b4cd3578-f4b3-4f4b-be60-dcc08699539a",
   "metadata": {},
   "outputs": [],
   "source": [
    "let mut x = 1;\n",
    "\n",
    "x += 1;\n",
    "x += 1;\n",
    "\n",
    "println!(\"x is {}\", x);"
   ]
  },
  {
   "cell_type": "markdown",
   "id": "5bfc7d75-d592-43b5-8350-fee1f9b7d03f",
   "metadata": {},
   "source": [
    "## Basic data types"
   ]
  },
  {
   "cell_type": "markdown",
   "id": "689d1c9b-7809-4e0e-aba6-8e739ae228d2",
   "metadata": {},
   "source": [
    "### Integer types"
   ]
  },
  {
   "cell_type": "code",
   "execution_count": null,
   "id": "d9d63763-3695-4d11-baa2-b68740f7ae42",
   "metadata": {},
   "outputs": [],
   "source": [
    "let x = 1; // i32\n",
    "\n",
    "let tiny: i8 = -5;\n",
    "let small: i16 = -4;\n",
    "let medium: i32 = -3;\n",
    "let large: i64 = -2;\n",
    "let huge: i128 = -1;\n",
    "\n",
    "let tiny2: u8 = 1;\n",
    "let small2: u16 = 2;\n",
    "let medium2: u32 = 3;\n",
    "let large2: u64 = 4;\n",
    "let huge2: u128 = 5;\n",
    "\n",
    "let tiny3 = 1i8;\n",
    "\n",
    "let huge3 = tiny as i128;"
   ]
  },
  {
   "cell_type": "markdown",
   "id": "2111dd6d-3de5-4dfc-a1b3-9fe28e60107d",
   "metadata": {},
   "source": [
    "### Integer literals "
   ]
  },
  {
   "cell_type": "code",
   "execution_count": null,
   "id": "e4ed15cd-e2b9-4bc5-90bb-cc933f34cdf4",
   "metadata": {},
   "outputs": [],
   "source": [
    "// Decimal\n",
    "println!(\"1bn is {}\", 1_000_000_000);\n",
    "// Binary\n",
    "println!(\"0b1101 is {}\", 0b1101);\n",
    "// Hexadecimal\n",
    "println!(\"0xe is {}\", 0xe);\n",
    "// Octal\n",
    "println!(\"0o17 is {}\", 0o17);\n",
    "// Byte\n",
    "println!(\"b' ' is {}\", b' ');"
   ]
  },
  {
   "cell_type": "markdown",
   "id": "1655b298-77ab-4179-b9fb-4ee5072ce6c8",
   "metadata": {},
   "source": [
    "### Floating-point types"
   ]
  },
  {
   "cell_type": "code",
   "execution_count": null,
   "id": "c8cc3579-24c3-4171-bad9-727bb6478120",
   "metadata": {},
   "outputs": [],
   "source": [
    "let pi = 3.1415; // f64\n",
    "let million: f32 = 1_000_000.;\n",
    "let billion: f64 = 10f64.powf(9f64);\n",
    "\n",
    "println!(\"pi is {}\", pi);\n",
    "println!(\"1m is {}\", million);\n",
    "println!(\"1bn is {}\", billion);\n",
    "\n",
    "let trillion = (million as f64).powf(2.);\n",
    "println!(\"1trn is {}\", trillion);"
   ]
  },
  {
   "cell_type": "markdown",
   "id": "ec3d7f46-8516-43a4-825f-74fc1bcb76cb",
   "metadata": {},
   "source": [
    "### Boolean type"
   ]
  },
  {
   "cell_type": "code",
   "execution_count": null,
   "id": "f41373d9-273d-4667-bc71-e9dc1f8ad1a8",
   "metadata": {},
   "outputs": [],
   "source": [
    "let world_is_round = true;\n",
    "let world_is_flat: bool = false;"
   ]
  },
  {
   "cell_type": "markdown",
   "id": "f6fbcfd8-8a05-4a78-90dc-9d6a60f90b83",
   "metadata": {},
   "source": [
    "### Character type"
   ]
  },
  {
   "cell_type": "code",
   "execution_count": null,
   "id": "dd5e248c-6eb6-4260-8694-6de1f6eedad3",
   "metadata": {},
   "outputs": [],
   "source": [
    "let c = 'a';\n",
    "let pi: char = 'π';\n",
    "let space_invader = '👾';\n",
    "\n",
    "println!(\"{} is 3.1515\", pi);\n",
    "\n",
    "println!(\n",
    "    \"{} consumes {} bytes\",\n",
    "    space_invader,\n",
    "    std::mem::size_of_val(&space_invader)\n",
    ");"
   ]
  },
  {
   "cell_type": "markdown",
   "id": "8e3d058b-4f50-4ef2-ac28-497a4734e96a",
   "metadata": {},
   "source": [
    "### Tuple type"
   ]
  },
  {
   "cell_type": "code",
   "execution_count": null,
   "id": "aa19f3aa-1ca5-45c9-8084-35fd98a1528c",
   "metadata": {},
   "outputs": [],
   "source": [
    "let sales = (1, 2.54);\n",
    "\n",
    "println!(\"${}bn of revenue was booked in Q{}\", sales.1, sales.0);\n",
    "\n",
    "let (quarter, revenue) = sales;\n",
    "println!(\"${}bn of revenue was booked in Q{}\", revenue, quarter);\n",
    "\n",
    "// Unit value\n",
    "let empty_tuple = ();"
   ]
  },
  {
   "cell_type": "markdown",
   "id": "20e75c4b-c334-41f2-9851-51dcec5fdf75",
   "metadata": {
    "jp-MarkdownHeadingCollapsed": true,
    "tags": []
   },
   "source": [
    "### Arrays"
   ]
  },
  {
   "cell_type": "code",
   "execution_count": null,
   "id": "8a8ff339-34c8-4048-ac1c-ae6733ae3d4b",
   "metadata": {},
   "outputs": [],
   "source": [
    "let primes = [2, 3, 5, 7, 11, 13, 17, 19, 23, 29];\n",
    "println!(\"There are {} prime numbers\", primes.len());\n",
    "println!(\"First prime is {}\", primes[0]);\n",
    "println!(\"Last prime is {}\", primes[primes.len() - 1]);\n",
    "\n",
    "let mut a = [1, 2, 3];\n",
    "a[2] = 4;\n",
    "println!(\"a[2] is now {}\", a[2]);\n",
    "\n",
    "let five_primes: [i32; 5] = [2, 3, 5, 7, 11];\n",
    "\n",
    "let six_ones = [1; 6];\n",
    "println!(\"Last value of six_ones is {}\", six_ones[5]);"
   ]
  },
  {
   "cell_type": "markdown",
   "id": "00a72bda-f430-4c5d-af2a-ccd135d5140f",
   "metadata": {},
   "source": [
    "## Operators and expressions"
   ]
  },
  {
   "cell_type": "markdown",
   "id": "2ca0b8fb-fc56-4a78-a436-2d464d7defa8",
   "metadata": {
    "tags": []
   },
   "source": [
    "### Math operators"
   ]
  },
  {
   "cell_type": "code",
   "execution_count": null,
   "id": "08c57baf-8189-4788-bbbf-76d3f9d504ba",
   "metadata": {},
   "outputs": [],
   "source": [
    "let x = 5 + 2;\n",
    "let y = 5 / 2;\n",
    "let z = 5 % 2;\n",
    "let minus_z = -z;\n",
    "\n",
    "println!(\"{}\", 5. / 2.);\n",
    "\n",
    "println!(\"{}\", (8 + 4) / 2);\n",
    "\n",
    "println!(\"abs(-1) is {}\", (-1i32).abs());\n",
    "println!(\"sqrt(2) is {}\", 2f64.sqrt());\n",
    "println!(\"2^8 is {}\", 2i32.pow(8));\n",
    "println!(\"sin(30) is {}\", (30. * 3.1415 / 180. as f64).sin());"
   ]
  },
  {
   "cell_type": "markdown",
   "id": "740a3957-00a3-4a38-889b-8748ef4eb614",
   "metadata": {},
   "source": [
    "### Comparison and logical operators"
   ]
  },
  {
   "cell_type": "code",
   "execution_count": null,
   "id": "8f2073e8-b6b0-4dbd-8075-b9844b3c2466",
   "metadata": {},
   "outputs": [],
   "source": [
    "println!(\"{}\", 1 == 2);\n",
    "println!(\"{}\", 1 != 2);\n",
    "\n",
    "println!(\"{}\", 1 > 2);\n",
    "println!(\"{}\", 1 >= 2);\n",
    "println!(\"{}\", 1 < 2);\n",
    "println!(\"{}\", 1 <= 2);\n",
    "\n",
    "let x = 42;\n",
    "println!(\"{}\", x > 0 && x % 2 == 0);\n",
    "println!(\"{}\", x < 0 || x % 2 == 1);"
   ]
  },
  {
   "cell_type": "markdown",
   "id": "6cd454ef-0e3d-4d8d-bc96-cb25c2a491e3",
   "metadata": {},
   "source": [
    "### Bitwise operators"
   ]
  },
  {
   "cell_type": "code",
   "execution_count": null,
   "id": "d0b2b8db-fd46-4a90-b511-93bb0b3f1042",
   "metadata": {},
   "outputs": [],
   "source": [
    "println!(\"{}\", 255 >> 2);\n",
    "println!(\"{}\", 4 | 8);\n",
    "println!(\"{}\", 12 & 8);\n",
    "println!(\"{}\", 12 ^ 255);"
   ]
  },
  {
   "cell_type": "markdown",
   "id": "7793e25b-611e-4234-a60a-8752b4d58f50",
   "metadata": {
    "tags": []
   },
   "source": [
    "### Assignment operators"
   ]
  },
  {
   "cell_type": "code",
   "execution_count": null,
   "id": "be484986-5965-43dc-b675-9a09c5f60d09",
   "metadata": {},
   "outputs": [],
   "source": [
    "let mut x = 1;\n",
    "x += 1;\n",
    "x *= 3;\n",
    "println!(\"{}\", x);\n",
    "\n",
    "let mut a = 255;\n",
    "a >>= 2;\n",
    "println!(\"{}\", a);\n",
    "\n",
    "let mut b = 4u8;\n",
    "b ^= 8;\n",
    "println!(\"{}\", b);"
   ]
  },
  {
   "cell_type": "markdown",
   "id": "a39d7742-32d9-495d-af09-80e7e2b23062",
   "metadata": {
    "tags": []
   },
   "source": [
    "### Ternary conditional pattern"
   ]
  },
  {
   "cell_type": "code",
   "execution_count": null,
   "id": "b65aa95f-b798-4997-adc8-1f6a032ba07a",
   "metadata": {},
   "outputs": [],
   "source": [
    "let x = 42;\n",
    "\n",
    "let sign = if x > 0 { \"+ve\" } else { \"-ve\" };\n",
    "println!(\"{}\", sign);\n",
    "\n",
    "let parity = if x % 2 == 0 { \"even\" } else { \"odd\" };\n",
    "println!(\"{}\", parity);"
   ]
  },
  {
   "cell_type": "markdown",
   "id": "d59506ab-7270-4741-b57e-efae98c31802",
   "metadata": {},
   "source": [
    "## Conditional statements"
   ]
  },
  {
   "cell_type": "markdown",
   "id": "165c7a85-e3da-49e3-b44c-5bef0e7ebd2c",
   "metadata": {},
   "source": [
    "### if-else expression"
   ]
  },
  {
   "cell_type": "code",
   "execution_count": null,
   "id": "50c569d4-443c-439a-a2c6-c561da064a96",
   "metadata": {},
   "outputs": [],
   "source": [
    "let x = 42;\n",
    "\n",
    "if x == 42 {\n",
    "    println!(\"The meaning of life, the universe and everything\");\n",
    "}\n",
    "\n",
    "let year = 2000;\n",
    "\n",
    "if year % 100 == 0 {\n",
    "    println!(\"{} is not a leap year\", x);\n",
    "} else if year % 4 == 0 {\n",
    "    println!(\"{} is a leap year\", x);\n",
    "} else {\n",
    "    println!(\"{} is not a leap year\", x);\n",
    "}"
   ]
  },
  {
   "cell_type": "markdown",
   "id": "69960b92-9098-4532-9ffe-904dcf300b5e",
   "metadata": {},
   "source": [
    "### Invalid if-else expression"
   ]
  },
  {
   "cell_type": "code",
   "execution_count": null,
   "id": "04f837ad-98bf-4af0-9ff2-bd27e6d6f7ba",
   "metadata": {},
   "outputs": [],
   "source": [
    "// Won't compile as all branches must result in same type\n",
    "let x = if true { 1 } else { 3.1415 };"
   ]
  },
  {
   "cell_type": "markdown",
   "id": "88731dd7-673e-4067-a8b9-2eb42a403516",
   "metadata": {},
   "source": [
    "## Loops"
   ]
  },
  {
   "cell_type": "markdown",
   "id": "df44f03a-7de3-49dc-b8be-f8e476b56ce4",
   "metadata": {},
   "source": [
    "### loop expressions"
   ]
  },
  {
   "cell_type": "code",
   "execution_count": null,
   "id": "5fece66d-1a82-447e-a052-dd89ffe8871b",
   "metadata": {},
   "outputs": [],
   "source": [
    "loop {\n",
    "    println!(\"This will get very tedious...\");\n",
    "    break;\n",
    "}"
   ]
  },
  {
   "cell_type": "markdown",
   "id": "f8b6591f-8139-41f9-8432-b14173e6d6f0",
   "metadata": {},
   "source": [
    "### Exiting loops"
   ]
  },
  {
   "cell_type": "code",
   "execution_count": null,
   "id": "db2758ad-1108-4cf5-858b-6f2bdeb46194",
   "metadata": {},
   "outputs": [],
   "source": [
    "let mut countdown = 10;\n",
    "\n",
    "loop {\n",
    "    if countdown <= 0 {\n",
    "        break;\n",
    "    }\n",
    "\n",
    "    println!(\"{}...\", countdown);\n",
    "\n",
    "    countdown -= 1;\n",
    "}\n",
    "\n",
    "println!(\"Blast off!\");"
   ]
  },
  {
   "cell_type": "markdown",
   "id": "2180e8ac-b515-4401-a465-da389cc7e168",
   "metadata": {},
   "source": [
    "### Returning values from loop expressions"
   ]
  },
  {
   "cell_type": "code",
   "execution_count": null,
   "id": "3b241fad-55b6-4fa5-a8f8-f41623f85640",
   "metadata": {},
   "outputs": [],
   "source": [
    "const MAXIMUM_VALUE: i32 = 100;\n",
    "\n",
    "let mut running_sum_of_squares = 0;\n",
    "let mut i = 1;\n",
    "\n",
    "let sum_of_squares = loop {\n",
    "    running_sum_of_squares += i * i;\n",
    "\n",
    "    if i >= MAXIMUM_VALUE {\n",
    "        break running_sum_of_squares;\n",
    "    }\n",
    "\n",
    "    i += 1;\n",
    "};\n",
    "\n",
    "println!(\"Sum of squares from 1 to 100 is {}\", sum_of_squares);"
   ]
  },
  {
   "cell_type": "markdown",
   "id": "2bfbaec1-a95f-4497-aca4-52a9aafabec7",
   "metadata": {},
   "source": [
    "### while loops"
   ]
  },
  {
   "cell_type": "code",
   "execution_count": null,
   "id": "5710b501-902f-4117-a8cd-499a4c356cd8",
   "metadata": {},
   "outputs": [],
   "source": [
    "b"
   ]
  },
  {
   "cell_type": "markdown",
   "id": "d97863f4-7da2-4238-818f-c0d969b063e2",
   "metadata": {},
   "source": [
    "### for loops"
   ]
  },
  {
   "cell_type": "code",
   "execution_count": null,
   "id": "e8fa4f86-ca09-44ca-af6d-e1d28a2f08de",
   "metadata": {},
   "outputs": [],
   "source": [
    "let primes = [2, 3, 5, 7, 11, 13, 17, 19, 23, 29];\n",
    "\n",
    "let mut sum_of_primes = 0;\n",
    "\n",
    "for prime in primes {\n",
    "    sum_of_primes += prime;\n",
    "}\n",
    "\n",
    "println!(\"Sum of primes is {}\", sum_of_primes);"
   ]
  },
  {
   "cell_type": "markdown",
   "id": "f814736d-e04e-4282-bf2a-2958f80b79c6",
   "metadata": {},
   "source": [
    "### Range expressions"
   ]
  },
  {
   "cell_type": "code",
   "execution_count": null,
   "id": "a68fcd03-c650-4f0b-b555-2e6c5b5238cd",
   "metadata": {},
   "outputs": [],
   "source": [
    "let mut total = 0;\n",
    "\n",
    "// Loop over 1 to 10 (upper limit is exclusive)\n",
    "for i in 1..11 {\n",
    "    total += i;\n",
    "}\n",
    "\n",
    "println!(\"Total is {}\", total);"
   ]
  },
  {
   "cell_type": "markdown",
   "id": "21e5edc9-23bb-4371-9f87-153d5ba4b267",
   "metadata": {},
   "source": [
    "### Inclusive range expressions"
   ]
  },
  {
   "cell_type": "code",
   "execution_count": null,
   "id": "409dae6d-f052-402e-abf4-92d0ecdfb1d2",
   "metadata": {},
   "outputs": [],
   "source": [
    "let mut total = 0;\n",
    "\n",
    "// Loop over 1 to 10\n",
    "for i in 1..=10 {\n",
    "    total += i;\n",
    "}\n",
    "\n",
    "println!(\"Total is {}\", total);"
   ]
  },
  {
   "cell_type": "markdown",
   "id": "0e91585a-2f82-402d-9211-2965a42a3c2b",
   "metadata": {
    "tags": []
   },
   "source": [
    "### Reversing range expressions"
   ]
  },
  {
   "cell_type": "code",
   "execution_count": null,
   "id": "04b583fd-db19-49c5-9b2c-a7205282cb79",
   "metadata": {},
   "outputs": [],
   "source": [
    "for countdown in (1..=10).rev() {\n",
    "    println!(\"{}...\", countdown);\n",
    "}\n",
    "\n",
    "println!(\"Blast off!\");"
   ]
  },
  {
   "cell_type": "markdown",
   "id": "0387a519-7270-447b-9fd5-c7260f2c4855",
   "metadata": {},
   "source": [
    "## Comments"
   ]
  },
  {
   "cell_type": "markdown",
   "id": "f92d8c74-82e8-421a-ac1b-6aa5792be748",
   "metadata": {},
   "source": [
    "### Comments"
   ]
  },
  {
   "cell_type": "code",
   "execution_count": null,
   "id": "3f917525-f80a-46c0-99ae-cf9179e7683b",
   "metadata": {},
   "outputs": [],
   "source": [
    "// It's difficult to boil the meaning of\n",
    "// life, the universe and everything down\n",
    "// to a single number. And why 42?!\n",
    "let x = 42;\n",
    "\n",
    "/*\n",
    "   It's difficult to boil the meaning of\n",
    "   life, the universe and everything down\n",
    "   to a single number. And why 43?!\n",
    "*/\n",
    "let y = 43;\n",
    "\n",
    "let pi = 3.1415; // rounded to 4dp"
   ]
  }
 ],
 "metadata": {
  "kernelspec": {
   "display_name": "Rust",
   "language": "rust",
   "name": "rust"
  },
  "language_info": {
   "codemirror_mode": "rust",
   "file_extension": ".rs",
   "mimetype": "text/rust",
   "name": "Rust",
   "pygment_lexer": "rust",
   "version": ""
  }
 },
 "nbformat": 4,
 "nbformat_minor": 5
}
