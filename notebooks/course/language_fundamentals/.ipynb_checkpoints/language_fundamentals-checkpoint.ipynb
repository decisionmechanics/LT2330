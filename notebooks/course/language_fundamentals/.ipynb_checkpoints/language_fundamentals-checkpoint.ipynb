{
 "cells": [
  {
   "cell_type": "markdown",
   "id": "668a7984-01ec-4423-8f69-ec62c9207d3e",
   "metadata": {},
   "source": [
    "# Language fundamentals"
   ]
  },
  {
   "cell_type": "markdown",
   "id": "bafd4bd5-e949-4f1d-ab4a-95847a037f2c",
   "metadata": {},
   "source": [
    "## Variablesa"
   ]
  },
  {
   "cell_type": "markdown",
   "id": "ad30e5be-0199-4b1c-bd95-d2105ac4785b",
   "metadata": {},
   "source": [
    "### Defining (immutable) variables"
   ]
  },
  {
   "cell_type": "code",
   "execution_count": null,
   "id": "f13cb3a8-af91-4c1a-b91a-1fc31f9a965f",
   "metadata": {},
   "outputs": [],
   "source": [
    "let x = 42;\n",
    "let pi = 3.1415;\n",
    "let s = \"Hello, 2330!\";\n",
    "let lie = false;\n",
    "\n",
    "println!(\"Meaning of life, the universe and everything is {}.\", x);"
   ]
  },
  {
   "cell_type": "markdown",
   "id": "da808067-6458-4030-9feb-c0bb83d3c19f",
   "metadata": {},
   "source": [
    "### Defining mutable variables"
   ]
  },
  {
   "cell_type": "code",
   "execution_count": null,
   "id": "b4cd3578-f4b3-4f4b-be60-dcc08699539a",
   "metadata": {},
   "outputs": [],
   "source": [
    "let mut x = 1;\n",
    "\n",
    "x += 1;\n",
    "x += 1;\n",
    "\n",
    "println!(\"x is {}\", x);"
   ]
  },
  {
   "cell_type": "markdown",
   "id": "5bfc7d75-d592-43b5-8350-fee1f9b7d03f",
   "metadata": {},
   "source": [
    "## Basic data types"
   ]
  },
  {
   "cell_type": "markdown",
   "id": "689d1c9b-7809-4e0e-aba6-8e739ae228d2",
   "metadata": {},
   "source": [
    "### Integer types"
   ]
  },
  {
   "cell_type": "code",
   "execution_count": null,
   "id": "d9d63763-3695-4d11-baa2-b68740f7ae42",
   "metadata": {},
   "outputs": [],
   "source": [
    "let tiny: i8 = -5;\n",
    "let small: i16 = -4;\n",
    "let medium: i32 = -3;\n",
    "let large: i64 = -2;\n",
    "let huge: i128 = -1;\n",
    "\n",
    "let tiny2: u8 = 1;\n",
    "let small2: u16 = 2;\n",
    "let medium2: u32 = 3;\n",
    "let large2: u64 = 4;\n",
    "let huge2: u128 = 5;\n",
    "\n",
    "let tiny3 = 1i8;\n",
    "\n",
    "let huge3 = tiny as i128;"
   ]
  },
  {
   "cell_type": "markdown",
   "id": "2111dd6d-3de5-4dfc-a1b3-9fe28e60107d",
   "metadata": {},
   "source": [
    "### Integer literals "
   ]
  },
  {
   "cell_type": "code",
   "execution_count": null,
   "id": "e4ed15cd-e2b9-4bc5-90bb-cc933f34cdf4",
   "metadata": {},
   "outputs": [],
   "source": [
    "// Decimal\n",
    "println!(\"1bn is {}\", 1_000_000_000);\n",
    "// Binary\n",
    "println!(\"0b1101 is {}\", 0b1101);\n",
    "// Hexadecimal\n",
    "println!(\"0xe is {}\", 0xe);\n",
    "// Octal\n",
    "println!(\"0o17 is {}\", 0o17);\n",
    "// Byte\n",
    "println!(\"b' ' is {}\", b' ');"
   ]
  },
  {
   "cell_type": "markdown",
   "id": "1655b298-77ab-4179-b9fb-4ee5072ce6c8",
   "metadata": {},
   "source": [
    "### Floating-point types"
   ]
  },
  {
   "cell_type": "code",
   "execution_count": null,
   "id": "c8cc3579-24c3-4171-bad9-727bb6478120",
   "metadata": {},
   "outputs": [],
   "source": [
    "let pi: f32 = 3.1415;\n",
    "let million: f32 = 1_000_000.;\n",
    "let billion: f64 = 10f64.powf(9f64);\n",
    "\n",
    "println!(\"pi is {}\", pi);\n",
    "println!(\"1m is {}\", million);\n",
    "println!(\"1bn is {}\", billion);\n",
    "\n",
    "let trillion = (million as f64).powf(2.);\n",
    "println!(\"1trn is {}\", trillion);"
   ]
  }
 ],
 "metadata": {
  "kernelspec": {
   "display_name": "Rust",
   "language": "rust",
   "name": "rust"
  },
  "language_info": {
   "codemirror_mode": "rust",
   "file_extension": ".rs",
   "mimetype": "text/rust",
   "name": "Rust",
   "pygment_lexer": "rust",
   "version": ""
  }
 },
 "nbformat": 4,
 "nbformat_minor": 5
}
