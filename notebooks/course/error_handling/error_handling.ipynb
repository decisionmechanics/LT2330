{
 "cells": [
  {
   "cell_type": "markdown",
   "id": "307f5bbc-0401-4ca1-9675-1a2a61b876af",
   "metadata": {},
   "source": [
    "# Error Handling"
   ]
  },
  {
   "cell_type": "markdown",
   "id": "7ba51b7a-3ac8-4872-9fbb-27f517eb94fd",
   "metadata": {},
   "source": [
    "## Unrecoverable errors"
   ]
  },
  {
   "cell_type": "markdown",
   "id": "cb041d55-0ccc-4760-ad61-870667513574",
   "metadata": {},
   "source": [
    "### panic!king"
   ]
  },
  {
   "cell_type": "code",
   "execution_count": null,
   "id": "01f88d20-3baa-4171-9cde-05ad8b96cf2b",
   "metadata": {},
   "outputs": [],
   "source": [
    "// Directly invoked panic\n",
    "panic!(\"Oops...\");\n",
    "\n",
    "// Panic in library code\n",
    "let v = vec![0];\n",
    "let x = v[1];"
   ]
  },
  {
   "cell_type": "markdown",
   "id": "807cad7c-cd82-4faf-bd1a-3970ccc3ce62",
   "metadata": {},
   "source": [
    "## Recoverable errors"
   ]
  },
  {
   "cell_type": "markdown",
   "id": "80c646ad-cac7-4d41-b8ac-2fb320b45d35",
   "metadata": {},
   "source": [
    "### Handling the result"
   ]
  },
  {
   "cell_type": "code",
   "execution_count": null,
   "id": "8104e09d-6b15-4f4b-88b0-7a1602cfc2ca",
   "metadata": {},
   "outputs": [],
   "source": [
    "use std::fs;\n",
    "\n",
    "let text = fs::read_to_string(\"data.txt\");\n",
    "\n",
    "let text = match text {\n",
    "    Ok(text) => text,\n",
    "    Err(error) => panic!(\"Can't read from file [{}]\", error.to_string())\n",
    "};\n",
    "\n",
    "println!(\"{}\", text);"
   ]
  },
  {
   "cell_type": "markdown",
   "id": "164a3c4b-ca09-4d9e-b7df-ada23447799f",
   "metadata": {},
   "source": [
    "### Distinguishing between different errors"
   ]
  },
  {
   "cell_type": "code",
   "execution_count": null,
   "id": "f724a66f-0c14-4f8b-88cd-0ff80081200c",
   "metadata": {},
   "outputs": [],
   "source": [
    "use std::fs;\n",
    "use std::io::ErrorKind;\n",
    "\n",
    "let text = fs::read_to_string(\"missing.txt\");\n",
    "\n",
    "let text = match text {\n",
    "    Ok(text) => text,\n",
    "    Err(error) => match error.kind() {\n",
    "        ErrorKind::NotFound => panic!(\"Urgh. File missing.\"),\n",
    "        _ => panic!(error.to_string())\n",
    "    }\n",
    "};\n",
    "\n",
    "println!(\"{}\", text);"
   ]
  },
  {
   "cell_type": "markdown",
   "id": "fef3fe99-2f65-44d0-876f-91c98a2cb358",
   "metadata": {},
   "source": [
    "### Propagating errors with the `?` operator"
   ]
  },
  {
   "cell_type": "code",
   "execution_count": null,
   "id": "747a4e57-a9c8-4e0d-bff6-0ccbb0631ecd",
   "metadata": {},
   "outputs": [],
   "source": [
    "use std::fs;\n",
    "use std::io;\n",
    "\n",
    "fn read_text(file_name: &str) -> Result<String, io::Error> {\n",
    "    let text = fs::read_to_string(file_name)?;\n",
    "\n",
    "    Ok(text.to_lowercase())\n",
    "}\n",
    "\n",
    "let text = match read_text(\"data.txt\") {\n",
    "    Ok(text) => text,\n",
    "    Err(error) => panic!(\"Can't read from file [{}]\", error.to_string())\n",
    "};\n",
    "\n",
    "println!(\"{}\", text);"
   ]
  },
  {
   "cell_type": "markdown",
   "id": "b2b05ae0-4189-45be-91e3-a752220591de",
   "metadata": {},
   "source": [
    "## Unwrapping results"
   ]
  },
  {
   "cell_type": "code",
   "execution_count": null,
   "id": "334ae93e-c9fb-4da7-b6e9-5899d09257c8",
   "metadata": {},
   "outputs": [],
   "source": [
    "use std::fs;\n",
    "\n",
    "let text1 = fs::read_to_string(\"data.txt\").unwrap();\n",
    "println!(\"{}\", text1);\n",
    "\n",
    "let text2 = fs::read_to_string(\"missing.txt\").expect(\"Oops!\");"
   ]
  }
 ],
 "metadata": {
  "kernelspec": {
   "display_name": "Rust",
   "language": "rust",
   "name": "rust"
  },
  "language_info": {
   "codemirror_mode": "rust",
   "file_extension": ".rs",
   "mimetype": "text/rust",
   "name": "Rust",
   "pygment_lexer": "rust",
   "version": ""
  }
 },
 "nbformat": 4,
 "nbformat_minor": 5
}
