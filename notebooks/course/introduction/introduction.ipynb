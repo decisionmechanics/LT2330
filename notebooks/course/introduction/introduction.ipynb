{
 "cells": [
  {
   "cell_type": "markdown",
   "id": "eca23efe-5c08-4b9c-b820-504ab3844904",
   "metadata": {},
   "source": [
    "# Introduction and overview"
   ]
  },
  {
   "cell_type": "markdown",
   "id": "68f233e1-5360-466b-8e07-ff73167b3321",
   "metadata": {},
   "source": [
    "### Rust notebooks"
   ]
  },
  {
   "cell_type": "code",
   "execution_count": null,
   "id": "785125a9-f480-4c81-a49a-4894ac9417d8",
   "metadata": {
    "tags": []
   },
   "outputs": [],
   "source": [
    "fn is_prime(n: i64) -> bool {\n",
    "    let maximum = (n as f64).sqrt() as i64;\n",
    "\n",
    "    for i in 2..=maximum {\n",
    "        if n % i == 0 {\n",
    "            return false;\n",
    "        }\n",
    "    }\n",
    "\n",
    "    return true;\n",
    "}"
   ]
  },
  {
   "cell_type": "code",
   "execution_count": null,
   "id": "48059756-4378-411d-acea-bf374802dbeb",
   "metadata": {},
   "outputs": [],
   "source": [
    "is_prime(2)"
   ]
  },
  {
   "cell_type": "markdown",
   "id": "04c5cab6-e0b2-45c8-993d-17a166f065bb",
   "metadata": {},
   "source": [
    "Check if `4` is prime."
   ]
  },
  {
   "cell_type": "markdown",
   "id": "03310c9a-c537-4505-a81e-b9a29e506853",
   "metadata": {},
   "source": [
    "#### _Solution_"
   ]
  },
  {
   "cell_type": "code",
   "execution_count": null,
   "id": "03e415d7-d3a4-40d5-9197-37d3fc4863b4",
   "metadata": {
    "jupyter": {
     "source_hidden": true
    },
    "tags": []
   },
   "outputs": [],
   "source": [
    "is_prime(4)"
   ]
  },
  {
   "cell_type": "code",
   "execution_count": null,
   "id": "be782b78-faf7-4479-bb61-43896f77f1ef",
   "metadata": {},
   "outputs": [],
   "source": [
    "for i in 2..=20 {    \n",
    "    println!(\"{} {} prime\", i, if is_prime(i) { \"is\" } else { \"isn't\"} )\n",
    "}"
   ]
  }
 ],
 "metadata": {
  "kernelspec": {
   "display_name": "Rust",
   "language": "rust",
   "name": "rust"
  },
  "language_info": {
   "codemirror_mode": "rust",
   "file_extension": ".rs",
   "mimetype": "text/rust",
   "name": "Rust",
   "pygment_lexer": "rust",
   "version": ""
  }
 },
 "nbformat": 4,
 "nbformat_minor": 5
}
