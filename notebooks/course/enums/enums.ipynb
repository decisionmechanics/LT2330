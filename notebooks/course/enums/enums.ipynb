{
 "cells": [
  {
   "cell_type": "markdown",
   "id": "c3e59f32-a820-4a05-b0e6-647c9a30e842",
   "metadata": {},
   "source": [
    "# Enums and Pattern Matching"
   ]
  },
  {
   "cell_type": "markdown",
   "id": "915f694c-df8c-4047-92a1-54aeec60a4c0",
   "metadata": {},
   "source": [
    "## Defining enums"
   ]
  },
  {
   "cell_type": "markdown",
   "id": "494c31fb-74d7-4c39-af50-e84b2629c81e",
   "metadata": {},
   "source": [
    "### Defining enums"
   ]
  },
  {
   "cell_type": "code",
   "execution_count": null,
   "id": "f3dbaecf-7e0f-407e-a588-33612d6ce1b4",
   "metadata": {},
   "outputs": [],
   "source": [
    "enum Suit {\n",
    "    Clubs,\n",
    "    Diamonds,\n",
    "    Hearts,\n",
    "    Spades\n",
    "}\n",
    "\n",
    "let clubs = Suit::Clubs;\n",
    "\n",
    "fn IsDiamonds(suit: Suit) -> bool {\n",
    "    matches!(suit, Suit::Diamonds)\n",
    "}\n",
    "\n",
    "println!(\"Is diamonds? {}\", IsDiamonds(clubs));\n",
    "println!(\"Is diamonds? {}\", IsDiamonds(Suit::Diamonds));"
   ]
  },
  {
   "cell_type": "markdown",
   "id": "3622867a-b2e3-4baf-bb9f-c6f00c7d60ec",
   "metadata": {},
   "source": [
    "### Enums with data"
   ]
  },
  {
   "cell_type": "code",
   "execution_count": null,
   "id": "0429f586-e2bf-4f86-a2b9-6914763e020c",
   "metadata": {},
   "outputs": [],
   "source": [
    "enum Color {\n",
    "    Black,\n",
    "    White,\n",
    "    Red,\n",
    "    Yellow,\n",
    "    Blue,\n",
    "    RGB { r: i32, g: i32, b: i32 },\n",
    "    Hex(String)\n",
    "}\n",
    "\n",
    "let black = Color::Black;\n",
    "let hot_pink = Color::RGB { r: 255, g: 105, b: 180 };\n",
    "let lime = Color::Hex(String::from(\"#00FF00\"));"
   ]
  },
  {
   "cell_type": "markdown",
   "id": "84c81140-3025-4173-a2ce-ad7f10daeb30",
   "metadata": {},
   "source": [
    "### Using the `Option` enum"
   ]
  },
  {
   "cell_type": "code",
   "execution_count": null,
   "id": "7b596906-d01d-4e4d-ab60-42950a87b621",
   "metadata": {},
   "outputs": [],
   "source": [
    "let mut middle_name: Option<String>;\n",
    "\n",
    "middle_name = Option::None;\n",
    "middle_name = Option::Some(String::from(\"Sue\"));\n",
    "\n",
    "println!(\"Is none? {}\", !middle_name.is_some());\n",
    "println!(\"Middle name is {}\", middle_name.unwrap());"
   ]
  },
  {
   "cell_type": "markdown",
   "id": "abc64f59-be88-4b3d-b108-47bd2b516388",
   "metadata": {},
   "source": [
    "## Pattern matching"
   ]
  },
  {
   "cell_type": "markdown",
   "id": "44fa4c5e-94f4-4c19-8491-5877d3b5d737",
   "metadata": {},
   "source": [
    "### Simple arms"
   ]
  },
  {
   "cell_type": "code",
   "execution_count": null,
   "id": "d9d6486c-4c25-450b-8271-3bfc372f5cbd",
   "metadata": {},
   "outputs": [],
   "source": [
    "enum WagerKind {\n",
    "    Single,\n",
    "    Double,\n",
    "    Yankee\n",
    "}\n",
    "\n",
    "let wagerKind = WagerKind::Yankee;\n",
    "\n",
    "let number_of_bets = match wagerKind {\n",
    "    WagerKind::Single => Some(1),\n",
    "    WagerKind::Double => Some(2),\n",
    "    WagerKind::Yankee => Some(11),\n",
    "    _ => None\n",
    "};\n",
    "\n",
    "println!(\"# bets in wager {}\", number_of_bets.unwrap());"
   ]
  },
  {
   "cell_type": "markdown",
   "id": "0ee6edd9-f912-4264-b3e2-936fa95bb972",
   "metadata": {},
   "source": [
    "### Destructuring arms"
   ]
  },
  {
   "cell_type": "code",
   "execution_count": null,
   "id": "9812f7c2-7193-47ea-ae3a-0ec6a14090c7",
   "metadata": {},
   "outputs": [],
   "source": [
    "let hot_pink = Color::RGB { r: 255, g: 105, b: 180 };\n",
    "\n",
    "match hot_pink {\n",
    "    Color::RGB { r, g, b } =>  { \n",
    "        println!(\"RGB color ({}, {}, {})\", r, g, b);  \n",
    "    },\n",
    "    Color::Hex(s) =>  { \n",
    "        println!(\"Hex color ({})\", s); \n",
    "    },\n",
    "    _ => { \n",
    "        println!(\"Other color type\"); \n",
    "    }\n",
    "}"
   ]
  },
  {
   "cell_type": "markdown",
   "id": "fb2db90c-2e41-47d1-9830-ab2d073e9ba8",
   "metadata": {},
   "source": [
    "### Ranges"
   ]
  },
  {
   "cell_type": "code",
   "execution_count": null,
   "id": "71f3fddf-d098-4093-902e-fd7428657c3b",
   "metadata": {},
   "outputs": [],
   "source": [
    "let age = 16;\n",
    "\n",
    "let group = match age {\n",
    "    0..=18 => \"school age\",\n",
    "    19..=22 => \"college age\",\n",
    "    _ => \"an adult\"\n",
    "};\n",
    "    \n",
    "println!(\"At {} you are {}\", age, group);"
   ]
  },
  {
   "cell_type": "markdown",
   "id": "5b63b5e3-dab3-4533-823c-22aace22d662",
   "metadata": {
    "tags": []
   },
   "source": [
    "### Guards"
   ]
  },
  {
   "cell_type": "code",
   "execution_count": null,
   "id": "f5464f92-244c-4bc9-b49a-5bcc4c4efa2d",
   "metadata": {},
   "outputs": [],
   "source": [
    "let yellow = Color::RGB { r: 255, g: 255, b: 0 };\n",
    "\n",
    "match yellow {\n",
    "    Color::RGB { r, g, b } if r <= 10 => {\n",
    "        println!(\"No red\"); \n",
    "    },\n",
    "    Color::RGB { r, g, b } if g <= 10 => {\n",
    "        println!(\"No green\"); \n",
    "    },\n",
    "    Color::RGB { r, g, b } if b <= 10 => {\n",
    "        println!(\"No blue\"); \n",
    "    },    \n",
    "    _ => {\n",
    "        println!(\"All colors represented\");\n",
    "    }\n",
    "}"
   ]
  },
  {
   "cell_type": "markdown",
   "id": "82416e3f-34f5-490c-9d95-a267a3bb99d1",
   "metadata": {},
   "source": [
    "### if let"
   ]
  },
  {
   "cell_type": "code",
   "execution_count": null,
   "id": "9825eb20-60bf-4a91-9003-5bc7cebf3a4a",
   "metadata": {},
   "outputs": [],
   "source": [
    "let optional_number = Some(42);\n",
    "\n",
    "if let Some(n) = optional_number {\n",
    "    println!(\"The number was {}\", n);\n",
    "} else {\n",
    "    println!(\"There was no number\");\n",
    "}"
   ]
  }
 ],
 "metadata": {
  "kernelspec": {
   "display_name": "Rust",
   "language": "rust",
   "name": "rust"
  },
  "language_info": {
   "codemirror_mode": "rust",
   "file_extension": ".rs",
   "mimetype": "text/rust",
   "name": "Rust",
   "pygment_lexer": "rust",
   "version": ""
  }
 },
 "nbformat": 4,
 "nbformat_minor": 5
}
