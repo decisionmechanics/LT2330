{
 "cells": [
  {
   "cell_type": "markdown",
   "id": "4ab0e523-154e-4bee-88bc-e7039d5f8b90",
   "metadata": {},
   "source": [
    "# Crates and Modules"
   ]
  },
  {
   "cell_type": "markdown",
   "id": "6d80f919-525f-482d-acb4-009923bfffa9",
   "metadata": {},
   "source": [
    "## Crates"
   ]
  },
  {
   "cell_type": "markdown",
   "id": "77184567-d6ff-4f66-a81b-514355715da9",
   "metadata": {},
   "source": [
    "### Creating library crates"
   ]
  },
  {
   "cell_type": "code",
   "execution_count": null,
   "id": "cf81a1f6-3544-4451-8599-ba5b853f6ffd",
   "metadata": {},
   "outputs": [],
   "source": [
    "// math.rs\n",
    "\n",
    "pub fn factorial(n: i32) -> i32 {\n",
    "    let mut result = 1;\n",
    "\n",
    "    for i in 2..=n {\n",
    "        result *= i;\n",
    "    }\n",
    "\n",
    "    result\n",
    "}\n",
    "\n",
    "pub fn combinations(n: i32, r: i32) -> i32 {\n",
    "    factorial(n) / (factorial(n - r) * factorial(r))\n",
    "}"
   ]
  },
  {
   "cell_type": "markdown",
   "id": "a48901bf-fa6c-4cf8-8e27-5bd54712476a",
   "metadata": {},
   "source": [
    "### Compiling library crates"
   ]
  },
  {
   "cell_type": "raw",
   "id": "568c7260-8cd7-47ba-86d1-578ff890dc3e",
   "metadata": {},
   "source": [
    "rustc --crate-type=lib math.rs\n",
    "\n",
    "// rustc --crate-type=lib --crate-name combinatorials.rs"
   ]
  },
  {
   "cell_type": "markdown",
   "id": "559633da-e58c-4167-b52a-70d97b9b965f",
   "metadata": {},
   "source": [
    "### Using the library"
   ]
  },
  {
   "cell_type": "code",
   "execution_count": null,
   "id": "5e50f47f-ea30-42b7-a6f5-8ae5b33d22bc",
   "metadata": {},
   "outputs": [],
   "source": [
    "// main.rs\n",
    "\n",
    "fn main() {\n",
    "    let c = math::combinations(10, 4);\n",
    "\n",
    "    println!(\"10 C 4 is {}\", c);\n",
    "}\n",
    "\n",
    "// Compile executable using:\n",
    "// rustc main.rs --extern math=libmath.rlib"
   ]
  },
  {
   "cell_type": "markdown",
   "id": "d7dde65c-6083-46e9-976c-35e30d2ac4a6",
   "metadata": {},
   "source": [
    "## Modules"
   ]
  },
  {
   "cell_type": "markdown",
   "id": "de4f486a-1a2e-408c-a4e1-46e747b249ad",
   "metadata": {},
   "source": [
    "### Defining modules"
   ]
  },
  {
   "cell_type": "code",
   "execution_count": null,
   "id": "17ae61b0-5f5b-4de8-be8b-1c4f11340b68",
   "metadata": {},
   "outputs": [],
   "source": [
    "// combinatorics.rs\n",
    "\n",
    "fn factorial(n: i32) -> i32 {\n",
    "    let mut result = 1;\n",
    "\n",
    "    for i in 2..=n {\n",
    "        result *= i;\n",
    "    }\n",
    "\n",
    "    result\n",
    "}\n",
    "\n",
    "pub fn combinations(n: i32, r: i32) -> i32 {\n",
    "    factorial(n) / (factorial(n - r) * factorial(r))\n",
    "}"
   ]
  },
  {
   "cell_type": "markdown",
   "id": "e5548437-4f14-4bd2-a261-27931554feae",
   "metadata": {},
   "source": [
    "### Using modules"
   ]
  },
  {
   "cell_type": "code",
   "execution_count": null,
   "id": "55ebd412-6395-4142-8498-6ee98c56b8ff",
   "metadata": {},
   "outputs": [],
   "source": [
    "// main.rs\n",
    "\n",
    "mod combinatorics;\n",
    "\n",
    "fn main() {\n",
    "    let c = combinatorics::combinations(10, 4);\n",
    "\n",
    "    println!(\"10 C 4 is {}\", c);\n",
    "\n",
    "    // Can't call module's private function\n",
    "    // println!(\"6! is\", combinatorics::factorial(6));\n",
    "}\n",
    "\n",
    "// Compile executable using:\n",
    "// rustc main.rs"
   ]
  }
 ],
 "metadata": {
  "kernelspec": {
   "display_name": "Rust",
   "language": "rust",
   "name": "rust"
  },
  "language_info": {
   "codemirror_mode": "rust",
   "file_extension": ".rs",
   "mimetype": "text/rust",
   "name": "Rust",
   "pygment_lexer": "rust",
   "version": ""
  }
 },
 "nbformat": 4,
 "nbformat_minor": 5
}
